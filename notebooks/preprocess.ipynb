{
 "cells": [
  {
   "cell_type": "markdown",
   "metadata": {},
   "source": [
    "- 데이터 필터링은 charge session 단위가 아니라 'cid' 단위로 할것.\n",
    "    - 동일 cid의 일부 charge sessio을 제외할 경우 시간순에 따라 windowing을 하여 피쳐를 생성하는 과정에서 왜곡이 발생함"
   ]
  },
  {
   "cell_type": "code",
   "execution_count": 89,
   "metadata": {},
   "outputs": [],
   "source": [
    "import pandas as pd\n",
    "\n",
    "pd.options.display.float_format = '{: .2f}'.format"
   ]
  },
  {
   "cell_type": "code",
   "execution_count": 90,
   "metadata": {},
   "outputs": [],
   "source": [
    "# 가장 최근의 2021년 7월~ 12월 (6개월) 데이터 로드\n",
    "\n",
    "df = pd.read_csv('../data/한국전력공사_전기차충전소충전량(202107_202112).csv', \n",
    "                 parse_dates=['충전종료일자', '충전시작시각', '충전종료시각'], \n",
    "                 encoding='cp949')"
   ]
  },
  {
   "cell_type": "code",
   "execution_count": 91,
   "metadata": {},
   "outputs": [
    {
     "data": {
      "text/html": [
       "<div>\n",
       "<style scoped>\n",
       "    .dataframe tbody tr th:only-of-type {\n",
       "        vertical-align: middle;\n",
       "    }\n",
       "\n",
       "    .dataframe tbody tr th {\n",
       "        vertical-align: top;\n",
       "    }\n",
       "\n",
       "    .dataframe thead th {\n",
       "        text-align: right;\n",
       "    }\n",
       "</style>\n",
       "<table border=\"1\" class=\"dataframe\">\n",
       "  <thead>\n",
       "    <tr style=\"text-align: right;\">\n",
       "      <th></th>\n",
       "      <th>본부</th>\n",
       "      <th>사업소</th>\n",
       "      <th>충전소명</th>\n",
       "      <th>충전기</th>\n",
       "      <th>충전기ID</th>\n",
       "      <th>주소</th>\n",
       "      <th>충전기구분</th>\n",
       "      <th>충전용량</th>\n",
       "      <th>충전량</th>\n",
       "      <th>충전시간</th>\n",
       "      <th>충전분</th>\n",
       "      <th>충전종료일자</th>\n",
       "      <th>충전시작시각</th>\n",
       "      <th>충전종료시각</th>\n",
       "    </tr>\n",
       "  </thead>\n",
       "  <tbody>\n",
       "    <tr>\n",
       "      <th>0</th>\n",
       "      <td>강원</td>\n",
       "      <td>강원직할</td>\n",
       "      <td>강원직할</td>\n",
       "      <td>완속05</td>\n",
       "      <td>1296</td>\n",
       "      <td>강원도 춘천시 수풍골길 7</td>\n",
       "      <td>완속</td>\n",
       "      <td>7.00</td>\n",
       "      <td>13.17</td>\n",
       "      <td>2</td>\n",
       "      <td>39</td>\n",
       "      <td>2021-07-01</td>\n",
       "      <td>2021-07-01 19:35:55</td>\n",
       "      <td>2021-07-01 22:15:42</td>\n",
       "    </tr>\n",
       "    <tr>\n",
       "      <th>1</th>\n",
       "      <td>남서울</td>\n",
       "      <td>남서울직할</td>\n",
       "      <td>남서울직할</td>\n",
       "      <td>급속01</td>\n",
       "      <td>8858</td>\n",
       "      <td>서울특별시 영등포구 여의도동 21</td>\n",
       "      <td>급속</td>\n",
       "      <td>50.00</td>\n",
       "      <td>15.84</td>\n",
       "      <td>0</td>\n",
       "      <td>24</td>\n",
       "      <td>2021-07-01</td>\n",
       "      <td>2021-07-01 14:30:46</td>\n",
       "      <td>2021-07-01 14:54:51</td>\n",
       "    </tr>\n",
       "    <tr>\n",
       "      <th>2</th>\n",
       "      <td>남서울</td>\n",
       "      <td>남서울직할</td>\n",
       "      <td>남서울직할</td>\n",
       "      <td>급속01</td>\n",
       "      <td>8858</td>\n",
       "      <td>서울특별시 영등포구 여의도동 21</td>\n",
       "      <td>급속</td>\n",
       "      <td>50.00</td>\n",
       "      <td>11.70</td>\n",
       "      <td>0</td>\n",
       "      <td>43</td>\n",
       "      <td>2021-07-01</td>\n",
       "      <td>2021-07-01 16:52:38</td>\n",
       "      <td>2021-07-01 17:36:36</td>\n",
       "    </tr>\n",
       "    <tr>\n",
       "      <th>3</th>\n",
       "      <td>강원</td>\n",
       "      <td>강원직할</td>\n",
       "      <td>강원직할</td>\n",
       "      <td>완속02</td>\n",
       "      <td>1293</td>\n",
       "      <td>강원도 춘천시 수풍골길 7</td>\n",
       "      <td>완속</td>\n",
       "      <td>7.00</td>\n",
       "      <td>5.40</td>\n",
       "      <td>1</td>\n",
       "      <td>23</td>\n",
       "      <td>2021-07-01</td>\n",
       "      <td>2021-07-01 10:58:58</td>\n",
       "      <td>2021-07-01 12:22:29</td>\n",
       "    </tr>\n",
       "    <tr>\n",
       "      <th>4</th>\n",
       "      <td>강원</td>\n",
       "      <td>강원직할</td>\n",
       "      <td>강원직할</td>\n",
       "      <td>완속02</td>\n",
       "      <td>1293</td>\n",
       "      <td>강원도 춘천시 수풍골길 7</td>\n",
       "      <td>완속</td>\n",
       "      <td>7.00</td>\n",
       "      <td>5.53</td>\n",
       "      <td>2</td>\n",
       "      <td>11</td>\n",
       "      <td>2021-07-01</td>\n",
       "      <td>2021-07-01 16:46:25</td>\n",
       "      <td>2021-07-01 18:58:12</td>\n",
       "    </tr>\n",
       "  </tbody>\n",
       "</table>\n",
       "</div>"
      ],
      "text/plain": [
       "    본부    사업소   충전소명   충전기  충전기ID                  주소 충전기구분   충전용량    충전량  \\\n",
       "0   강원   강원직할   강원직할  완속05   1296      강원도 춘천시 수풍골길 7    완속   7.00  13.17   \n",
       "1  남서울  남서울직할  남서울직할  급속01   8858  서울특별시 영등포구 여의도동 21    급속  50.00  15.84   \n",
       "2  남서울  남서울직할  남서울직할  급속01   8858  서울특별시 영등포구 여의도동 21    급속  50.00  11.70   \n",
       "3   강원   강원직할   강원직할  완속02   1293      강원도 춘천시 수풍골길 7    완속   7.00   5.40   \n",
       "4   강원   강원직할   강원직할  완속02   1293      강원도 춘천시 수풍골길 7    완속   7.00   5.53   \n",
       "\n",
       "   충전시간  충전분     충전종료일자              충전시작시각              충전종료시각  \n",
       "0     2   39 2021-07-01 2021-07-01 19:35:55 2021-07-01 22:15:42  \n",
       "1     0   24 2021-07-01 2021-07-01 14:30:46 2021-07-01 14:54:51  \n",
       "2     0   43 2021-07-01 2021-07-01 16:52:38 2021-07-01 17:36:36  \n",
       "3     1   23 2021-07-01 2021-07-01 10:58:58 2021-07-01 12:22:29  \n",
       "4     2   11 2021-07-01 2021-07-01 16:46:25 2021-07-01 18:58:12  "
      ]
     },
     "execution_count": 91,
     "metadata": {},
     "output_type": "execute_result"
    }
   ],
   "source": [
    "df.head()"
   ]
  },
  {
   "cell_type": "code",
   "execution_count": 92,
   "metadata": {},
   "outputs": [],
   "source": [
    "drop_cols = ['본부', '사업소', '충전소명', '충전기', '주소', '충전종료일자']\n",
    "rename_dict = {'충전기ID':'cid', '충전기구분':'charger_type', '충전용량':'charging_power', \n",
    "               '충전량':'charge_amount', '충전시간':'hour', '충전분':'minute',\n",
    "               '충전시작시각':'start_time', '충전종료시각':'finish_time'}\n",
    "\n",
    "# df = df.drop(drop_cols, axis=1)\n",
    "df = df.rename(columns=rename_dict)\n",
    "df = df.loc[df['charger_type'] == '급속']\n",
    "df['duration'] = df.hour.multiply(60).add(df.minute)\n",
    "df = df.drop(['charger_type', 'hour', 'minute'], axis=1)"
   ]
  },
  {
   "cell_type": "code",
   "execution_count": 93,
   "metadata": {},
   "outputs": [
    {
     "name": "stdout",
     "output_type": "stream",
     "text": [
      "<class 'pandas.core.frame.DataFrame'>\n",
      "Int64Index: 583023 entries, 1 to 1048572\n",
      "Data columns (total 12 columns):\n",
      " #   Column          Non-Null Count   Dtype         \n",
      "---  ------          --------------   -----         \n",
      " 0   본부              583023 non-null  object        \n",
      " 1   사업소             583023 non-null  object        \n",
      " 2   충전소명            583023 non-null  object        \n",
      " 3   충전기             583023 non-null  object        \n",
      " 4   cid             583023 non-null  int64         \n",
      " 5   주소              582745 non-null  object        \n",
      " 6   charging_power  556320 non-null  float64       \n",
      " 7   charge_amount   583023 non-null  float64       \n",
      " 8   충전종료일자          583023 non-null  datetime64[ns]\n",
      " 9   start_time      583023 non-null  datetime64[ns]\n",
      " 10  finish_time     583023 non-null  datetime64[ns]\n",
      " 11  duration        583023 non-null  int64         \n",
      "dtypes: datetime64[ns](3), float64(2), int64(2), object(5)\n",
      "memory usage: 57.8+ MB\n"
     ]
    }
   ],
   "source": [
    "df.info()"
   ]
  },
  {
   "cell_type": "code",
   "execution_count": 94,
   "metadata": {},
   "outputs": [
    {
     "data": {
      "text/plain": [
       "8080"
      ]
     },
     "execution_count": 94,
     "metadata": {},
     "output_type": "execute_result"
    }
   ],
   "source": [
    "# 8080개 device\n",
    "df.cid.nunique()"
   ]
  },
  {
   "cell_type": "code",
   "execution_count": 95,
   "metadata": {},
   "outputs": [
    {
     "data": {
      "text/plain": [
       "7723"
      ]
     },
     "execution_count": 95,
     "metadata": {},
     "output_type": "execute_result"
    }
   ],
   "source": [
    "# 7~12월 간의 데이터이지만 실질적으로 10월 17일까지의 로그만 존재함\n",
    "df.describe(datetime_is_numeric=True)\n",
    "\n",
    "# 7~9의 3개월 데이터만 분리\n",
    "df = df[df.start_time.between('2021-07-01', '2021-10-01')]\n",
    "df.cid.nunique()"
   ]
  },
  {
   "cell_type": "code",
   "execution_count": 96,
   "metadata": {},
   "outputs": [],
   "source": [
    "# 실질적으로 활발히 운영되는 충전기로 한정하기 위하여, 분석기간(3개월) 내 첫주와 마지막주에 모두 충전시작이 있는 충전기로 제한\n",
    "\n",
    "first_charge = df.groupby('cid')['start_time'].min()\n",
    "valid_id_first = first_charge[first_charge < '2021-07-07'].index\n",
    "\n",
    "last_charge = df.groupby('cid')['start_time'].max()\n",
    "valid_id_last = last_charge[last_charge > '2021-09-23'].index"
   ]
  },
  {
   "cell_type": "code",
   "execution_count": 97,
   "metadata": {},
   "outputs": [
    {
     "data": {
      "text/plain": [
       "3213"
      ]
     },
     "execution_count": 97,
     "metadata": {},
     "output_type": "execute_result"
    }
   ],
   "source": [
    "# 총 3,213개의 충전기\n",
    "valid_cid = set(valid_id_first).intersection(valid_id_last)\n",
    "len(valid_cid)"
   ]
  },
  {
   "cell_type": "code",
   "execution_count": 98,
   "metadata": {},
   "outputs": [
    {
     "data": {
      "text/plain": [
       "(0.9060910215866905, 441530)"
      ]
     },
     "execution_count": 98,
     "metadata": {},
     "output_type": "execute_result"
    }
   ],
   "source": [
    "# 총 충전의 90% 이상이며 3개월간 441,530건\n",
    "df.cid.isin(valid_cid).mean(), df.cid.isin(valid_cid).sum()"
   ]
  },
  {
   "cell_type": "code",
   "execution_count": 99,
   "metadata": {},
   "outputs": [],
   "source": [
    "# valid_cid의 로그만 선택하여 charge 테이블 생성\n",
    "charge = df[df.cid.isin(valid_cid)].copy()"
   ]
  },
  {
   "cell_type": "code",
   "execution_count": 100,
   "metadata": {},
   "outputs": [
    {
     "data": {
      "text/html": [
       "<div>\n",
       "<style scoped>\n",
       "    .dataframe tbody tr th:only-of-type {\n",
       "        vertical-align: middle;\n",
       "    }\n",
       "\n",
       "    .dataframe tbody tr th {\n",
       "        vertical-align: top;\n",
       "    }\n",
       "\n",
       "    .dataframe thead th {\n",
       "        text-align: right;\n",
       "    }\n",
       "</style>\n",
       "<table border=\"1\" class=\"dataframe\">\n",
       "  <thead>\n",
       "    <tr style=\"text-align: right;\">\n",
       "      <th></th>\n",
       "      <th>본부</th>\n",
       "      <th>사업소</th>\n",
       "      <th>충전소명</th>\n",
       "      <th>충전기</th>\n",
       "      <th>cid</th>\n",
       "      <th>주소</th>\n",
       "      <th>charging_power</th>\n",
       "      <th>charge_amount</th>\n",
       "      <th>충전종료일자</th>\n",
       "      <th>start_time</th>\n",
       "      <th>finish_time</th>\n",
       "      <th>duration</th>\n",
       "    </tr>\n",
       "  </thead>\n",
       "  <tbody>\n",
       "    <tr>\n",
       "      <th>10</th>\n",
       "      <td>경기북부</td>\n",
       "      <td>양평</td>\n",
       "      <td>양평지사</td>\n",
       "      <td>급속02</td>\n",
       "      <td>8833</td>\n",
       "      <td>경기도 양평군 강상면 강남로 933</td>\n",
       "      <td>50.00</td>\n",
       "      <td>13.00</td>\n",
       "      <td>2021-07-01</td>\n",
       "      <td>2021-07-01 11:19:00</td>\n",
       "      <td>2021-07-01 11:41:11</td>\n",
       "      <td>22</td>\n",
       "    </tr>\n",
       "    <tr>\n",
       "      <th>11</th>\n",
       "      <td>경남</td>\n",
       "      <td>창녕</td>\n",
       "      <td>창녕지사</td>\n",
       "      <td>급속01</td>\n",
       "      <td>471</td>\n",
       "      <td>경상남도 창녕군 창녕읍 남창녕로 71 (교하리, 한국전력공사 창녕지점)</td>\n",
       "      <td>50.00</td>\n",
       "      <td>27.05</td>\n",
       "      <td>2021-07-01</td>\n",
       "      <td>2021-07-01 07:26:01</td>\n",
       "      <td>2021-07-01 08:05:16</td>\n",
       "      <td>39</td>\n",
       "    </tr>\n",
       "    <tr>\n",
       "      <th>12</th>\n",
       "      <td>경남</td>\n",
       "      <td>창녕</td>\n",
       "      <td>창녕지사</td>\n",
       "      <td>급속01</td>\n",
       "      <td>471</td>\n",
       "      <td>경상남도 창녕군 창녕읍 남창녕로 71 (교하리, 한국전력공사 창녕지점)</td>\n",
       "      <td>50.00</td>\n",
       "      <td>10.64</td>\n",
       "      <td>2021-07-01</td>\n",
       "      <td>2021-07-01 13:56:30</td>\n",
       "      <td>2021-07-01 14:17:05</td>\n",
       "      <td>20</td>\n",
       "    </tr>\n",
       "    <tr>\n",
       "      <th>24</th>\n",
       "      <td>경북</td>\n",
       "      <td>문경</td>\n",
       "      <td>문경지사</td>\n",
       "      <td>급속01</td>\n",
       "      <td>792</td>\n",
       "      <td>경상북도 문경시 모전로 75</td>\n",
       "      <td>50.00</td>\n",
       "      <td>36.35</td>\n",
       "      <td>2021-07-01</td>\n",
       "      <td>2021-07-01 01:50:09</td>\n",
       "      <td>2021-07-01 03:04:14</td>\n",
       "      <td>74</td>\n",
       "    </tr>\n",
       "    <tr>\n",
       "      <th>27</th>\n",
       "      <td>경기</td>\n",
       "      <td>경기직할</td>\n",
       "      <td>경기직할</td>\n",
       "      <td>급속02</td>\n",
       "      <td>879</td>\n",
       "      <td>경기도 수원시 팔달구 중부대로 120</td>\n",
       "      <td>50.00</td>\n",
       "      <td>7.69</td>\n",
       "      <td>2021-07-01</td>\n",
       "      <td>2021-07-01 07:14:24</td>\n",
       "      <td>2021-07-01 07:54:04</td>\n",
       "      <td>39</td>\n",
       "    </tr>\n",
       "  </tbody>\n",
       "</table>\n",
       "</div>"
      ],
      "text/plain": [
       "      본부   사업소  충전소명   충전기   cid                                       주소  \\\n",
       "10  경기북부    양평  양평지사  급속02  8833                      경기도 양평군 강상면 강남로 933   \n",
       "11    경남    창녕  창녕지사  급속01   471  경상남도 창녕군 창녕읍 남창녕로 71 (교하리, 한국전력공사 창녕지점)   \n",
       "12    경남    창녕  창녕지사  급속01   471  경상남도 창녕군 창녕읍 남창녕로 71 (교하리, 한국전력공사 창녕지점)   \n",
       "24    경북    문경  문경지사  급속01   792                          경상북도 문경시 모전로 75   \n",
       "27    경기  경기직할  경기직할  급속02   879                     경기도 수원시 팔달구 중부대로 120   \n",
       "\n",
       "    charging_power  charge_amount     충전종료일자          start_time  \\\n",
       "10           50.00          13.00 2021-07-01 2021-07-01 11:19:00   \n",
       "11           50.00          27.05 2021-07-01 2021-07-01 07:26:01   \n",
       "12           50.00          10.64 2021-07-01 2021-07-01 13:56:30   \n",
       "24           50.00          36.35 2021-07-01 2021-07-01 01:50:09   \n",
       "27           50.00           7.69 2021-07-01 2021-07-01 07:14:24   \n",
       "\n",
       "           finish_time  duration  \n",
       "10 2021-07-01 11:41:11        22  \n",
       "11 2021-07-01 08:05:16        39  \n",
       "12 2021-07-01 14:17:05        20  \n",
       "24 2021-07-01 03:04:14        74  \n",
       "27 2021-07-01 07:54:04        39  "
      ]
     },
     "execution_count": 100,
     "metadata": {},
     "output_type": "execute_result"
    }
   ],
   "source": [
    "charge.head()"
   ]
  },
  {
   "cell_type": "code",
   "execution_count": 101,
   "metadata": {},
   "outputs": [
    {
     "name": "stdout",
     "output_type": "stream",
     "text": [
      "<class 'pandas.core.frame.DataFrame'>\n",
      "Int64Index: 441530 entries, 10 to 899545\n",
      "Data columns (total 12 columns):\n",
      " #   Column          Non-Null Count   Dtype         \n",
      "---  ------          --------------   -----         \n",
      " 0   본부              441530 non-null  object        \n",
      " 1   사업소             441530 non-null  object        \n",
      " 2   충전소명            441530 non-null  object        \n",
      " 3   충전기             441530 non-null  object        \n",
      " 4   cid             441530 non-null  int64         \n",
      " 5   주소              441422 non-null  object        \n",
      " 6   charging_power  436187 non-null  float64       \n",
      " 7   charge_amount   441530 non-null  float64       \n",
      " 8   충전종료일자          441530 non-null  datetime64[ns]\n",
      " 9   start_time      441530 non-null  datetime64[ns]\n",
      " 10  finish_time     441530 non-null  datetime64[ns]\n",
      " 11  duration        441530 non-null  int64         \n",
      "dtypes: datetime64[ns](3), float64(2), int64(2), object(5)\n",
      "memory usage: 43.8+ MB\n"
     ]
    }
   ],
   "source": [
    "# charging_power에서 null 발생 ->  피쳐로 활용할 것 이므로 null row 제거\n",
    "charge.info()"
   ]
  },
  {
   "cell_type": "code",
   "execution_count": 102,
   "metadata": {},
   "outputs": [],
   "source": [
    "power_null_ids = charge[charge.charging_power.isna()].cid.unique()\n",
    "charge = charge[~charge.cid.isin(power_null_ids)]"
   ]
  },
  {
   "cell_type": "code",
   "execution_count": 103,
   "metadata": {},
   "outputs": [
    {
     "data": {
      "text/plain": [
       "array([ 50., 200., 100.])"
      ]
     },
     "execution_count": 103,
     "metadata": {},
     "output_type": "execute_result"
    }
   ],
   "source": [
    "charge.charging_power.unique()"
   ]
  },
  {
   "cell_type": "markdown",
   "metadata": {},
   "source": [
    "### duration 이상치 필터링"
   ]
  },
  {
   "cell_type": "code",
   "execution_count": 104,
   "metadata": {},
   "outputs": [
    {
     "data": {
      "text/plain": [
       "count    436187.00\n",
       "mean         51.09\n",
       "std          83.39\n",
       "min           0.00\n",
       "25%          25.00\n",
       "50%          42.00\n",
       "75%          66.00\n",
       "max       24369.00\n",
       "Name: duration, dtype: float64"
      ]
     },
     "execution_count": 104,
     "metadata": {},
     "output_type": "execute_result"
    }
   ],
   "source": [
    "charge.duration.describe()"
   ]
  },
  {
   "cell_type": "code",
   "execution_count": 105,
   "metadata": {},
   "outputs": [
    {
     "data": {
      "text/plain": [
       "(-208.18165142488976, 292.18165142488976)"
      ]
     },
     "execution_count": 105,
     "metadata": {},
     "output_type": "execute_result"
    }
   ],
   "source": [
    "import numpy as np\n",
    "\n",
    "def outlier_bound(array):\n",
    "    stdev = np.std(array)\n",
    "    med = np.median(array)\n",
    "    return med - 3*stdev, med + 3*stdev\n",
    "\n",
    "outlier_bound(charge.duration)"
   ]
  },
  {
   "cell_type": "code",
   "execution_count": 106,
   "metadata": {},
   "outputs": [
    {
     "data": {
      "text/plain": [
       "(1915, 0.004390318831143524)"
      ]
     },
     "execution_count": 106,
     "metadata": {},
     "output_type": "execute_result"
    }
   ],
   "source": [
    "# 292분 초과하는 경우 1,915건으로 전체 중 0.4% 가량\n",
    "charge.duration.gt(outlier_bound(charge.duration)[1]).sum(), charge.duration.gt(outlier_bound(charge.duration)[1]).mean()"
   ]
  },
  {
   "cell_type": "code",
   "execution_count": 107,
   "metadata": {},
   "outputs": [],
   "source": [
    "outlier_cid = charge[charge.duration.gt(outlier_bound(charge.duration)[1])].cid.unique()"
   ]
  },
  {
   "cell_type": "code",
   "execution_count": 108,
   "metadata": {},
   "outputs": [],
   "source": [
    "charge = charge[~charge.cid.isin(outlier_cid)]"
   ]
  },
  {
   "cell_type": "code",
   "execution_count": 109,
   "metadata": {},
   "outputs": [
    {
     "data": {
      "text/plain": [
       "2453"
      ]
     },
     "execution_count": 109,
     "metadata": {},
     "output_type": "execute_result"
    }
   ],
   "source": [
    "# 2453개의 cid\n",
    "charge.cid.nunique()"
   ]
  },
  {
   "cell_type": "code",
   "execution_count": 110,
   "metadata": {},
   "outputs": [
    {
     "data": {
      "text/plain": [
       "count    2453.00\n",
       "mean        1.58\n",
       "std         1.84\n",
       "min         0.03\n",
       "25%         0.51\n",
       "50%         1.03\n",
       "75%         2.02\n",
       "max        24.48\n",
       "Name: charging_power, dtype: float64"
      ]
     },
     "execution_count": 110,
     "metadata": {},
     "output_type": "execute_result"
    }
   ],
   "source": [
    "# 충전기당-일당 충전횟수는 최대 24.48회 최소 0.03회\n",
    "charge.groupby('cid')['charging_power'].count().divide(92).describe()"
   ]
  },
  {
   "cell_type": "code",
   "execution_count": 111,
   "metadata": {},
   "outputs": [
    {
     "data": {
      "text/plain": [
       "<AxesSubplot: ylabel='Frequency'>"
      ]
     },
     "execution_count": 111,
     "metadata": {},
     "output_type": "execute_result"
    },
    {
     "data": {
      "image/png": "[encoded data removed]",
      "text/plain": [
       "<Figure size 640x480 with 1 Axes>"
      ]
     },
     "metadata": {},
     "output_type": "display_data"
    }
   ],
   "source": [
    "charge.groupby('cid')['charging_power'].count().plot(kind='hist', range=(90,500))"
   ]
  },
  {
   "cell_type": "code",
   "execution_count": 112,
   "metadata": {},
   "outputs": [
    {
     "data": {
      "text/plain": [
       "Series([], Name: 충전소명, dtype: int64)"
      ]
     },
     "execution_count": 112,
     "metadata": {},
     "output_type": "execute_result"
    }
   ],
   "source": [
    "# 충전소명으로 집계 가능 확인 ->  cid가 여러 충전소명 가지고있는 경우 없음\n",
    "n_office = charge.groupby('cid')['충전소명'].nunique()\n",
    "n_office[n_office>1]"
   ]
  },
  {
   "cell_type": "code",
   "execution_count": 114,
   "metadata": {},
   "outputs": [
    {
     "data": {
      "text/html": [
       "<div>\n",
       "<style scoped>\n",
       "    .dataframe tbody tr th:only-of-type {\n",
       "        vertical-align: middle;\n",
       "    }\n",
       "\n",
       "    .dataframe tbody tr th {\n",
       "        vertical-align: top;\n",
       "    }\n",
       "\n",
       "    .dataframe thead th {\n",
       "        text-align: right;\n",
       "    }\n",
       "</style>\n",
       "<table border=\"1\" class=\"dataframe\">\n",
       "  <thead>\n",
       "    <tr style=\"text-align: right;\">\n",
       "      <th></th>\n",
       "      <th>본부</th>\n",
       "      <th>사업소</th>\n",
       "      <th>충전소명</th>\n",
       "      <th>충전기</th>\n",
       "      <th>cid</th>\n",
       "      <th>주소</th>\n",
       "      <th>charging_power</th>\n",
       "      <th>charge_amount</th>\n",
       "      <th>충전종료일자</th>\n",
       "      <th>start_time</th>\n",
       "      <th>finish_time</th>\n",
       "      <th>duration</th>\n",
       "    </tr>\n",
       "  </thead>\n",
       "  <tbody>\n",
       "    <tr>\n",
       "      <th>10</th>\n",
       "      <td>경기북부</td>\n",
       "      <td>양평</td>\n",
       "      <td>양평지사</td>\n",
       "      <td>급속02</td>\n",
       "      <td>8833</td>\n",
       "      <td>경기도 양평군 강상면 강남로 933</td>\n",
       "      <td>50.00</td>\n",
       "      <td>13.00</td>\n",
       "      <td>2021-07-01</td>\n",
       "      <td>2021-07-01 11:19:00</td>\n",
       "      <td>2021-07-01 11:41:11</td>\n",
       "      <td>22</td>\n",
       "    </tr>\n",
       "    <tr>\n",
       "      <th>11</th>\n",
       "      <td>경남</td>\n",
       "      <td>창녕</td>\n",
       "      <td>창녕지사</td>\n",
       "      <td>급속01</td>\n",
       "      <td>471</td>\n",
       "      <td>경상남도 창녕군 창녕읍 남창녕로 71 (교하리, 한국전력공사 창녕지점)</td>\n",
       "      <td>50.00</td>\n",
       "      <td>27.05</td>\n",
       "      <td>2021-07-01</td>\n",
       "      <td>2021-07-01 07:26:01</td>\n",
       "      <td>2021-07-01 08:05:16</td>\n",
       "      <td>39</td>\n",
       "    </tr>\n",
       "    <tr>\n",
       "      <th>12</th>\n",
       "      <td>경남</td>\n",
       "      <td>창녕</td>\n",
       "      <td>창녕지사</td>\n",
       "      <td>급속01</td>\n",
       "      <td>471</td>\n",
       "      <td>경상남도 창녕군 창녕읍 남창녕로 71 (교하리, 한국전력공사 창녕지점)</td>\n",
       "      <td>50.00</td>\n",
       "      <td>10.64</td>\n",
       "      <td>2021-07-01</td>\n",
       "      <td>2021-07-01 13:56:30</td>\n",
       "      <td>2021-07-01 14:17:05</td>\n",
       "      <td>20</td>\n",
       "    </tr>\n",
       "    <tr>\n",
       "      <th>24</th>\n",
       "      <td>경북</td>\n",
       "      <td>문경</td>\n",
       "      <td>문경지사</td>\n",
       "      <td>급속01</td>\n",
       "      <td>792</td>\n",
       "      <td>경상북도 문경시 모전로 75</td>\n",
       "      <td>50.00</td>\n",
       "      <td>36.35</td>\n",
       "      <td>2021-07-01</td>\n",
       "      <td>2021-07-01 01:50:09</td>\n",
       "      <td>2021-07-01 03:04:14</td>\n",
       "      <td>74</td>\n",
       "    </tr>\n",
       "    <tr>\n",
       "      <th>27</th>\n",
       "      <td>경기</td>\n",
       "      <td>경기직할</td>\n",
       "      <td>경기직할</td>\n",
       "      <td>급속02</td>\n",
       "      <td>879</td>\n",
       "      <td>경기도 수원시 팔달구 중부대로 120</td>\n",
       "      <td>50.00</td>\n",
       "      <td>7.69</td>\n",
       "      <td>2021-07-01</td>\n",
       "      <td>2021-07-01 07:14:24</td>\n",
       "      <td>2021-07-01 07:54:04</td>\n",
       "      <td>39</td>\n",
       "    </tr>\n",
       "  </tbody>\n",
       "</table>\n",
       "</div>"
      ],
      "text/plain": [
       "      본부   사업소  충전소명   충전기   cid                                       주소  \\\n",
       "10  경기북부    양평  양평지사  급속02  8833                      경기도 양평군 강상면 강남로 933   \n",
       "11    경남    창녕  창녕지사  급속01   471  경상남도 창녕군 창녕읍 남창녕로 71 (교하리, 한국전력공사 창녕지점)   \n",
       "12    경남    창녕  창녕지사  급속01   471  경상남도 창녕군 창녕읍 남창녕로 71 (교하리, 한국전력공사 창녕지점)   \n",
       "24    경북    문경  문경지사  급속01   792                          경상북도 문경시 모전로 75   \n",
       "27    경기  경기직할  경기직할  급속02   879                     경기도 수원시 팔달구 중부대로 120   \n",
       "\n",
       "    charging_power  charge_amount     충전종료일자          start_time  \\\n",
       "10           50.00          13.00 2021-07-01 2021-07-01 11:19:00   \n",
       "11           50.00          27.05 2021-07-01 2021-07-01 07:26:01   \n",
       "12           50.00          10.64 2021-07-01 2021-07-01 13:56:30   \n",
       "24           50.00          36.35 2021-07-01 2021-07-01 01:50:09   \n",
       "27           50.00           7.69 2021-07-01 2021-07-01 07:14:24   \n",
       "\n",
       "           finish_time  duration  \n",
       "10 2021-07-01 11:41:11        22  \n",
       "11 2021-07-01 08:05:16        39  \n",
       "12 2021-07-01 14:17:05        20  \n",
       "24 2021-07-01 03:04:14        74  \n",
       "27 2021-07-01 07:54:04        39  "
      ]
     },
     "execution_count": 114,
     "metadata": {},
     "output_type": "execute_result"
    }
   ],
   "source": [
    "charge.head()"
   ]
  },
  {
   "cell_type": "code",
   "execution_count": 116,
   "metadata": {},
   "outputs": [],
   "source": [
    "drop_cols = ['본부', '사업소','충전기', '주소', '충전종료일자']\n",
    "charge = charge.drop(columns=drop_cols)"
   ]
  },
  {
   "cell_type": "markdown",
   "metadata": {},
   "source": [
    "### start ->  finish 정보로 부터 step별 occupancy 여부 생성"
   ]
  },
  {
   "cell_type": "code",
   "execution_count": 117,
   "metadata": {},
   "outputs": [
    {
     "name": "stderr",
     "output_type": "stream",
     "text": [
      "127it [00:00, 7993.59it/s]\n"
     ]
    },
    {
     "data": {
      "text/plain": [
       "2021-07-01 00:00:00    False\n",
       "2021-07-01 00:10:00    False\n",
       "2021-07-01 00:20:00    False\n",
       "2021-07-01 00:30:00    False\n",
       "2021-07-01 00:40:00    False\n",
       "                       ...  \n",
       "2021-09-30 23:10:00    False\n",
       "2021-09-30 23:20:00    False\n",
       "2021-09-30 23:30:00    False\n",
       "2021-09-30 23:40:00    False\n",
       "2021-09-30 23:50:00    False\n",
       "Freq: 10T, Length: 13248, dtype: bool"
      ]
     },
     "execution_count": 117,
     "metadata": {},
     "output_type": "execute_result"
    }
   ],
   "source": [
    "from tqdm import tqdm\n",
    "tqdm.pandas()\n",
    "\n",
    "sample = charge.query(\"cid == 8833\")\n",
    "\n",
    "# 7,8,9월 31, 31, 30일\n",
    "TIME_IDX = pd.date_range('2021-07-01', freq='10min', periods=(31+31+30)*24*6)\n",
    "data = pd.Series(index=TIME_IDX, data=0)\n",
    "\n",
    "result = np.full(TIME_IDX.shape[0], False)\n",
    "\n",
    "for start_time, finish_time in tqdm((zip(sample.start_time, sample.finish_time))):\n",
    "    occupied = (TIME_IDX >= start_time) & (TIME_IDX <= finish_time)\n",
    "    result = result | occupied\n",
    "\n",
    "pd.Series(data=result, index=TIME_IDX)"
   ]
  },
  {
   "cell_type": "code",
   "execution_count": 147,
   "metadata": {},
   "outputs": [],
   "source": [
    "from tqdm import tqdm\n",
    "tqdm.pandas()\n",
    "\n",
    "\n",
    "def check_occupancy(cid_df):\n",
    "    TIME_IDX = pd.date_range('2021-07-01', freq='10min', periods=(31+31+30)*24*6)  # 7,8,9월 31, 31, 30일\n",
    "    result = np.full(TIME_IDX.shape[0], False)\n",
    "\n",
    "    for start_time, finish_time in zip(cid_df.start_time, cid_df.finish_time):\n",
    "        occupied = (TIME_IDX >= start_time) & (TIME_IDX <= finish_time)\n",
    "        result = result | occupied\n",
    "    return pd.Series(data=result, index=TIME_IDX)"
   ]
  },
  {
   "cell_type": "code",
   "execution_count": 152,
   "metadata": {},
   "outputs": [
    {
     "name": "stderr",
     "output_type": "stream",
     "text": [
      "100%|██████████| 2453/2453 [00:36<00:00, 66.41it/s] \n"
     ]
    }
   ],
   "source": [
    "df = charge.groupby('cid')[['start_time', 'finish_time']].progress_apply(check_occupancy).astype(np.int32)"
   ]
  },
  {
   "cell_type": "code",
   "execution_count": 183,
   "metadata": {},
   "outputs": [
    {
     "data": {
      "text/html": [
       "<div>\n",
       "<style scoped>\n",
       "    .dataframe tbody tr th:only-of-type {\n",
       "        vertical-align: middle;\n",
       "    }\n",
       "\n",
       "    .dataframe tbody tr th {\n",
       "        vertical-align: top;\n",
       "    }\n",
       "\n",
       "    .dataframe thead th {\n",
       "        text-align: right;\n",
       "    }\n",
       "</style>\n",
       "<table border=\"1\" class=\"dataframe\">\n",
       "  <thead>\n",
       "    <tr style=\"text-align: right;\">\n",
       "      <th></th>\n",
       "      <th>cid</th>\n",
       "      <th>2021-07-01 00:00:00</th>\n",
       "      <th>2021-07-01 00:10:00</th>\n",
       "      <th>2021-07-01 00:20:00</th>\n",
       "      <th>2021-07-01 00:30:00</th>\n",
       "      <th>2021-07-01 00:40:00</th>\n",
       "      <th>2021-07-01 00:50:00</th>\n",
       "      <th>2021-07-01 01:00:00</th>\n",
       "      <th>2021-07-01 01:10:00</th>\n",
       "      <th>2021-07-01 01:20:00</th>\n",
       "      <th>...</th>\n",
       "      <th>2021-09-30 22:30:00</th>\n",
       "      <th>2021-09-30 22:40:00</th>\n",
       "      <th>2021-09-30 22:50:00</th>\n",
       "      <th>2021-09-30 23:00:00</th>\n",
       "      <th>2021-09-30 23:10:00</th>\n",
       "      <th>2021-09-30 23:20:00</th>\n",
       "      <th>2021-09-30 23:30:00</th>\n",
       "      <th>2021-09-30 23:40:00</th>\n",
       "      <th>2021-09-30 23:50:00</th>\n",
       "      <th>충전소명</th>\n",
       "    </tr>\n",
       "  </thead>\n",
       "  <tbody>\n",
       "    <tr>\n",
       "      <th>0</th>\n",
       "      <td>7</td>\n",
       "      <td>0</td>\n",
       "      <td>0</td>\n",
       "      <td>0</td>\n",
       "      <td>0</td>\n",
       "      <td>0</td>\n",
       "      <td>0</td>\n",
       "      <td>0</td>\n",
       "      <td>0</td>\n",
       "      <td>0</td>\n",
       "      <td>...</td>\n",
       "      <td>0</td>\n",
       "      <td>0</td>\n",
       "      <td>0</td>\n",
       "      <td>0</td>\n",
       "      <td>0</td>\n",
       "      <td>0</td>\n",
       "      <td>0</td>\n",
       "      <td>0</td>\n",
       "      <td>0</td>\n",
       "      <td>음성휴게소(통영방향)</td>\n",
       "    </tr>\n",
       "    <tr>\n",
       "      <th>1</th>\n",
       "      <td>9</td>\n",
       "      <td>0</td>\n",
       "      <td>0</td>\n",
       "      <td>0</td>\n",
       "      <td>0</td>\n",
       "      <td>0</td>\n",
       "      <td>0</td>\n",
       "      <td>0</td>\n",
       "      <td>0</td>\n",
       "      <td>0</td>\n",
       "      <td>...</td>\n",
       "      <td>0</td>\n",
       "      <td>0</td>\n",
       "      <td>0</td>\n",
       "      <td>0</td>\n",
       "      <td>0</td>\n",
       "      <td>0</td>\n",
       "      <td>0</td>\n",
       "      <td>0</td>\n",
       "      <td>0</td>\n",
       "      <td>오창휴게소(통영방향)</td>\n",
       "    </tr>\n",
       "    <tr>\n",
       "      <th>2</th>\n",
       "      <td>12</td>\n",
       "      <td>0</td>\n",
       "      <td>0</td>\n",
       "      <td>0</td>\n",
       "      <td>0</td>\n",
       "      <td>0</td>\n",
       "      <td>0</td>\n",
       "      <td>0</td>\n",
       "      <td>0</td>\n",
       "      <td>0</td>\n",
       "      <td>...</td>\n",
       "      <td>0</td>\n",
       "      <td>0</td>\n",
       "      <td>0</td>\n",
       "      <td>0</td>\n",
       "      <td>0</td>\n",
       "      <td>0</td>\n",
       "      <td>0</td>\n",
       "      <td>0</td>\n",
       "      <td>0</td>\n",
       "      <td>이천휴게소(통영방향)</td>\n",
       "    </tr>\n",
       "    <tr>\n",
       "      <th>3</th>\n",
       "      <td>13</td>\n",
       "      <td>0</td>\n",
       "      <td>0</td>\n",
       "      <td>0</td>\n",
       "      <td>0</td>\n",
       "      <td>0</td>\n",
       "      <td>0</td>\n",
       "      <td>0</td>\n",
       "      <td>0</td>\n",
       "      <td>0</td>\n",
       "      <td>...</td>\n",
       "      <td>0</td>\n",
       "      <td>0</td>\n",
       "      <td>0</td>\n",
       "      <td>0</td>\n",
       "      <td>0</td>\n",
       "      <td>0</td>\n",
       "      <td>0</td>\n",
       "      <td>0</td>\n",
       "      <td>0</td>\n",
       "      <td>한전본사 남측주차장(공용)</td>\n",
       "    </tr>\n",
       "    <tr>\n",
       "      <th>4</th>\n",
       "      <td>14</td>\n",
       "      <td>0</td>\n",
       "      <td>0</td>\n",
       "      <td>0</td>\n",
       "      <td>0</td>\n",
       "      <td>0</td>\n",
       "      <td>0</td>\n",
       "      <td>0</td>\n",
       "      <td>0</td>\n",
       "      <td>0</td>\n",
       "      <td>...</td>\n",
       "      <td>0</td>\n",
       "      <td>0</td>\n",
       "      <td>0</td>\n",
       "      <td>0</td>\n",
       "      <td>0</td>\n",
       "      <td>0</td>\n",
       "      <td>0</td>\n",
       "      <td>0</td>\n",
       "      <td>0</td>\n",
       "      <td>한전본사 파빌리온주차장(공용)</td>\n",
       "    </tr>\n",
       "    <tr>\n",
       "      <th>...</th>\n",
       "      <td>...</td>\n",
       "      <td>...</td>\n",
       "      <td>...</td>\n",
       "      <td>...</td>\n",
       "      <td>...</td>\n",
       "      <td>...</td>\n",
       "      <td>...</td>\n",
       "      <td>...</td>\n",
       "      <td>...</td>\n",
       "      <td>...</td>\n",
       "      <td>...</td>\n",
       "      <td>...</td>\n",
       "      <td>...</td>\n",
       "      <td>...</td>\n",
       "      <td>...</td>\n",
       "      <td>...</td>\n",
       "      <td>...</td>\n",
       "      <td>...</td>\n",
       "      <td>...</td>\n",
       "      <td>...</td>\n",
       "      <td>...</td>\n",
       "    </tr>\n",
       "    <tr>\n",
       "      <th>2448</th>\n",
       "      <td>11045</td>\n",
       "      <td>0</td>\n",
       "      <td>0</td>\n",
       "      <td>0</td>\n",
       "      <td>0</td>\n",
       "      <td>0</td>\n",
       "      <td>0</td>\n",
       "      <td>0</td>\n",
       "      <td>0</td>\n",
       "      <td>0</td>\n",
       "      <td>...</td>\n",
       "      <td>0</td>\n",
       "      <td>0</td>\n",
       "      <td>0</td>\n",
       "      <td>0</td>\n",
       "      <td>0</td>\n",
       "      <td>0</td>\n",
       "      <td>0</td>\n",
       "      <td>0</td>\n",
       "      <td>0</td>\n",
       "      <td>천지공영주차장</td>\n",
       "    </tr>\n",
       "    <tr>\n",
       "      <th>2449</th>\n",
       "      <td>11049</td>\n",
       "      <td>0</td>\n",
       "      <td>0</td>\n",
       "      <td>0</td>\n",
       "      <td>0</td>\n",
       "      <td>0</td>\n",
       "      <td>0</td>\n",
       "      <td>0</td>\n",
       "      <td>0</td>\n",
       "      <td>0</td>\n",
       "      <td>...</td>\n",
       "      <td>0</td>\n",
       "      <td>0</td>\n",
       "      <td>0</td>\n",
       "      <td>0</td>\n",
       "      <td>0</td>\n",
       "      <td>0</td>\n",
       "      <td>0</td>\n",
       "      <td>0</td>\n",
       "      <td>0</td>\n",
       "      <td>동광리버스차고지</td>\n",
       "    </tr>\n",
       "    <tr>\n",
       "      <th>2450</th>\n",
       "      <td>11050</td>\n",
       "      <td>0</td>\n",
       "      <td>0</td>\n",
       "      <td>0</td>\n",
       "      <td>0</td>\n",
       "      <td>0</td>\n",
       "      <td>0</td>\n",
       "      <td>0</td>\n",
       "      <td>0</td>\n",
       "      <td>0</td>\n",
       "      <td>...</td>\n",
       "      <td>0</td>\n",
       "      <td>0</td>\n",
       "      <td>0</td>\n",
       "      <td>0</td>\n",
       "      <td>0</td>\n",
       "      <td>0</td>\n",
       "      <td>0</td>\n",
       "      <td>0</td>\n",
       "      <td>0</td>\n",
       "      <td>천지공영주차장</td>\n",
       "    </tr>\n",
       "    <tr>\n",
       "      <th>2451</th>\n",
       "      <td>11055</td>\n",
       "      <td>0</td>\n",
       "      <td>0</td>\n",
       "      <td>0</td>\n",
       "      <td>0</td>\n",
       "      <td>0</td>\n",
       "      <td>0</td>\n",
       "      <td>0</td>\n",
       "      <td>0</td>\n",
       "      <td>0</td>\n",
       "      <td>...</td>\n",
       "      <td>0</td>\n",
       "      <td>0</td>\n",
       "      <td>0</td>\n",
       "      <td>0</td>\n",
       "      <td>0</td>\n",
       "      <td>0</td>\n",
       "      <td>0</td>\n",
       "      <td>0</td>\n",
       "      <td>0</td>\n",
       "      <td>표선공영주차장</td>\n",
       "    </tr>\n",
       "    <tr>\n",
       "      <th>2452</th>\n",
       "      <td>11056</td>\n",
       "      <td>0</td>\n",
       "      <td>0</td>\n",
       "      <td>0</td>\n",
       "      <td>0</td>\n",
       "      <td>0</td>\n",
       "      <td>0</td>\n",
       "      <td>0</td>\n",
       "      <td>0</td>\n",
       "      <td>0</td>\n",
       "      <td>...</td>\n",
       "      <td>0</td>\n",
       "      <td>0</td>\n",
       "      <td>0</td>\n",
       "      <td>0</td>\n",
       "      <td>0</td>\n",
       "      <td>0</td>\n",
       "      <td>0</td>\n",
       "      <td>0</td>\n",
       "      <td>0</td>\n",
       "      <td>표선공영주차장</td>\n",
       "    </tr>\n",
       "  </tbody>\n",
       "</table>\n",
       "<p>2453 rows × 13250 columns</p>\n",
       "</div>"
      ],
      "text/plain": [
       "        cid  2021-07-01 00:00:00  2021-07-01 00:10:00  2021-07-01 00:20:00  \\\n",
       "0         7                    0                    0                    0   \n",
       "1         9                    0                    0                    0   \n",
       "2        12                    0                    0                    0   \n",
       "3        13                    0                    0                    0   \n",
       "4        14                    0                    0                    0   \n",
       "...     ...                  ...                  ...                  ...   \n",
       "2448  11045                    0                    0                    0   \n",
       "2449  11049                    0                    0                    0   \n",
       "2450  11050                    0                    0                    0   \n",
       "2451  11055                    0                    0                    0   \n",
       "2452  11056                    0                    0                    0   \n",
       "\n",
       "      2021-07-01 00:30:00  2021-07-01 00:40:00  2021-07-01 00:50:00  \\\n",
       "0                       0                    0                    0   \n",
       "1                       0                    0                    0   \n",
       "2                       0                    0                    0   \n",
       "3                       0                    0                    0   \n",
       "4                       0                    0                    0   \n",
       "...                   ...                  ...                  ...   \n",
       "2448                    0                    0                    0   \n",
       "2449                    0                    0                    0   \n",
       "2450                    0                    0                    0   \n",
       "2451                    0                    0                    0   \n",
       "2452                    0                    0                    0   \n",
       "\n",
       "      2021-07-01 01:00:00  2021-07-01 01:10:00  2021-07-01 01:20:00  ...  \\\n",
       "0                       0                    0                    0  ...   \n",
       "1                       0                    0                    0  ...   \n",
       "2                       0                    0                    0  ...   \n",
       "3                       0                    0                    0  ...   \n",
       "4                       0                    0                    0  ...   \n",
       "...                   ...                  ...                  ...  ...   \n",
       "2448                    0                    0                    0  ...   \n",
       "2449                    0                    0                    0  ...   \n",
       "2450                    0                    0                    0  ...   \n",
       "2451                    0                    0                    0  ...   \n",
       "2452                    0                    0                    0  ...   \n",
       "\n",
       "      2021-09-30 22:30:00  2021-09-30 22:40:00  2021-09-30 22:50:00  \\\n",
       "0                       0                    0                    0   \n",
       "1                       0                    0                    0   \n",
       "2                       0                    0                    0   \n",
       "3                       0                    0                    0   \n",
       "4                       0                    0                    0   \n",
       "...                   ...                  ...                  ...   \n",
       "2448                    0                    0                    0   \n",
       "2449                    0                    0                    0   \n",
       "2450                    0                    0                    0   \n",
       "2451                    0                    0                    0   \n",
       "2452                    0                    0                    0   \n",
       "\n",
       "      2021-09-30 23:00:00  2021-09-30 23:10:00  2021-09-30 23:20:00  \\\n",
       "0                       0                    0                    0   \n",
       "1                       0                    0                    0   \n",
       "2                       0                    0                    0   \n",
       "3                       0                    0                    0   \n",
       "4                       0                    0                    0   \n",
       "...                   ...                  ...                  ...   \n",
       "2448                    0                    0                    0   \n",
       "2449                    0                    0                    0   \n",
       "2450                    0                    0                    0   \n",
       "2451                    0                    0                    0   \n",
       "2452                    0                    0                    0   \n",
       "\n",
       "      2021-09-30 23:30:00  2021-09-30 23:40:00  2021-09-30 23:50:00  \\\n",
       "0                       0                    0                    0   \n",
       "1                       0                    0                    0   \n",
       "2                       0                    0                    0   \n",
       "3                       0                    0                    0   \n",
       "4                       0                    0                    0   \n",
       "...                   ...                  ...                  ...   \n",
       "2448                    0                    0                    0   \n",
       "2449                    0                    0                    0   \n",
       "2450                    0                    0                    0   \n",
       "2451                    0                    0                    0   \n",
       "2452                    0                    0                    0   \n",
       "\n",
       "                  충전소명  \n",
       "0          음성휴게소(통영방향)  \n",
       "1          오창휴게소(통영방향)  \n",
       "2          이천휴게소(통영방향)  \n",
       "3       한전본사 남측주차장(공용)  \n",
       "4     한전본사 파빌리온주차장(공용)  \n",
       "...                ...  \n",
       "2448           천지공영주차장  \n",
       "2449          동광리버스차고지  \n",
       "2450           천지공영주차장  \n",
       "2451           표선공영주차장  \n",
       "2452           표선공영주차장  \n",
       "\n",
       "[2453 rows x 13250 columns]"
      ]
     },
     "execution_count": 183,
     "metadata": {},
     "output_type": "execute_result"
    }
   ],
   "source": [
    "df.reset_index().merge(charge[['cid', '충전소명']].drop_duplicates(), how='left', on='cid')"
   ]
  },
  {
   "cell_type": "code",
   "execution_count": null,
   "metadata": {},
   "outputs": [],
   "source": [
    "# 다음 단계  ->  충전소별로 집계 필요"
   ]
  },
  {
   "cell_type": "code",
   "execution_count": null,
   "metadata": {},
   "outputs": [],
   "source": []
  }
 ],
 "metadata": {
  "kernelspec": {
   "display_name": "Python 3.8.8 ('.venv': venv)",
   "language": "python",
   "name": "python3"
  },
  "language_info": {
   "codemirror_mode": {
    "name": "ipython",
    "version": 3
   },
   "file_extension": ".py",
   "mimetype": "text/x-python",
   "name": "python",
   "nbconvert_exporter": "python",
   "pygments_lexer": "ipython3",
   "version": "3.8.8"
  },
  "orig_nbformat": 4,
  "vscode": {
   "interpreter": {
    "hash": "1a2394ed48906b449187dfe720e0119b9163ad54f60a6b36bd8129b90c9e9c22"
   }
  }
 },
 "nbformat": 4,
 "nbformat_minor": 2
}
