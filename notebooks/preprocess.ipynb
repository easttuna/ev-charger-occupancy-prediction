{
 "cells": [
  {
   "cell_type": "markdown",
   "metadata": {},
   "source": [
    "- 데이터 필터링은 charge session 단위가 아니라 'cid' 단위로 할것.\n",
    "    - 동일 cid의 일부 charge sessio을 제외할 경우 시간순에 따라 windowing을 하여 피쳐를 생성하는 과정에서 왜곡이 발생함"
   ]
  },
  {
   "cell_type": "code",
   "execution_count": 1,
   "metadata": {},
   "outputs": [],
   "source": [
    "import pandas as pd\n",
    "\n",
    "pd.options.display.float_format = '{: .2f}'.format"
   ]
  },
  {
   "cell_type": "code",
   "execution_count": 14,
   "metadata": {},
   "outputs": [],
   "source": [
    "# 가장 최근의 2021년 7월~ 12월 (6개월) 데이터 로드\n",
    "\n",
    "df = pd.read_csv('../data/한국전력공사_전기차충전소충전량(202107_202112).csv', \n",
    "                 parse_dates=['충전종료일자', '충전시작시각', '충전종료시각'], \n",
    "                 encoding='cp949') "
   ]
  },
  {
   "cell_type": "code",
   "execution_count": 15,
   "metadata": {},
   "outputs": [],
   "source": [
    "drop_cols = ['본부', '사업소', '충전소명', '충전기', '주소', '충전종료일자']\n",
    "rename_dict = {'충전기ID':'cid', '충전기구분':'charger_type', '충전용량':'charging_power', \n",
    "               '충전량':'charge_amount', '충전시간':'hour', '충전분':'minute',\n",
    "               '충전시작시각':'start_time', '충전종료시각':'finish_time'}\n",
    "\n",
    "df = df.drop(drop_cols, axis=1).rename(columns=rename_dict)\n",
    "df = df.loc[df['charger_type'] == '급속']\n",
    "df['duration'] = df.hour.multiply(60).add(df.minute)\n",
    "df = df.drop(['charger_type', 'hour', 'minute'], axis=1)"
   ]
  },
  {
   "cell_type": "code",
   "execution_count": 16,
   "metadata": {},
   "outputs": [
    {
     "name": "stdout",
     "output_type": "stream",
     "text": [
      "<class 'pandas.core.frame.DataFrame'>\n",
      "Int64Index: 583023 entries, 1 to 1048572\n",
      "Data columns (total 6 columns):\n",
      " #   Column          Non-Null Count   Dtype         \n",
      "---  ------          --------------   -----         \n",
      " 0   cid             583023 non-null  int64         \n",
      " 1   charging_power  556320 non-null  float64       \n",
      " 2   charge_amount   583023 non-null  float64       \n",
      " 3   start_time      583023 non-null  datetime64[ns]\n",
      " 4   finish_time     583023 non-null  datetime64[ns]\n",
      " 5   duration        583023 non-null  int64         \n",
      "dtypes: datetime64[ns](2), float64(2), int64(2)\n",
      "memory usage: 31.1 MB\n"
     ]
    }
   ],
   "source": [
    "df.info()"
   ]
  },
  {
   "cell_type": "code",
   "execution_count": 17,
   "metadata": {},
   "outputs": [
    {
     "data": {
      "text/plain": [
       "8080"
      ]
     },
     "execution_count": 17,
     "metadata": {},
     "output_type": "execute_result"
    }
   ],
   "source": [
    "# 8080개 device\n",
    "df.cid.nunique()"
   ]
  },
  {
   "cell_type": "code",
   "execution_count": 18,
   "metadata": {},
   "outputs": [
    {
     "data": {
      "text/plain": [
       "7723"
      ]
     },
     "execution_count": 18,
     "metadata": {},
     "output_type": "execute_result"
    }
   ],
   "source": [
    "# 7~12월 간의 데이터이지만 실질적으로 10월 17일까지의 로그만 존재함\n",
    "df.describe(datetime_is_numeric=True)\n",
    "\n",
    "# 7~9의 3개월 데이터만 분리\n",
    "df = df[df.start_time.between('2021-07-01', '2021-10-01')]\n",
    "df.cid.nunique()"
   ]
  },
  {
   "cell_type": "code",
   "execution_count": 19,
   "metadata": {},
   "outputs": [],
   "source": [
    "# 실질적으로 활발히 운영되는 충전기로 한정하기 위하여, 분석기간(3개월) 내 첫주와 마지막주에 모두 충전시작이 있는 충전기로 제한\n",
    "\n",
    "first_charge = df.groupby('cid')['start_time'].min()\n",
    "valid_id_first = first_charge[first_charge < '2021-07-07'].index\n",
    "\n",
    "last_charge = df.groupby('cid')['start_time'].max()\n",
    "valid_id_last = last_charge[last_charge > '2021-09-23'].index"
   ]
  },
  {
   "cell_type": "code",
   "execution_count": 20,
   "metadata": {},
   "outputs": [
    {
     "data": {
      "text/plain": [
       "3213"
      ]
     },
     "execution_count": 20,
     "metadata": {},
     "output_type": "execute_result"
    }
   ],
   "source": [
    "# 총 3,213개의 충전기\n",
    "valid_cid = set(valid_id_first).intersection(valid_id_last)\n",
    "len(valid_cid)"
   ]
  },
  {
   "cell_type": "code",
   "execution_count": 21,
   "metadata": {},
   "outputs": [
    {
     "data": {
      "text/plain": [
       "(0.9060910215866905, 441530)"
      ]
     },
     "execution_count": 21,
     "metadata": {},
     "output_type": "execute_result"
    }
   ],
   "source": [
    "# 총 충전의 90% 이상이며 3개월간 441,530건\n",
    "df.cid.isin(valid_cid).mean(), df.cid.isin(valid_cid).sum()"
   ]
  },
  {
   "cell_type": "code",
   "execution_count": 22,
   "metadata": {},
   "outputs": [],
   "source": [
    "# valid_cid의 로그만 선택하여 charge 테이블 생성\n",
    "charge = df[df.cid.isin(valid_cid)].copy()"
   ]
  },
  {
   "cell_type": "code",
   "execution_count": 23,
   "metadata": {},
   "outputs": [
    {
     "data": {
      "text/html": [
       "<div>\n",
       "<style scoped>\n",
       "    .dataframe tbody tr th:only-of-type {\n",
       "        vertical-align: middle;\n",
       "    }\n",
       "\n",
       "    .dataframe tbody tr th {\n",
       "        vertical-align: top;\n",
       "    }\n",
       "\n",
       "    .dataframe thead th {\n",
       "        text-align: right;\n",
       "    }\n",
       "</style>\n",
       "<table border=\"1\" class=\"dataframe\">\n",
       "  <thead>\n",
       "    <tr style=\"text-align: right;\">\n",
       "      <th></th>\n",
       "      <th>cid</th>\n",
       "      <th>charging_power</th>\n",
       "      <th>charge_amount</th>\n",
       "      <th>start_time</th>\n",
       "      <th>finish_time</th>\n",
       "      <th>duration</th>\n",
       "    </tr>\n",
       "  </thead>\n",
       "  <tbody>\n",
       "    <tr>\n",
       "      <th>10</th>\n",
       "      <td>8833</td>\n",
       "      <td>50.00</td>\n",
       "      <td>13.00</td>\n",
       "      <td>2021-07-01 11:19:00</td>\n",
       "      <td>2021-07-01 11:41:11</td>\n",
       "      <td>22</td>\n",
       "    </tr>\n",
       "    <tr>\n",
       "      <th>11</th>\n",
       "      <td>471</td>\n",
       "      <td>50.00</td>\n",
       "      <td>27.05</td>\n",
       "      <td>2021-07-01 07:26:01</td>\n",
       "      <td>2021-07-01 08:05:16</td>\n",
       "      <td>39</td>\n",
       "    </tr>\n",
       "    <tr>\n",
       "      <th>12</th>\n",
       "      <td>471</td>\n",
       "      <td>50.00</td>\n",
       "      <td>10.64</td>\n",
       "      <td>2021-07-01 13:56:30</td>\n",
       "      <td>2021-07-01 14:17:05</td>\n",
       "      <td>20</td>\n",
       "    </tr>\n",
       "    <tr>\n",
       "      <th>24</th>\n",
       "      <td>792</td>\n",
       "      <td>50.00</td>\n",
       "      <td>36.35</td>\n",
       "      <td>2021-07-01 01:50:09</td>\n",
       "      <td>2021-07-01 03:04:14</td>\n",
       "      <td>74</td>\n",
       "    </tr>\n",
       "    <tr>\n",
       "      <th>27</th>\n",
       "      <td>879</td>\n",
       "      <td>50.00</td>\n",
       "      <td>7.69</td>\n",
       "      <td>2021-07-01 07:14:24</td>\n",
       "      <td>2021-07-01 07:54:04</td>\n",
       "      <td>39</td>\n",
       "    </tr>\n",
       "  </tbody>\n",
       "</table>\n",
       "</div>"
      ],
      "text/plain": [
       "     cid  charging_power  charge_amount          start_time  \\\n",
       "10  8833           50.00          13.00 2021-07-01 11:19:00   \n",
       "11   471           50.00          27.05 2021-07-01 07:26:01   \n",
       "12   471           50.00          10.64 2021-07-01 13:56:30   \n",
       "24   792           50.00          36.35 2021-07-01 01:50:09   \n",
       "27   879           50.00           7.69 2021-07-01 07:14:24   \n",
       "\n",
       "           finish_time  duration  \n",
       "10 2021-07-01 11:41:11        22  \n",
       "11 2021-07-01 08:05:16        39  \n",
       "12 2021-07-01 14:17:05        20  \n",
       "24 2021-07-01 03:04:14        74  \n",
       "27 2021-07-01 07:54:04        39  "
      ]
     },
     "execution_count": 23,
     "metadata": {},
     "output_type": "execute_result"
    }
   ],
   "source": [
    "charge.head()"
   ]
  },
  {
   "cell_type": "code",
   "execution_count": 24,
   "metadata": {},
   "outputs": [
    {
     "name": "stdout",
     "output_type": "stream",
     "text": [
      "<class 'pandas.core.frame.DataFrame'>\n",
      "Int64Index: 441530 entries, 10 to 899545\n",
      "Data columns (total 6 columns):\n",
      " #   Column          Non-Null Count   Dtype         \n",
      "---  ------          --------------   -----         \n",
      " 0   cid             441530 non-null  int64         \n",
      " 1   charging_power  436187 non-null  float64       \n",
      " 2   charge_amount   441530 non-null  float64       \n",
      " 3   start_time      441530 non-null  datetime64[ns]\n",
      " 4   finish_time     441530 non-null  datetime64[ns]\n",
      " 5   duration        441530 non-null  int64         \n",
      "dtypes: datetime64[ns](2), float64(2), int64(2)\n",
      "memory usage: 23.6 MB\n"
     ]
    }
   ],
   "source": [
    "# charging_power에서 null 발생 ->  피쳐로 활용할 것 이므로 null row 제거\n",
    "charge.info()"
   ]
  },
  {
   "cell_type": "code",
   "execution_count": 41,
   "metadata": {},
   "outputs": [],
   "source": [
    "power_null_ids = charge[charge.charging_power.isna()].cid.unique()\n",
    "charge = charge[~charge.cid.isin(power_null_ids)]"
   ]
  },
  {
   "cell_type": "code",
   "execution_count": 42,
   "metadata": {},
   "outputs": [
    {
     "data": {
      "text/plain": [
       "array([ 50., 200., 100.])"
      ]
     },
     "execution_count": 42,
     "metadata": {},
     "output_type": "execute_result"
    }
   ],
   "source": [
    "charge.charging_power.unique()"
   ]
  },
  {
   "cell_type": "markdown",
   "metadata": {},
   "source": [
    "### duration 이상치 필터링"
   ]
  },
  {
   "cell_type": "code",
   "execution_count": 43,
   "metadata": {},
   "outputs": [
    {
     "data": {
      "text/plain": [
       "count    436187.00\n",
       "mean         51.09\n",
       "std          83.39\n",
       "min           0.00\n",
       "25%          25.00\n",
       "50%          42.00\n",
       "75%          66.00\n",
       "max       24369.00\n",
       "Name: duration, dtype: float64"
      ]
     },
     "execution_count": 43,
     "metadata": {},
     "output_type": "execute_result"
    }
   ],
   "source": [
    "charge.duration.describe()"
   ]
  },
  {
   "cell_type": "code",
   "execution_count": 45,
   "metadata": {},
   "outputs": [
    {
     "data": {
      "text/plain": [
       "(-208.18165142488976, 292.18165142488976)"
      ]
     },
     "execution_count": 45,
     "metadata": {},
     "output_type": "execute_result"
    }
   ],
   "source": [
    "import numpy as np\n",
    "\n",
    "def outlier_bound(array):\n",
    "    stdev = np.std(array)\n",
    "    med = np.median(array)\n",
    "    return med - 3*stdev, med + 3*stdev\n",
    "\n",
    "outlier_bound(charge.duration)"
   ]
  },
  {
   "cell_type": "code",
   "execution_count": 55,
   "metadata": {},
   "outputs": [
    {
     "data": {
      "text/plain": [
       "(1915, 0.004390318831143524)"
      ]
     },
     "execution_count": 55,
     "metadata": {},
     "output_type": "execute_result"
    }
   ],
   "source": [
    "# 292분 초과하는 경우 1,915건으로 전체 중 0.4% 가량\n",
    "charge.duration.gt(outlier_bound(charge.duration)[1]).sum(), charge.duration.gt(outlier_bound(charge.duration)[1]).mean()"
   ]
  },
  {
   "cell_type": "code",
   "execution_count": 56,
   "metadata": {},
   "outputs": [],
   "source": [
    "outlier_cid = charge[charge.duration.gt(outlier_bound(charge.duration)[1])].cid.unique()"
   ]
  },
  {
   "cell_type": "code",
   "execution_count": 57,
   "metadata": {},
   "outputs": [],
   "source": [
    "charge = charge[~charge.cid.isin(outlier_cid)]"
   ]
  },
  {
   "cell_type": "code",
   "execution_count": 60,
   "metadata": {},
   "outputs": [
    {
     "data": {
      "text/plain": [
       "2453"
      ]
     },
     "execution_count": 60,
     "metadata": {},
     "output_type": "execute_result"
    }
   ],
   "source": [
    "# 2453개의 cid\n",
    "charge.cid.nunique()"
   ]
  },
  {
   "cell_type": "code",
   "execution_count": 69,
   "metadata": {},
   "outputs": [
    {
     "data": {
      "text/plain": [
       "count    2453.00\n",
       "mean        1.58\n",
       "std         1.84\n",
       "min         0.03\n",
       "25%         0.51\n",
       "50%         1.03\n",
       "75%         2.02\n",
       "max        24.48\n",
       "Name: charging_power, dtype: float64"
      ]
     },
     "execution_count": 69,
     "metadata": {},
     "output_type": "execute_result"
    }
   ],
   "source": [
    "# 충전기당-일당 충전횟수는 최대 24.48회 최소 0.03회\n",
    "charge.groupby('cid')['charging_power'].count().divide(92).describe()"
   ]
  },
  {
   "cell_type": "code",
   "execution_count": 76,
   "metadata": {},
   "outputs": [
    {
     "data": {
      "text/plain": [
       "<AxesSubplot: ylabel='Frequency'>"
      ]
     },
     "execution_count": 76,
     "metadata": {},
     "output_type": "execute_result"
    },
    {
     "data": {
      "image/png": "[encoded data removed]",
      "text/plain": [
       "<Figure size 640x480 with 1 Axes>"
      ]
     },
     "metadata": {},
     "output_type": "display_data"
    }
   ],
   "source": [
    "charge.groupby('cid')['charging_power'].count().plot(kind='hist', range=(90,500))"
   ]
  },
  {
   "cell_type": "markdown",
   "metadata": {},
   "source": [
    "### start ->  finish 정보로 부터 step별 occupancy 여부 생성"
   ]
  },
  {
   "cell_type": "code",
   "execution_count": 83,
   "metadata": {},
   "outputs": [
    {
     "data": {
      "text/plain": [
       "start_time\n",
       "2021-07-01 00:00:00    10\n",
       "2021-07-01 00:10:00    16\n",
       "2021-07-01 00:20:00     8\n",
       "2021-07-01 00:30:00    10\n",
       "2021-07-01 00:40:00    10\n",
       "                       ..\n",
       "2021-09-30 23:10:00    14\n",
       "2021-09-30 23:20:00    14\n",
       "2021-09-30 23:30:00    13\n",
       "2021-09-30 23:40:00    15\n",
       "2021-09-30 23:50:00    11\n",
       "Freq: 10T, Name: cid, Length: 13248, dtype: int64"
      ]
     },
     "execution_count": 83,
     "metadata": {},
     "output_type": "execute_result"
    }
   ],
   "source": [
    "charge.set_index('start_time').groupby(pd.Grouper(freq='10min', closed='left'))['cid'].count()"
   ]
  },
  {
   "cell_type": "code",
   "execution_count": 86,
   "metadata": {},
   "outputs": [
    {
     "data": {
      "text/plain": [
       "cid    start_time         \n",
       "7      2021-07-01 05:40:00    1\n",
       "       2021-07-01 06:20:00    1\n",
       "       2021-07-01 08:30:00    1\n",
       "       2021-07-01 11:30:00    1\n",
       "       2021-07-01 16:10:00    1\n",
       "                             ..\n",
       "11056  2021-09-18 14:10:00    1\n",
       "       2021-09-22 15:50:00    2\n",
       "       2021-09-24 13:10:00    1\n",
       "       2021-09-26 16:10:00    1\n",
       "       2021-09-27 16:40:00    1\n",
       "Name: cid, Length: 347993, dtype: int64"
      ]
     },
     "execution_count": 86,
     "metadata": {},
     "output_type": "execute_result"
    }
   ],
   "source": [
    "charge.set_index('start_time').groupby(['cid',pd.Grouper(freq='10min', closed='left')])['cid'].count()"
   ]
  },
  {
   "cell_type": "code",
   "execution_count": 87,
   "metadata": {},
   "outputs": [
    {
     "ename": "TypeError",
     "evalue": "__init__() got an unexpected keyword argument 'origin'",
     "output_type": "error",
     "traceback": [
      "\u001b[0;31m---------------------------------------------------------------------------\u001b[0m",
      "\u001b[0;31mTypeError\u001b[0m                                 Traceback (most recent call last)",
      "Cell \u001b[0;32mIn [87], line 1\u001b[0m\n\u001b[0;32m----> 1\u001b[0m charge\u001b[38;5;241m.\u001b[39mset_index(\u001b[38;5;124m'\u001b[39m\u001b[38;5;124mstart_time\u001b[39m\u001b[38;5;124m'\u001b[39m)\u001b[38;5;241m.\u001b[39mgroupby(pd\u001b[38;5;241m.\u001b[39mGrouper(origin\u001b[38;5;241m=\u001b[39m\u001b[38;5;124m'\u001b[39m\u001b[38;5;124m2021-07-01\u001b[39m\u001b[38;5;124m'\u001b[39m))[\u001b[38;5;124m'\u001b[39m\u001b[38;5;124mcid\u001b[39m\u001b[38;5;124m'\u001b[39m]\u001b[38;5;241m.\u001b[39mcount()\n",
      "\u001b[0;31mTypeError\u001b[0m: __init__() got an unexpected keyword argument 'origin'"
     ]
    }
   ],
   "source": [
    "charge.set_index('start_time').groupby(pd.Grouper(origin='2021-07-01'))['cid'].count()"
   ]
  },
  {
   "cell_type": "code",
   "execution_count": 78,
   "metadata": {},
   "outputs": [
    {
     "data": {
      "text/plain": [
       "31790880"
      ]
     },
     "execution_count": 78,
     "metadata": {},
     "output_type": "execute_result"
    }
   ],
   "source": [
    "24 * 6 * 2453 * 90"
   ]
  },
  {
   "cell_type": "code",
   "execution_count": 91,
   "metadata": {},
   "outputs": [
    {
     "ename": "TypeError",
     "evalue": "__init__() got an unexpected keyword argument 'origin'",
     "output_type": "error",
     "traceback": [
      "\u001b[0;31m---------------------------------------------------------------------------\u001b[0m",
      "\u001b[0;31mTypeError\u001b[0m                                 Traceback (most recent call last)",
      "Cell \u001b[0;32mIn [91], line 1\u001b[0m\n\u001b[0;32m----> 1\u001b[0m charge\u001b[38;5;241m.\u001b[39mgroupby(pd\u001b[38;5;241m.\u001b[39mGrouper(key\u001b[38;5;241m=\u001b[39m\u001b[38;5;124m'\u001b[39m\u001b[38;5;124mstart_time\u001b[39m\u001b[38;5;124m'\u001b[39m, origin\u001b[38;5;241m=\u001b[39m\u001b[38;5;124m'\u001b[39m\u001b[38;5;124mstart_day\u001b[39m\u001b[38;5;124m'\u001b[39m))[\u001b[38;5;124m'\u001b[39m\u001b[38;5;124mcid\u001b[39m\u001b[38;5;124m'\u001b[39m]\u001b[38;5;241m.\u001b[39mcount()\n",
      "\u001b[0;31mTypeError\u001b[0m: __init__() got an unexpected keyword argument 'origin'"
     ]
    }
   ],
   "source": [
    "charge.groupby(pd.Grouper(key='start_time', origin='start_day'))['cid'].count()"
   ]
  },
  {
   "cell_type": "code",
   "execution_count": 92,
   "metadata": {},
   "outputs": [
    {
     "data": {
      "text/plain": [
       "'1.5.0'"
      ]
     },
     "execution_count": 92,
     "metadata": {},
     "output_type": "execute_result"
    }
   ],
   "source": [
    "pd.__version__"
   ]
  },
  {
   "cell_type": "code",
   "execution_count": null,
   "metadata": {},
   "outputs": [],
   "source": [
    "pd.Grouper()"
   ]
  },
  {
   "cell_type": "code",
   "execution_count": 90,
   "metadata": {},
   "outputs": [
    {
     "name": "stdout",
     "output_type": "stream",
     "text": [
      "Help on class Grouper in module pandas.core.groupby.grouper:\n",
      "\n",
      "class Grouper(builtins.object)\n",
      " |  Grouper(*args, **kwargs)\n",
      " |  \n",
      " |  A Grouper allows the user to specify a groupby instruction for an object.\n",
      " |  \n",
      " |  This specification will select a column via the key parameter, or if the\n",
      " |  level and/or axis parameters are given, a level of the index of the target\n",
      " |  object.\n",
      " |  \n",
      " |  If `axis` and/or `level` are passed as keywords to both `Grouper` and\n",
      " |  `groupby`, the values passed to `Grouper` take precedence.\n",
      " |  \n",
      " |  Parameters\n",
      " |  ----------\n",
      " |  key : str, defaults to None\n",
      " |      Groupby key, which selects the grouping column of the target.\n",
      " |  level : name/number, defaults to None\n",
      " |      The level for the target index.\n",
      " |  freq : str / frequency object, defaults to None\n",
      " |      This will groupby the specified frequency if the target selection\n",
      " |      (via key or level) is a datetime-like object. For full specification\n",
      " |      of available frequencies, please see `here\n",
      " |      <https://pandas.pydata.org/pandas-docs/stable/user_guide/timeseries.html#offset-aliases>`_.\n",
      " |  axis : str, int, defaults to 0\n",
      " |      Number/name of the axis.\n",
      " |  sort : bool, default to False\n",
      " |      Whether to sort the resulting labels.\n",
      " |  closed : {'left' or 'right'}\n",
      " |      Closed end of interval. Only when `freq` parameter is passed.\n",
      " |  label : {'left' or 'right'}\n",
      " |      Interval boundary to use for labeling.\n",
      " |      Only when `freq` parameter is passed.\n",
      " |  convention : {'start', 'end', 'e', 's'}\n",
      " |      If grouper is PeriodIndex and `freq` parameter is passed.\n",
      " |  base : int, default 0\n",
      " |      Only when `freq` parameter is passed.\n",
      " |      For frequencies that evenly subdivide 1 day, the \"origin\" of the\n",
      " |      aggregated intervals. For example, for '5min' frequency, base could\n",
      " |      range from 0 through 4. Defaults to 0.\n",
      " |  \n",
      " |      .. deprecated:: 1.1.0\n",
      " |          The new arguments that you should use are 'offset' or 'origin'.\n",
      " |  \n",
      " |  loffset : str, DateOffset, timedelta object\n",
      " |      Only when `freq` parameter is passed.\n",
      " |  \n",
      " |      .. deprecated:: 1.1.0\n",
      " |          loffset is only working for ``.resample(...)`` and not for\n",
      " |          Grouper (:issue:`28302`).\n",
      " |          However, loffset is also deprecated for ``.resample(...)``\n",
      " |          See: :class:`DataFrame.resample`\n",
      " |  \n",
      " |  origin : Timestamp or str, default 'start_day'\n",
      " |      The timestamp on which to adjust the grouping. The timezone of origin must\n",
      " |      match the timezone of the index.\n",
      " |      If string, must be one of the following:\n",
      " |  \n",
      " |      - 'epoch': `origin` is 1970-01-01\n",
      " |      - 'start': `origin` is the first value of the timeseries\n",
      " |      - 'start_day': `origin` is the first day at midnight of the timeseries\n",
      " |  \n",
      " |      .. versionadded:: 1.1.0\n",
      " |  \n",
      " |      - 'end': `origin` is the last value of the timeseries\n",
      " |      - 'end_day': `origin` is the ceiling midnight of the last day\n",
      " |  \n",
      " |      .. versionadded:: 1.3.0\n",
      " |  \n",
      " |  offset : Timedelta or str, default is None\n",
      " |      An offset timedelta added to the origin.\n",
      " |  \n",
      " |      .. versionadded:: 1.1.0\n",
      " |  \n",
      " |  dropna : bool, default True\n",
      " |      If True, and if group keys contain NA values, NA values together with\n",
      " |      row/column will be dropped. If False, NA values will also be treated as\n",
      " |      the key in groups.\n",
      " |  \n",
      " |      .. versionadded:: 1.2.0\n",
      " |  \n",
      " |  Returns\n",
      " |  -------\n",
      " |  A specification for a groupby instruction\n",
      " |  \n",
      " |  Examples\n",
      " |  --------\n",
      " |  Syntactic sugar for ``df.groupby('A')``\n",
      " |  \n",
      " |  >>> df = pd.DataFrame(\n",
      " |  ...     {\n",
      " |  ...         \"Animal\": [\"Falcon\", \"Parrot\", \"Falcon\", \"Falcon\", \"Parrot\"],\n",
      " |  ...         \"Speed\": [100, 5, 200, 300, 15],\n",
      " |  ...     }\n",
      " |  ... )\n",
      " |  >>> df\n",
      " |     Animal  Speed\n",
      " |  0  Falcon    100\n",
      " |  1  Parrot      5\n",
      " |  2  Falcon    200\n",
      " |  3  Falcon    300\n",
      " |  4  Parrot     15\n",
      " |  >>> df.groupby(pd.Grouper(key=\"Animal\")).mean()\n",
      " |          Speed\n",
      " |  Animal\n",
      " |  Falcon  200.0\n",
      " |  Parrot   10.0\n",
      " |  \n",
      " |  Specify a resample operation on the column 'Publish date'\n",
      " |  \n",
      " |  >>> df = pd.DataFrame(\n",
      " |  ...    {\n",
      " |  ...        \"Publish date\": [\n",
      " |  ...             pd.Timestamp(\"2000-01-02\"),\n",
      " |  ...             pd.Timestamp(\"2000-01-02\"),\n",
      " |  ...             pd.Timestamp(\"2000-01-09\"),\n",
      " |  ...             pd.Timestamp(\"2000-01-16\")\n",
      " |  ...         ],\n",
      " |  ...         \"ID\": [0, 1, 2, 3],\n",
      " |  ...         \"Price\": [10, 20, 30, 40]\n",
      " |  ...     }\n",
      " |  ... )\n",
      " |  >>> df\n",
      " |    Publish date  ID  Price\n",
      " |  0   2000-01-02   0     10\n",
      " |  1   2000-01-02   1     20\n",
      " |  2   2000-01-09   2     30\n",
      " |  3   2000-01-16   3     40\n",
      " |  >>> df.groupby(pd.Grouper(key=\"Publish date\", freq=\"1W\")).mean()\n",
      " |                 ID  Price\n",
      " |  Publish date\n",
      " |  2000-01-02    0.5   15.0\n",
      " |  2000-01-09    2.0   30.0\n",
      " |  2000-01-16    3.0   40.0\n",
      " |  \n",
      " |  If you want to adjust the start of the bins based on a fixed timestamp:\n",
      " |  \n",
      " |  >>> start, end = '2000-10-01 23:30:00', '2000-10-02 00:30:00'\n",
      " |  >>> rng = pd.date_range(start, end, freq='7min')\n",
      " |  >>> ts = pd.Series(np.arange(len(rng)) * 3, index=rng)\n",
      " |  >>> ts\n",
      " |  2000-10-01 23:30:00     0\n",
      " |  2000-10-01 23:37:00     3\n",
      " |  2000-10-01 23:44:00     6\n",
      " |  2000-10-01 23:51:00     9\n",
      " |  2000-10-01 23:58:00    12\n",
      " |  2000-10-02 00:05:00    15\n",
      " |  2000-10-02 00:12:00    18\n",
      " |  2000-10-02 00:19:00    21\n",
      " |  2000-10-02 00:26:00    24\n",
      " |  Freq: 7T, dtype: int64\n",
      " |  \n",
      " |  >>> ts.groupby(pd.Grouper(freq='17min')).sum()\n",
      " |  2000-10-01 23:14:00     0\n",
      " |  2000-10-01 23:31:00     9\n",
      " |  2000-10-01 23:48:00    21\n",
      " |  2000-10-02 00:05:00    54\n",
      " |  2000-10-02 00:22:00    24\n",
      " |  Freq: 17T, dtype: int64\n",
      " |  \n",
      " |  >>> ts.groupby(pd.Grouper(freq='17min', origin='epoch')).sum()\n",
      " |  2000-10-01 23:18:00     0\n",
      " |  2000-10-01 23:35:00    18\n",
      " |  2000-10-01 23:52:00    27\n",
      " |  2000-10-02 00:09:00    39\n",
      " |  2000-10-02 00:26:00    24\n",
      " |  Freq: 17T, dtype: int64\n",
      " |  \n",
      " |  >>> ts.groupby(pd.Grouper(freq='17min', origin='2000-01-01')).sum()\n",
      " |  2000-10-01 23:24:00     3\n",
      " |  2000-10-01 23:41:00    15\n",
      " |  2000-10-01 23:58:00    45\n",
      " |  2000-10-02 00:15:00    45\n",
      " |  Freq: 17T, dtype: int64\n",
      " |  \n",
      " |  If you want to adjust the start of the bins with an `offset` Timedelta, the two\n",
      " |  following lines are equivalent:\n",
      " |  \n",
      " |  >>> ts.groupby(pd.Grouper(freq='17min', origin='start')).sum()\n",
      " |  2000-10-01 23:30:00     9\n",
      " |  2000-10-01 23:47:00    21\n",
      " |  2000-10-02 00:04:00    54\n",
      " |  2000-10-02 00:21:00    24\n",
      " |  Freq: 17T, dtype: int64\n",
      " |  \n",
      " |  >>> ts.groupby(pd.Grouper(freq='17min', offset='23h30min')).sum()\n",
      " |  2000-10-01 23:30:00     9\n",
      " |  2000-10-01 23:47:00    21\n",
      " |  2000-10-02 00:04:00    54\n",
      " |  2000-10-02 00:21:00    24\n",
      " |  Freq: 17T, dtype: int64\n",
      " |  \n",
      " |  To replace the use of the deprecated `base` argument, you can now use `offset`,\n",
      " |  in this example it is equivalent to have `base=2`:\n",
      " |  \n",
      " |  >>> ts.groupby(pd.Grouper(freq='17min', offset='2min')).sum()\n",
      " |  2000-10-01 23:16:00     0\n",
      " |  2000-10-01 23:33:00     9\n",
      " |  2000-10-01 23:50:00    36\n",
      " |  2000-10-02 00:07:00    39\n",
      " |  2000-10-02 00:24:00    24\n",
      " |  Freq: 17T, dtype: int64\n",
      " |  \n",
      " |  Methods defined here:\n",
      " |  \n",
      " |  __init__(self, key=None, level=None, freq=None, axis: 'int' = 0, sort: 'bool' = False, dropna: 'bool' = True) -> 'None'\n",
      " |      Initialize self.  See help(type(self)) for accurate signature.\n",
      " |  \n",
      " |  __repr__(self) -> 'str'\n",
      " |      Return repr(self).\n",
      " |  \n",
      " |  ----------------------------------------------------------------------\n",
      " |  Static methods defined here:\n",
      " |  \n",
      " |  __new__(cls, *args, **kwargs)\n",
      " |      Create and return a new object.  See help(type) for accurate signature.\n",
      " |  \n",
      " |  ----------------------------------------------------------------------\n",
      " |  Readonly properties defined here:\n",
      " |  \n",
      " |  ax\n",
      " |  \n",
      " |  groups\n",
      " |  \n",
      " |  ----------------------------------------------------------------------\n",
      " |  Data descriptors defined here:\n",
      " |  \n",
      " |  __dict__\n",
      " |      dictionary for instance variables (if defined)\n",
      " |  \n",
      " |  __weakref__\n",
      " |      list of weak references to the object (if defined)\n",
      " |  \n",
      " |  ----------------------------------------------------------------------\n",
      " |  Data and other attributes defined here:\n",
      " |  \n",
      " |  __annotations__ = {'_attributes': 'tuple[str, ...]', '_gpr_index': 'In...\n",
      "\n"
     ]
    }
   ],
   "source": [
    "help(pd.Grouper)"
   ]
  },
  {
   "cell_type": "code",
   "execution_count": null,
   "metadata": {},
   "outputs": [],
   "source": []
  }
 ],
 "metadata": {
  "kernelspec": {
   "display_name": "Python 3.8.8 ('.venv': venv)",
   "language": "python",
   "name": "python3"
  },
  "language_info": {
   "codemirror_mode": {
    "name": "ipython",
    "version": 3
   },
   "file_extension": ".py",
   "mimetype": "text/x-python",
   "name": "python",
   "nbconvert_exporter": "python",
   "pygments_lexer": "ipython3",
   "version": "3.8.8"
  },
  "orig_nbformat": 4,
  "vscode": {
   "interpreter": {
    "hash": "1a2394ed48906b449187dfe720e0119b9163ad54f60a6b36bd8129b90c9e9c22"
   }
  }
 },
 "nbformat": 4,
 "nbformat_minor": 2
}
