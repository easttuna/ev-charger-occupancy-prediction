{
 "cells": [
  {
   "cell_type": "code",
   "execution_count": 1,
   "metadata": {},
   "outputs": [],
   "source": [
    "import pandas as pd"
   ]
  },
  {
   "cell_type": "code",
   "execution_count": 2,
   "metadata": {},
   "outputs": [],
   "source": [
    "data = pd.read_csv('../data/input_table/pre_dataset.csv')\n",
    "data = data.sample(frac=1, random_state=42, ignore_index=True)"
   ]
  },
  {
   "cell_type": "code",
   "execution_count": 3,
   "metadata": {},
   "outputs": [
    {
     "data": {
      "text/plain": [
       "100"
      ]
     },
     "execution_count": 3,
     "metadata": {},
     "output_type": "execute_result"
    }
   ],
   "source": [
    "data.station.nunique()"
   ]
  },
  {
   "cell_type": "code",
   "execution_count": 4,
   "metadata": {},
   "outputs": [
    {
     "data": {
      "text/plain": [
       "0.18105744520030234"
      ]
     },
     "execution_count": 4,
     "metadata": {},
     "output_type": "execute_result"
    }
   ],
   "source": [
    "data['t+6'].mean()"
   ]
  },
  {
   "cell_type": "code",
   "execution_count": 5,
   "metadata": {},
   "outputs": [
    {
     "data": {
      "text/html": [
       "<div>\n",
       "<style scoped>\n",
       "    .dataframe tbody tr th:only-of-type {\n",
       "        vertical-align: middle;\n",
       "    }\n",
       "\n",
       "    .dataframe tbody tr th {\n",
       "        vertical-align: top;\n",
       "    }\n",
       "\n",
       "    .dataframe thead th {\n",
       "        text-align: right;\n",
       "    }\n",
       "</style>\n",
       "<table border=\"1\" class=\"dataframe\">\n",
       "  <thead>\n",
       "    <tr style=\"text-align: right;\">\n",
       "      <th></th>\n",
       "      <th>t-11</th>\n",
       "      <th>t-10</th>\n",
       "      <th>t-9</th>\n",
       "      <th>t-8</th>\n",
       "      <th>t-7</th>\n",
       "      <th>t-6</th>\n",
       "      <th>t-5</th>\n",
       "      <th>t-4</th>\n",
       "      <th>t-3</th>\n",
       "      <th>t-2</th>\n",
       "      <th>t-1</th>\n",
       "      <th>t0</th>\n",
       "      <th>station</th>\n",
       "      <th>sin_time</th>\n",
       "      <th>cos_time</th>\n",
       "      <th>dow</th>\n",
       "      <th>weekend</th>\n",
       "      <th>t+6</th>\n",
       "    </tr>\n",
       "  </thead>\n",
       "  <tbody>\n",
       "    <tr>\n",
       "      <th>0</th>\n",
       "      <td>0</td>\n",
       "      <td>0</td>\n",
       "      <td>0</td>\n",
       "      <td>0</td>\n",
       "      <td>0</td>\n",
       "      <td>1</td>\n",
       "      <td>1</td>\n",
       "      <td>1</td>\n",
       "      <td>1</td>\n",
       "      <td>1</td>\n",
       "      <td>1</td>\n",
       "      <td>0</td>\n",
       "      <td>16</td>\n",
       "      <td>-0.173648</td>\n",
       "      <td>-0.984808</td>\n",
       "      <td>4</td>\n",
       "      <td>0</td>\n",
       "      <td>0</td>\n",
       "    </tr>\n",
       "    <tr>\n",
       "      <th>1</th>\n",
       "      <td>0</td>\n",
       "      <td>0</td>\n",
       "      <td>0</td>\n",
       "      <td>0</td>\n",
       "      <td>0</td>\n",
       "      <td>0</td>\n",
       "      <td>0</td>\n",
       "      <td>0</td>\n",
       "      <td>0</td>\n",
       "      <td>0</td>\n",
       "      <td>0</td>\n",
       "      <td>0</td>\n",
       "      <td>28</td>\n",
       "      <td>-0.258819</td>\n",
       "      <td>0.965926</td>\n",
       "      <td>2</td>\n",
       "      <td>0</td>\n",
       "      <td>0</td>\n",
       "    </tr>\n",
       "    <tr>\n",
       "      <th>2</th>\n",
       "      <td>0</td>\n",
       "      <td>0</td>\n",
       "      <td>0</td>\n",
       "      <td>0</td>\n",
       "      <td>0</td>\n",
       "      <td>0</td>\n",
       "      <td>0</td>\n",
       "      <td>0</td>\n",
       "      <td>0</td>\n",
       "      <td>0</td>\n",
       "      <td>0</td>\n",
       "      <td>0</td>\n",
       "      <td>86</td>\n",
       "      <td>0.991445</td>\n",
       "      <td>0.130526</td>\n",
       "      <td>5</td>\n",
       "      <td>1</td>\n",
       "      <td>0</td>\n",
       "    </tr>\n",
       "    <tr>\n",
       "      <th>3</th>\n",
       "      <td>1</td>\n",
       "      <td>1</td>\n",
       "      <td>1</td>\n",
       "      <td>1</td>\n",
       "      <td>0</td>\n",
       "      <td>0</td>\n",
       "      <td>0</td>\n",
       "      <td>0</td>\n",
       "      <td>0</td>\n",
       "      <td>0</td>\n",
       "      <td>0</td>\n",
       "      <td>0</td>\n",
       "      <td>72</td>\n",
       "      <td>-0.953717</td>\n",
       "      <td>-0.300706</td>\n",
       "      <td>2</td>\n",
       "      <td>0</td>\n",
       "      <td>0</td>\n",
       "    </tr>\n",
       "    <tr>\n",
       "      <th>4</th>\n",
       "      <td>0</td>\n",
       "      <td>0</td>\n",
       "      <td>0</td>\n",
       "      <td>0</td>\n",
       "      <td>0</td>\n",
       "      <td>0</td>\n",
       "      <td>0</td>\n",
       "      <td>0</td>\n",
       "      <td>0</td>\n",
       "      <td>0</td>\n",
       "      <td>0</td>\n",
       "      <td>0</td>\n",
       "      <td>9</td>\n",
       "      <td>0.300706</td>\n",
       "      <td>0.953717</td>\n",
       "      <td>6</td>\n",
       "      <td>1</td>\n",
       "      <td>0</td>\n",
       "    </tr>\n",
       "  </tbody>\n",
       "</table>\n",
       "</div>"
      ],
      "text/plain": [
       "   t-11  t-10  t-9  t-8  t-7  t-6  t-5  t-4  t-3  t-2  t-1  t0  station  \\\n",
       "0     0     0    0    0    0    1    1    1    1    1    1   0       16   \n",
       "1     0     0    0    0    0    0    0    0    0    0    0   0       28   \n",
       "2     0     0    0    0    0    0    0    0    0    0    0   0       86   \n",
       "3     1     1    1    1    0    0    0    0    0    0    0   0       72   \n",
       "4     0     0    0    0    0    0    0    0    0    0    0   0        9   \n",
       "\n",
       "   sin_time  cos_time  dow  weekend  t+6  \n",
       "0 -0.173648 -0.984808    4        0    0  \n",
       "1 -0.258819  0.965926    2        0    0  \n",
       "2  0.991445  0.130526    5        1    0  \n",
       "3 -0.953717 -0.300706    2        0    0  \n",
       "4  0.300706  0.953717    6        1    0  "
      ]
     },
     "execution_count": 5,
     "metadata": {},
     "output_type": "execute_result"
    }
   ],
   "source": [
    "\n",
    "data.head()"
   ]
  },
  {
   "cell_type": "code",
   "execution_count": 6,
   "metadata": {},
   "outputs": [
    {
     "data": {
      "text/plain": [
       "(1323000, 18)"
      ]
     },
     "execution_count": 6,
     "metadata": {},
     "output_type": "execute_result"
    }
   ],
   "source": [
    "data.shape"
   ]
  },
  {
   "cell_type": "code",
   "execution_count": 7,
   "metadata": {},
   "outputs": [
    {
     "data": {
      "text/plain": [
       "(1000000, 323000)"
      ]
     },
     "execution_count": 7,
     "metadata": {},
     "output_type": "execute_result"
    }
   ],
   "source": [
    "TRAIN_NUM = 1_000_000\n",
    "train_data = data.iloc[:TRAIN_NUM]\n",
    "valid_data = data.iloc[TRAIN_NUM:]\n",
    "len(train_data), len(valid_data)"
   ]
  },
  {
   "cell_type": "code",
   "execution_count": 8,
   "metadata": {},
   "outputs": [],
   "source": [
    "# feature definition\n",
    "general_features = [col for col in data.columns if col not in ['station', 't+6']]\n",
    "embedding_features = ['station']\n",
    "target_features = ['t+6']"
   ]
  },
  {
   "cell_type": "code",
   "execution_count": 9,
   "metadata": {},
   "outputs": [
    {
     "data": {
      "text/plain": [
       "(1000000, 16)"
      ]
     },
     "execution_count": 9,
     "metadata": {},
     "output_type": "execute_result"
    }
   ],
   "source": [
    "train_data[general_features].values.shape"
   ]
  },
  {
   "cell_type": "markdown",
   "metadata": {},
   "source": [
    "## Dataset 정의"
   ]
  },
  {
   "cell_type": "code",
   "execution_count": 10,
   "metadata": {},
   "outputs": [],
   "source": [
    "import torch\n",
    "from torch.utils.data import Dataset, DataLoader\n",
    "\n",
    "class EvcBaseDataset(Dataset):\n",
    "    def __init__(self, xs, ys):\n",
    "        assert len(xs) == len(ys)\n",
    "\n",
    "        self.xs = torch.tensor(xs).float()\n",
    "        self.ys = torch.tensor(ys).float()\n",
    "\n",
    "    def __len__(self):\n",
    "        return len(self.xs)\n",
    "\n",
    "    def __getitem__(self, i):\n",
    "        x, y = self.xs[i], self.ys[i]\n",
    "        return x, y\n",
    "\n",
    "\n",
    "class EvcEmbeddingDataset(EvcBaseDataset):\n",
    "    def __init__(self, xs, es, ys):\n",
    "        assert len(xs) == len(ys)\n",
    "\n",
    "        self.xs = torch.tensor(xs).float()\n",
    "        self.es = torch.tensor(es)\n",
    "        self.ys = torch.tensor(ys).float()\n",
    "        \n",
    "    def __len__(self):\n",
    "        return len(self.xs)\n",
    "\n",
    "    def __getitem__(self, i):\n",
    "        x, e, y = self.xs[i], self.es[i], self.ys[i]\n",
    "        return x, e, y"
   ]
  },
  {
   "cell_type": "code",
   "execution_count": 11,
   "metadata": {},
   "outputs": [],
   "source": [
    "import torch\n",
    "from torch.utils.data import Dataset, DataLoader\n",
    "\n",
    "\n",
    "class EvcDataset(Dataset):\n",
    "    def __init__(self, xs, sids, ys):\n",
    "        assert len(xs) == len(ys)\n",
    "\n",
    "        self.xs = torch.tensor(xs).float()\n",
    "        self.sids = torch.tensor(sids)\n",
    "        self.ys = torch.tensor(ys).float()\n",
    "        \n",
    "    def __len__(self):\n",
    "        return len(self.xs)\n",
    "\n",
    "    def __getitem__(self, i):\n",
    "        x, sid, y = self.xs[i], self.sids[i], self.ys[i]\n",
    "        return x, sid, y"
   ]
  },
  {
   "cell_type": "code",
   "execution_count": 12,
   "metadata": {},
   "outputs": [],
   "source": [
    "trainset = EvcDataset(xs=train_data[general_features].values,\n",
    "                      sids=train_data[embedding_features].values.flatten(),\n",
    "                      ys=train_data[target_features].values)\n",
    "validset = EvcDataset(xs=valid_data[general_features].values,\n",
    "                      sids=valid_data[embedding_features].values.flatten(),\n",
    "                      ys=valid_data[target_features].values)    "
   ]
  },
  {
   "cell_type": "code",
   "execution_count": 13,
   "metadata": {},
   "outputs": [],
   "source": [
    "train_loader = DataLoader(trainset, batch_size=256)\n",
    "valid_loader = DataLoader(validset, batch_size=1024)"
   ]
  },
  {
   "cell_type": "markdown",
   "metadata": {},
   "source": [
    "## 모델 정의"
   ]
  },
  {
   "cell_type": "code",
   "execution_count": 30,
   "metadata": {},
   "outputs": [],
   "source": [
    "import torch\n",
    "import torch.nn as nn\n",
    "import torch.nn.functional as F\n",
    "\n",
    "\n",
    "class BaseMLP(nn.Module):\n",
    "    def __init__(self):\n",
    "        super().__init__()\n",
    "        self.require_sid = False\n",
    "        self.fc1 = nn.Linear(16, 64)\n",
    "        self.fc2 = nn.Linear(64, 128)\n",
    "        self.fc3 = nn.Linear(128, 32)\n",
    "        self.fc4 = nn.Linear(32, 1)\n",
    "\n",
    "    def forward(self, x):\n",
    "        x = F.relu(self.fc1(x))\n",
    "        x = F.relu(self.fc2(x))\n",
    "        x = F.relu(self.fc3(x))\n",
    "        x = self.fc4(x)\n",
    "        return torch.sigmoid(x)\n",
    "\n",
    "\n",
    "class BaseEmbeddingMLP(nn.Module):\n",
    "    def __init__(self, station_size, n_dim):\n",
    "        super().__init__()\n",
    "        self.require_sid = True\n",
    "        self.embedding = nn.Embedding(num_embeddings=station_size, embedding_dim=n_dim)\n",
    "        self.fc1 = nn.Linear(16+n_dim, 64)\n",
    "        self.fc2 = nn.Linear(64, 128)\n",
    "        self.fc3 = nn.Linear(128, 32)\n",
    "        self.fc4 = nn.Linear(32, 1)\n",
    "\n",
    "    def forward(self, x, e):\n",
    "        e = self.embedding(e)\n",
    "        x = torch.cat((x, e), dim=1)\n",
    "        x = F.relu(self.fc1(x))\n",
    "        x = F.relu(self.fc2(x))\n",
    "        x = F.relu(self.fc3(x))\n",
    "        x = self.fc4(x)\n",
    "        return torch.sigmoid(x)"
   ]
  },
  {
   "cell_type": "markdown",
   "metadata": {},
   "source": [
    "## Train, Test function"
   ]
  },
  {
   "cell_type": "code",
   "execution_count": 27,
   "metadata": {},
   "outputs": [],
   "source": [
    "from sklearn.metrics import accuracy_score, roc_auc_score, precision_score, recall_score, f1_score\n",
    "\n",
    "def train(model, train_dataloader, optim, epoch):\n",
    "    model.train()\n",
    "    criterion = nn.BCELoss()\n",
    "    for b_i, (X, E, y) in enumerate(train_dataloader):\n",
    "        optim.zero_grad()\n",
    "\n",
    "        if model.require_sid:\n",
    "            prob_pred = model(X,E)\n",
    "        else:\n",
    "            prob_pred = model(X)\n",
    "        \n",
    "        loss = criterion(prob_pred, y)\n",
    "        loss.backward()\n",
    "        optim.step()\n",
    "        \n",
    "        if b_i % 1000 == 0:\n",
    "            print('epoch: {} [{}/{} ({:.0f}%)]\\t training loss: {:.6f}'.format(\n",
    "                epoch, b_i * len(X), len(train_dataloader.dataset),\n",
    "                100 * b_i / len(train_dataloader), loss.item()\n",
    "            ))\n",
    "\n",
    "\n",
    "def test(model, test_dataloader):\n",
    "    model.eval()\n",
    "    criterion = nn.BCELoss(reduction='sum')\n",
    "    loss = 0\n",
    "\n",
    "    with torch.no_grad():\n",
    "        prob_pred_total = torch.Tensor()\n",
    "        y_total = torch.Tensor()\n",
    "\n",
    "        for X, E, y in test_dataloader:\n",
    "            if model.require_sid:\n",
    "                prob_pred = model(X,E)\n",
    "            else:\n",
    "                prob_pred = model(X)\n",
    "            prob_pred_total = torch.cat([prob_pred_total, prob_pred.flatten()], dim=0)\n",
    "            y_total = torch.cat([y_total, y.flatten()], dim=0)\n",
    "\n",
    "            loss += criterion(prob_pred, y).item()\n",
    "    loss /= len(test_dataloader.dataset)\n",
    "\n",
    "    y_pred = torch.round(prob_pred_total)\n",
    "    accuracy = accuracy_score(y_total, y_pred)\n",
    "    precision = precision_score(y_total, y_pred)\n",
    "    recall = recall_score(y_total, y_pred)\n",
    "    f1 = f1_score(y_total, y_pred)\n",
    "\n",
    "    auc_score = roc_auc_score(y_total, prob_pred_total)\n",
    "    print('\\nTest dataset:  Loss: {:.4f}, Accuracy: {:.2f}, Precision: {:.2f}, Recall: {:.2f}, F1: {:.2f}, AUC: {:.2f}'.format(\n",
    "        loss, accuracy, precision, recall, f1, auc_score))"
   ]
  },
  {
   "cell_type": "code",
   "execution_count": 28,
   "metadata": {},
   "outputs": [
    {
     "name": "stdout",
     "output_type": "stream",
     "text": [
      "epoch: 1 [0/1000000 (0%)]\t training loss: 0.718585\n",
      "epoch: 1 [256000/1000000 (26%)]\t training loss: 0.468216\n",
      "epoch: 1 [512000/1000000 (51%)]\t training loss: 0.428320\n",
      "epoch: 1 [768000/1000000 (77%)]\t training loss: 0.427738\n"
     ]
    },
    {
     "name": "stderr",
     "output_type": "stream",
     "text": [
      "/home/easttuna/projects/ev-charger-occupancy-prediction/.venv/lib/python3.8/site-packages/sklearn/metrics/_classification.py:1334: UndefinedMetricWarning: Precision is ill-defined and being set to 0.0 due to no predicted samples. Use `zero_division` parameter to control this behavior.\n",
      "  _warn_prf(average, modifier, msg_start, len(result))\n"
     ]
    },
    {
     "name": "stdout",
     "output_type": "stream",
     "text": [
      "\n",
      "Test dataset:  Loss: 0.4342, Accuracy: 0.82, Precision: 0.00, Recall: 0.00, F1: 0.00, AUC: 0.70\n",
      "\n",
      "epoch: 2 [0/1000000 (0%)]\t training loss: 0.428428\n",
      "epoch: 2 [256000/1000000 (26%)]\t training loss: 0.466303\n",
      "epoch: 2 [512000/1000000 (51%)]\t training loss: 0.428367\n",
      "epoch: 2 [768000/1000000 (77%)]\t training loss: 0.426540\n"
     ]
    },
    {
     "name": "stderr",
     "output_type": "stream",
     "text": [
      "/home/easttuna/projects/ev-charger-occupancy-prediction/.venv/lib/python3.8/site-packages/sklearn/metrics/_classification.py:1334: UndefinedMetricWarning: Precision is ill-defined and being set to 0.0 due to no predicted samples. Use `zero_division` parameter to control this behavior.\n",
      "  _warn_prf(average, modifier, msg_start, len(result))\n"
     ]
    },
    {
     "name": "stdout",
     "output_type": "stream",
     "text": [
      "\n",
      "Test dataset:  Loss: 0.4340, Accuracy: 0.82, Precision: 0.00, Recall: 0.00, F1: 0.00, AUC: 0.70\n",
      "\n",
      "epoch: 3 [0/1000000 (0%)]\t training loss: 0.428937\n",
      "epoch: 3 [256000/1000000 (26%)]\t training loss: 0.467153\n",
      "epoch: 3 [512000/1000000 (51%)]\t training loss: 0.428329\n",
      "epoch: 3 [768000/1000000 (77%)]\t training loss: 0.426722\n"
     ]
    },
    {
     "name": "stderr",
     "output_type": "stream",
     "text": [
      "/home/easttuna/projects/ev-charger-occupancy-prediction/.venv/lib/python3.8/site-packages/sklearn/metrics/_classification.py:1334: UndefinedMetricWarning: Precision is ill-defined and being set to 0.0 due to no predicted samples. Use `zero_division` parameter to control this behavior.\n",
      "  _warn_prf(average, modifier, msg_start, len(result))\n"
     ]
    },
    {
     "name": "stdout",
     "output_type": "stream",
     "text": [
      "\n",
      "Test dataset:  Loss: 0.4339, Accuracy: 0.82, Precision: 0.00, Recall: 0.00, F1: 0.00, AUC: 0.70\n",
      "\n",
      "epoch: 4 [0/1000000 (0%)]\t training loss: 0.428572\n",
      "epoch: 4 [256000/1000000 (26%)]\t training loss: 0.466495\n",
      "epoch: 4 [512000/1000000 (51%)]\t training loss: 0.428190\n",
      "epoch: 4 [768000/1000000 (77%)]\t training loss: 0.426234\n"
     ]
    },
    {
     "name": "stderr",
     "output_type": "stream",
     "text": [
      "/home/easttuna/projects/ev-charger-occupancy-prediction/.venv/lib/python3.8/site-packages/sklearn/metrics/_classification.py:1334: UndefinedMetricWarning: Precision is ill-defined and being set to 0.0 due to no predicted samples. Use `zero_division` parameter to control this behavior.\n",
      "  _warn_prf(average, modifier, msg_start, len(result))\n"
     ]
    },
    {
     "name": "stdout",
     "output_type": "stream",
     "text": [
      "\n",
      "Test dataset:  Loss: 0.4338, Accuracy: 0.82, Precision: 0.00, Recall: 0.00, F1: 0.00, AUC: 0.70\n",
      "\n",
      "epoch: 5 [0/1000000 (0%)]\t training loss: 0.428317\n",
      "epoch: 5 [256000/1000000 (26%)]\t training loss: 0.465717\n",
      "epoch: 5 [512000/1000000 (51%)]\t training loss: 0.427981\n",
      "epoch: 5 [768000/1000000 (77%)]\t training loss: 0.426361\n"
     ]
    },
    {
     "name": "stderr",
     "output_type": "stream",
     "text": [
      "/home/easttuna/projects/ev-charger-occupancy-prediction/.venv/lib/python3.8/site-packages/sklearn/metrics/_classification.py:1334: UndefinedMetricWarning: Precision is ill-defined and being set to 0.0 due to no predicted samples. Use `zero_division` parameter to control this behavior.\n",
      "  _warn_prf(average, modifier, msg_start, len(result))\n"
     ]
    },
    {
     "name": "stdout",
     "output_type": "stream",
     "text": [
      "\n",
      "Test dataset:  Loss: 0.4338, Accuracy: 0.82, Precision: 0.00, Recall: 0.00, F1: 0.00, AUC: 0.70\n",
      "\n"
     ]
    }
   ],
   "source": [
    "model = BaseMLP()\n",
    "optim = torch.optim.Adam(model.parameters(), lr=1e-3)\n",
    "\n",
    "N_EPOCH = 5\n",
    "\n",
    "for epoch in range(1,N_EPOCH+1):\n",
    "    train(model, train_loader, optim, epoch)\n",
    "    test(model, valid_loader)\n",
    "    print()"
   ]
  },
  {
   "cell_type": "code",
   "execution_count": 31,
   "metadata": {},
   "outputs": [
    {
     "name": "stdout",
     "output_type": "stream",
     "text": [
      "epoch: 1 [0/1000000 (0%)]\t training loss: 0.644781\n",
      "epoch: 1 [256000/1000000 (26%)]\t training loss: 0.464136\n",
      "epoch: 1 [512000/1000000 (51%)]\t training loss: 0.425032\n",
      "epoch: 1 [768000/1000000 (77%)]\t training loss: 0.408896\n",
      "\n",
      "Test dataset:  Loss: 0.4177, Accuracy: 0.82, Precision: 0.58, Recall: 0.03, F1: 0.06, AUC: 0.73\n",
      "\n",
      "epoch: 2 [0/1000000 (0%)]\t training loss: 0.421193\n",
      "epoch: 2 [256000/1000000 (26%)]\t training loss: 0.445798\n",
      "epoch: 2 [512000/1000000 (51%)]\t training loss: 0.414953\n",
      "epoch: 2 [768000/1000000 (77%)]\t training loss: 0.400685\n",
      "\n",
      "Test dataset:  Loss: 0.4142, Accuracy: 0.82, Precision: 0.59, Recall: 0.04, F1: 0.07, AUC: 0.74\n",
      "\n",
      "epoch: 3 [0/1000000 (0%)]\t training loss: 0.421789\n",
      "epoch: 3 [256000/1000000 (26%)]\t training loss: 0.437766\n",
      "epoch: 3 [512000/1000000 (51%)]\t training loss: 0.408911\n",
      "epoch: 3 [768000/1000000 (77%)]\t training loss: 0.396703\n",
      "\n",
      "Test dataset:  Loss: 0.4121, Accuracy: 0.82, Precision: 0.58, Recall: 0.04, F1: 0.08, AUC: 0.74\n",
      "\n",
      "epoch: 4 [0/1000000 (0%)]\t training loss: 0.423856\n",
      "epoch: 4 [256000/1000000 (26%)]\t training loss: 0.432467\n",
      "epoch: 4 [512000/1000000 (51%)]\t training loss: 0.407469\n",
      "epoch: 4 [768000/1000000 (77%)]\t training loss: 0.396417\n",
      "\n",
      "Test dataset:  Loss: 0.4109, Accuracy: 0.82, Precision: 0.58, Recall: 0.05, F1: 0.09, AUC: 0.75\n",
      "\n",
      "epoch: 5 [0/1000000 (0%)]\t training loss: 0.427661\n",
      "epoch: 5 [256000/1000000 (26%)]\t training loss: 0.429454\n",
      "epoch: 5 [512000/1000000 (51%)]\t training loss: 0.403450\n",
      "epoch: 5 [768000/1000000 (77%)]\t training loss: 0.391935\n",
      "\n",
      "Test dataset:  Loss: 0.4099, Accuracy: 0.82, Precision: 0.57, Recall: 0.06, F1: 0.10, AUC: 0.75\n",
      "\n"
     ]
    }
   ],
   "source": [
    "model_emb = BaseEmbeddingMLP(100, 16)\n",
    "optim = torch.optim.Adam(model_emb.parameters(), lr=1e-3)\n",
    "\n",
    "N_EPOCH = 5\n",
    "\n",
    "for epoch in range(1,N_EPOCH+1):\n",
    "    train(model_emb, train_loader, optim, epoch)\n",
    "    test(model_emb, valid_loader)\n",
    "    print()"
   ]
  },
  {
   "cell_type": "code",
   "execution_count": null,
   "metadata": {},
   "outputs": [],
   "source": []
  },
  {
   "cell_type": "code",
   "execution_count": null,
   "metadata": {},
   "outputs": [],
   "source": []
  },
  {
   "cell_type": "code",
   "execution_count": 25,
   "metadata": {},
   "outputs": [
    {
     "name": "stdout",
     "output_type": "stream",
     "text": [
      "embedding.weight\n",
      "fc1.weight\n",
      "fc1.bias\n",
      "fc2.weight\n",
      "fc2.bias\n",
      "fc3.weight\n",
      "fc3.bias\n",
      "fc4.weight\n",
      "fc4.bias\n"
     ]
    }
   ],
   "source": [
    "for name, param in model_emb.state_dict().items():\n",
    "    print(name)"
   ]
  },
  {
   "cell_type": "code",
   "execution_count": 26,
   "metadata": {},
   "outputs": [
    {
     "data": {
      "text/plain": [
       "tensor([-2.6512, -1.0928, -0.5598, -0.5540, -0.4250,  1.1453,  0.2390, -0.9640,\n",
       "         0.1794, -0.8276, -0.9192, -0.3683,  0.7057,  1.4417,  0.6825, -0.6606])"
      ]
     },
     "execution_count": 26,
     "metadata": {},
     "output_type": "execute_result"
    }
   ],
   "source": [
    "model_emb.state_dict()['embedding.weight'][0]"
   ]
  },
  {
   "cell_type": "code",
   "execution_count": 33,
   "metadata": {},
   "outputs": [
    {
     "name": "stderr",
     "output_type": "stream",
     "text": [
      "/home/easttuna/projects/ev-charger-occupancy-prediction/.venv/lib/python3.8/site-packages/sklearn/manifold/_t_sne.py:800: FutureWarning: The default initialization in TSNE will change from 'random' to 'pca' in 1.2.\n",
      "  warnings.warn(\n",
      "/home/easttuna/projects/ev-charger-occupancy-prediction/.venv/lib/python3.8/site-packages/sklearn/manifold/_t_sne.py:810: FutureWarning: The default learning rate in TSNE will change from 200.0 to 'auto' in 1.2.\n",
      "  warnings.warn(\n"
     ]
    }
   ],
   "source": [
    "from sklearn.manifold import TSNE\n",
    "import pandas as pd\n",
    "\n",
    "\n",
    "tsne = TSNE(n_components = 2).fit_transform(model_emb.state_dict()['embedding.weight'])\n",
    "\n",
    "df = pd.DataFrame(tsne)"
   ]
  },
  {
   "cell_type": "code",
   "execution_count": 39,
   "metadata": {},
   "outputs": [
    {
     "data": {
      "text/plain": [
       "<matplotlib.collections.PathCollection at 0x7f4e39141fd0>"
      ]
     },
     "execution_count": 39,
     "metadata": {},
     "output_type": "execute_result"
    },
    {
     "data": {
      "image/png": "[encoded data removed]",
      "text/plain": [
       "<Figure size 600x600 with 1 Axes>"
      ]
     },
     "metadata": {},
     "output_type": "display_data"
    }
   ],
   "source": [
    "import matplotlib.pyplot as plt\n",
    "\n",
    "fig, ax = plt.subplots(figsize=(6,6))\n",
    "\n",
    "ax.scatter(df[0], df[1])"
   ]
  },
  {
   "cell_type": "code",
   "execution_count": null,
   "metadata": {},
   "outputs": [],
   "source": []
  }
 ],
 "metadata": {
  "kernelspec": {
   "display_name": "Python 3.8.8 ('.venv': venv)",
   "language": "python",
   "name": "python3"
  },
  "language_info": {
   "codemirror_mode": {
    "name": "ipython",
    "version": 3
   },
   "file_extension": ".py",
   "mimetype": "text/x-python",
   "name": "python",
   "nbconvert_exporter": "python",
   "pygments_lexer": "ipython3",
   "version": "3.8.8"
  },
  "orig_nbformat": 4,
  "vscode": {
   "interpreter": {
    "hash": "1a2394ed48906b449187dfe720e0119b9163ad54f60a6b36bd8129b90c9e9c22"
   }
  }
 },
 "nbformat": 4,
 "nbformat_minor": 2
}
