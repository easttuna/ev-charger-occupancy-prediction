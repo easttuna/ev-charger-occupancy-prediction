{
 "cells": [
  {
   "cell_type": "markdown",
   "metadata": {},
   "source": [
    "## Featre Addition"
   ]
  },
  {
   "cell_type": "markdown",
   "metadata": {},
   "source": [
    "### 1) 주변링크의 평균 통행"
   ]
  },
  {
   "cell_type": "code",
   "execution_count": 74,
   "metadata": {},
   "outputs": [],
   "source": [
    "import pandas as pd\n",
    "\n",
    "\n",
    "pd.options.display.float_format = '{: .2f}'.format\n",
    "\n",
    "pub_station = pd.read_csv('../data/main_tables/PUB_STATION.csv')\n",
    "link = pd.read_csv('../data/qgis/stationbuffer_x_links.csv', usecols=['sid', 'LINK_ID'])\n",
    "trip = pd.read_csv('../data/qgis/taxi_trip.csv', encoding='cp949').rename(columns={' 평균통행량 ':'mean_trip', '링크아이디':'LINK_ID'})"
   ]
  },
  {
   "cell_type": "code",
   "execution_count": 75,
   "metadata": {},
   "outputs": [
    {
     "data": {
      "text/html": [
       "<div>\n",
       "<style scoped>\n",
       "    .dataframe tbody tr th:only-of-type {\n",
       "        vertical-align: middle;\n",
       "    }\n",
       "\n",
       "    .dataframe tbody tr th {\n",
       "        vertical-align: top;\n",
       "    }\n",
       "\n",
       "    .dataframe thead th {\n",
       "        text-align: right;\n",
       "    }\n",
       "</style>\n",
       "<table border=\"1\" class=\"dataframe\">\n",
       "  <thead>\n",
       "    <tr style=\"text-align: right;\">\n",
       "      <th></th>\n",
       "      <th>station_name</th>\n",
       "      <th>sid</th>\n",
       "      <th>address</th>\n",
       "      <th>lat</th>\n",
       "      <th>long</th>\n",
       "      <th>district_lv2</th>\n",
       "      <th>district_lv3</th>\n",
       "      <th>fast_cnt</th>\n",
       "      <th>slow_cnt</th>\n",
       "      <th>mean_speed</th>\n",
       "    </tr>\n",
       "  </thead>\n",
       "  <tbody>\n",
       "    <tr>\n",
       "      <th>0</th>\n",
       "      <td>화양강휴게소</td>\n",
       "      <td>강원_홍천_화양강휴게소</td>\n",
       "      <td>강원도 홍천군 두촌면 철정리 978-6</td>\n",
       "      <td>37.80</td>\n",
       "      <td>127.99</td>\n",
       "      <td>강원도_홍천군</td>\n",
       "      <td>강원도_홍천군_두촌면</td>\n",
       "      <td>1</td>\n",
       "      <td>0</td>\n",
       "      <td>50.00</td>\n",
       "    </tr>\n",
       "    <tr>\n",
       "      <th>1</th>\n",
       "      <td>상암월드컵경기장</td>\n",
       "      <td>서울_마포용산_상암월드컵경기장</td>\n",
       "      <td>서울특별시 마포구 성산동 531</td>\n",
       "      <td>37.57</td>\n",
       "      <td>126.89</td>\n",
       "      <td>서울특별시_마포구</td>\n",
       "      <td>서울특별시_마포구_성산동</td>\n",
       "      <td>7</td>\n",
       "      <td>3</td>\n",
       "      <td>50.00</td>\n",
       "    </tr>\n",
       "    <tr>\n",
       "      <th>2</th>\n",
       "      <td>대정읍사무소</td>\n",
       "      <td>제주_서귀포_대정읍사무소</td>\n",
       "      <td>제주특별자치도 서귀포시 대정읍 하모리 1413</td>\n",
       "      <td>33.23</td>\n",
       "      <td>126.25</td>\n",
       "      <td>제주특별자치도_서귀포시</td>\n",
       "      <td>제주특별자치도_서귀포시_대정읍</td>\n",
       "      <td>4</td>\n",
       "      <td>0</td>\n",
       "      <td>50.00</td>\n",
       "    </tr>\n",
       "    <tr>\n",
       "      <th>3</th>\n",
       "      <td>애월119센터</td>\n",
       "      <td>제주_제주직할_애월119센터</td>\n",
       "      <td>제주특별자치도 제주시 애월읍 일주서로 6513</td>\n",
       "      <td>33.47</td>\n",
       "      <td>126.35</td>\n",
       "      <td>제주특별자치도_제주시</td>\n",
       "      <td>제주특별자치도_제주시_애월읍</td>\n",
       "      <td>2</td>\n",
       "      <td>0</td>\n",
       "      <td>50.00</td>\n",
       "    </tr>\n",
       "    <tr>\n",
       "      <th>4</th>\n",
       "      <td>수성구민운동장</td>\n",
       "      <td>대구_동대구_수성구민운동장</td>\n",
       "      <td>대구광역시 수성구 범어동 630-1</td>\n",
       "      <td>35.85</td>\n",
       "      <td>128.63</td>\n",
       "      <td>대구광역시_수성구</td>\n",
       "      <td>대구광역시_수성구_범어동</td>\n",
       "      <td>1</td>\n",
       "      <td>2</td>\n",
       "      <td>50.00</td>\n",
       "    </tr>\n",
       "  </tbody>\n",
       "</table>\n",
       "</div>"
      ],
      "text/plain": [
       "  station_name               sid                    address    lat    long  \\\n",
       "0       화양강휴게소      강원_홍천_화양강휴게소      강원도 홍천군 두촌면 철정리 978-6  37.80  127.99   \n",
       "1     상암월드컵경기장  서울_마포용산_상암월드컵경기장          서울특별시 마포구 성산동 531  37.57  126.89   \n",
       "2       대정읍사무소     제주_서귀포_대정읍사무소  제주특별자치도 서귀포시 대정읍 하모리 1413  33.23  126.25   \n",
       "3      애월119센터   제주_제주직할_애월119센터  제주특별자치도 제주시 애월읍 일주서로 6513  33.47  126.35   \n",
       "4      수성구민운동장    대구_동대구_수성구민운동장        대구광역시 수성구 범어동 630-1  35.85  128.63   \n",
       "\n",
       "   district_lv2      district_lv3  fast_cnt  slow_cnt  mean_speed  \n",
       "0       강원도_홍천군       강원도_홍천군_두촌면         1         0       50.00  \n",
       "1     서울특별시_마포구     서울특별시_마포구_성산동         7         3       50.00  \n",
       "2  제주특별자치도_서귀포시  제주특별자치도_서귀포시_대정읍         4         0       50.00  \n",
       "3   제주특별자치도_제주시   제주특별자치도_제주시_애월읍         2         0       50.00  \n",
       "4     대구광역시_수성구     대구광역시_수성구_범어동         1         2       50.00  "
      ]
     },
     "metadata": {},
     "output_type": "display_data"
    },
    {
     "data": {
      "text/html": [
       "<div>\n",
       "<style scoped>\n",
       "    .dataframe tbody tr th:only-of-type {\n",
       "        vertical-align: middle;\n",
       "    }\n",
       "\n",
       "    .dataframe tbody tr th {\n",
       "        vertical-align: top;\n",
       "    }\n",
       "\n",
       "    .dataframe thead th {\n",
       "        text-align: right;\n",
       "    }\n",
       "</style>\n",
       "<table border=\"1\" class=\"dataframe\">\n",
       "  <thead>\n",
       "    <tr style=\"text-align: right;\">\n",
       "      <th></th>\n",
       "      <th>sid</th>\n",
       "      <th>LINK_ID</th>\n",
       "    </tr>\n",
       "  </thead>\n",
       "  <tbody>\n",
       "    <tr>\n",
       "      <th>0</th>\n",
       "      <td>강원_홍천_화양강휴게소</td>\n",
       "      <td>2570039102.00</td>\n",
       "    </tr>\n",
       "    <tr>\n",
       "      <th>1</th>\n",
       "      <td>강원_홍천_화양강휴게소</td>\n",
       "      <td>2570039202.00</td>\n",
       "    </tr>\n",
       "    <tr>\n",
       "      <th>2</th>\n",
       "      <td>강원_홍천_화양강휴게소</td>\n",
       "      <td>2570133000.00</td>\n",
       "    </tr>\n",
       "    <tr>\n",
       "      <th>3</th>\n",
       "      <td>강원_홍천_화양강휴게소</td>\n",
       "      <td>2570133100.00</td>\n",
       "    </tr>\n",
       "    <tr>\n",
       "      <th>4</th>\n",
       "      <td>강원_홍천_화양강휴게소</td>\n",
       "      <td>2570133300.00</td>\n",
       "    </tr>\n",
       "  </tbody>\n",
       "</table>\n",
       "</div>"
      ],
      "text/plain": [
       "            sid        LINK_ID\n",
       "0  강원_홍천_화양강휴게소  2570039102.00\n",
       "1  강원_홍천_화양강휴게소  2570039202.00\n",
       "2  강원_홍천_화양강휴게소  2570133000.00\n",
       "3  강원_홍천_화양강휴게소  2570133100.00\n",
       "4  강원_홍천_화양강휴게소  2570133300.00"
      ]
     },
     "metadata": {},
     "output_type": "display_data"
    },
    {
     "data": {
      "text/html": [
       "<div>\n",
       "<style scoped>\n",
       "    .dataframe tbody tr th:only-of-type {\n",
       "        vertical-align: middle;\n",
       "    }\n",
       "\n",
       "    .dataframe tbody tr th {\n",
       "        vertical-align: top;\n",
       "    }\n",
       "\n",
       "    .dataframe thead th {\n",
       "        text-align: right;\n",
       "    }\n",
       "</style>\n",
       "<table border=\"1\" class=\"dataframe\">\n",
       "  <thead>\n",
       "    <tr style=\"text-align: right;\">\n",
       "      <th></th>\n",
       "      <th>지역</th>\n",
       "      <th>LINK_ID</th>\n",
       "      <th>도로명</th>\n",
       "      <th>mean_trip</th>\n",
       "    </tr>\n",
       "  </thead>\n",
       "  <tbody>\n",
       "    <tr>\n",
       "      <th>0</th>\n",
       "      <td>서울특별시 종로구</td>\n",
       "      <td>1000000301</td>\n",
       "      <td>종로</td>\n",
       "      <td>297.20</td>\n",
       "    </tr>\n",
       "    <tr>\n",
       "      <th>1</th>\n",
       "      <td>서울특별시 종로구</td>\n",
       "      <td>1000000302</td>\n",
       "      <td>종로</td>\n",
       "      <td>179.50</td>\n",
       "    </tr>\n",
       "    <tr>\n",
       "      <th>2</th>\n",
       "      <td>서울특별시 종로구</td>\n",
       "      <td>1000000303</td>\n",
       "      <td>종로</td>\n",
       "      <td>147.40</td>\n",
       "    </tr>\n",
       "    <tr>\n",
       "      <th>3</th>\n",
       "      <td>서울특별시 종로구</td>\n",
       "      <td>1000000401</td>\n",
       "      <td>종로</td>\n",
       "      <td>354.20</td>\n",
       "    </tr>\n",
       "    <tr>\n",
       "      <th>4</th>\n",
       "      <td>서울특별시 종로구</td>\n",
       "      <td>1000000402</td>\n",
       "      <td>종로</td>\n",
       "      <td>315.40</td>\n",
       "    </tr>\n",
       "  </tbody>\n",
       "</table>\n",
       "</div>"
      ],
      "text/plain": [
       "          지역     LINK_ID 도로명  mean_trip\n",
       "0  서울특별시 종로구  1000000301  종로     297.20\n",
       "1  서울특별시 종로구  1000000302  종로     179.50\n",
       "2  서울특별시 종로구  1000000303  종로     147.40\n",
       "3  서울특별시 종로구  1000000401  종로     354.20\n",
       "4  서울특별시 종로구  1000000402  종로     315.40"
      ]
     },
     "metadata": {},
     "output_type": "display_data"
    }
   ],
   "source": [
    "display(pub_station.head())\n",
    "display(link.head())\n",
    "display(trip.head())"
   ]
  },
  {
   "cell_type": "code",
   "execution_count": 76,
   "metadata": {},
   "outputs": [
    {
     "data": {
      "text/plain": [
       "sid\n",
       "강원_강릉_HAPPY700 평창시네마      26.23\n",
       "강원_강릉_감자연구소               63.23\n",
       "강원_강릉_강남동주민센터            216.67\n",
       "강원_강릉_강릉농협 하나로마트        1768.30\n",
       "강원_강릉_강릉축협 하나로마트         901.94\n",
       "                         ...   \n",
       "충북_충주_중앙탑면 행정복지센터         54.12\n",
       "충북_충주_충주시청 민원주차장         497.77\n",
       "충북_충주_충주실내체육관            991.82\n",
       "충북_충주_충주종합스포츠타운          126.17\n",
       "충북_충주_평생학습관              419.35\n",
       "Name: mean_trip, Length: 1304, dtype: float64"
      ]
     },
     "execution_count": 76,
     "metadata": {},
     "output_type": "execute_result"
    }
   ],
   "source": [
    "# 링크 데이터에 평균 통행 조인 이후, sid단위로 평균 집계\n",
    "mean_trip = link.merge(trip[['LINK_ID', 'mean_trip']], how='left', on='LINK_ID').groupby(['sid']).mean_trip.mean()\n",
    "mean_trip"
   ]
  },
  {
   "cell_type": "code",
   "execution_count": 77,
   "metadata": {},
   "outputs": [
    {
     "data": {
      "text/html": [
       "<div>\n",
       "<style scoped>\n",
       "    .dataframe tbody tr th:only-of-type {\n",
       "        vertical-align: middle;\n",
       "    }\n",
       "\n",
       "    .dataframe tbody tr th {\n",
       "        vertical-align: top;\n",
       "    }\n",
       "\n",
       "    .dataframe thead th {\n",
       "        text-align: right;\n",
       "    }\n",
       "</style>\n",
       "<table border=\"1\" class=\"dataframe\">\n",
       "  <thead>\n",
       "    <tr style=\"text-align: right;\">\n",
       "      <th></th>\n",
       "      <th>station_name</th>\n",
       "      <th>sid</th>\n",
       "      <th>address</th>\n",
       "      <th>lat</th>\n",
       "      <th>long</th>\n",
       "      <th>district_lv2</th>\n",
       "      <th>district_lv3</th>\n",
       "      <th>fast_cnt</th>\n",
       "      <th>slow_cnt</th>\n",
       "      <th>mean_speed</th>\n",
       "      <th>mean_trip</th>\n",
       "    </tr>\n",
       "  </thead>\n",
       "  <tbody>\n",
       "    <tr>\n",
       "      <th>0</th>\n",
       "      <td>화양강휴게소</td>\n",
       "      <td>강원_홍천_화양강휴게소</td>\n",
       "      <td>강원도 홍천군 두촌면 철정리 978-6</td>\n",
       "      <td>37.80</td>\n",
       "      <td>127.99</td>\n",
       "      <td>강원도_홍천군</td>\n",
       "      <td>강원도_홍천군_두촌면</td>\n",
       "      <td>1</td>\n",
       "      <td>0</td>\n",
       "      <td>50.00</td>\n",
       "      <td>16.25</td>\n",
       "    </tr>\n",
       "    <tr>\n",
       "      <th>1</th>\n",
       "      <td>상암월드컵경기장</td>\n",
       "      <td>서울_마포용산_상암월드컵경기장</td>\n",
       "      <td>서울특별시 마포구 성산동 531</td>\n",
       "      <td>37.57</td>\n",
       "      <td>126.89</td>\n",
       "      <td>서울특별시_마포구</td>\n",
       "      <td>서울특별시_마포구_성산동</td>\n",
       "      <td>7</td>\n",
       "      <td>3</td>\n",
       "      <td>50.00</td>\n",
       "      <td>128.35</td>\n",
       "    </tr>\n",
       "    <tr>\n",
       "      <th>2</th>\n",
       "      <td>대정읍사무소</td>\n",
       "      <td>제주_서귀포_대정읍사무소</td>\n",
       "      <td>제주특별자치도 서귀포시 대정읍 하모리 1413</td>\n",
       "      <td>33.23</td>\n",
       "      <td>126.25</td>\n",
       "      <td>제주특별자치도_서귀포시</td>\n",
       "      <td>제주특별자치도_서귀포시_대정읍</td>\n",
       "      <td>4</td>\n",
       "      <td>0</td>\n",
       "      <td>50.00</td>\n",
       "      <td>31.89</td>\n",
       "    </tr>\n",
       "    <tr>\n",
       "      <th>3</th>\n",
       "      <td>애월119센터</td>\n",
       "      <td>제주_제주직할_애월119센터</td>\n",
       "      <td>제주특별자치도 제주시 애월읍 일주서로 6513</td>\n",
       "      <td>33.47</td>\n",
       "      <td>126.35</td>\n",
       "      <td>제주특별자치도_제주시</td>\n",
       "      <td>제주특별자치도_제주시_애월읍</td>\n",
       "      <td>2</td>\n",
       "      <td>0</td>\n",
       "      <td>50.00</td>\n",
       "      <td>101.35</td>\n",
       "    </tr>\n",
       "    <tr>\n",
       "      <th>4</th>\n",
       "      <td>수성구민운동장</td>\n",
       "      <td>대구_동대구_수성구민운동장</td>\n",
       "      <td>대구광역시 수성구 범어동 630-1</td>\n",
       "      <td>35.85</td>\n",
       "      <td>128.63</td>\n",
       "      <td>대구광역시_수성구</td>\n",
       "      <td>대구광역시_수성구_범어동</td>\n",
       "      <td>1</td>\n",
       "      <td>2</td>\n",
       "      <td>50.00</td>\n",
       "      <td>351.55</td>\n",
       "    </tr>\n",
       "  </tbody>\n",
       "</table>\n",
       "</div>"
      ],
      "text/plain": [
       "  station_name               sid                    address    lat    long  \\\n",
       "0       화양강휴게소      강원_홍천_화양강휴게소      강원도 홍천군 두촌면 철정리 978-6  37.80  127.99   \n",
       "1     상암월드컵경기장  서울_마포용산_상암월드컵경기장          서울특별시 마포구 성산동 531  37.57  126.89   \n",
       "2       대정읍사무소     제주_서귀포_대정읍사무소  제주특별자치도 서귀포시 대정읍 하모리 1413  33.23  126.25   \n",
       "3      애월119센터   제주_제주직할_애월119센터  제주특별자치도 제주시 애월읍 일주서로 6513  33.47  126.35   \n",
       "4      수성구민운동장    대구_동대구_수성구민운동장        대구광역시 수성구 범어동 630-1  35.85  128.63   \n",
       "\n",
       "   district_lv2      district_lv3  fast_cnt  slow_cnt  mean_speed  mean_trip  \n",
       "0       강원도_홍천군       강원도_홍천군_두촌면         1         0       50.00      16.25  \n",
       "1     서울특별시_마포구     서울특별시_마포구_성산동         7         3       50.00     128.35  \n",
       "2  제주특별자치도_서귀포시  제주특별자치도_서귀포시_대정읍         4         0       50.00      31.89  \n",
       "3   제주특별자치도_제주시   제주특별자치도_제주시_애월읍         2         0       50.00     101.35  \n",
       "4     대구광역시_수성구     대구광역시_수성구_범어동         1         2       50.00     351.55  "
      ]
     },
     "execution_count": 77,
     "metadata": {},
     "output_type": "execute_result"
    }
   ],
   "source": [
    "pub_station = pub_station.merge(mean_trip, on='sid')\n",
    "pub_station.head()"
   ]
  },
  {
   "cell_type": "code",
   "execution_count": 78,
   "metadata": {},
   "outputs": [
    {
     "name": "stdout",
     "output_type": "stream",
     "text": [
      "<class 'pandas.core.frame.DataFrame'>\n",
      "Int64Index: 1304 entries, 0 to 1303\n",
      "Data columns (total 11 columns):\n",
      " #   Column        Non-Null Count  Dtype  \n",
      "---  ------        --------------  -----  \n",
      " 0   station_name  1304 non-null   object \n",
      " 1   sid           1304 non-null   object \n",
      " 2   address       1304 non-null   object \n",
      " 3   lat           1304 non-null   float64\n",
      " 4   long          1304 non-null   float64\n",
      " 5   district_lv2  1304 non-null   object \n",
      " 6   district_lv3  1304 non-null   object \n",
      " 7   fast_cnt      1304 non-null   int64  \n",
      " 8   slow_cnt      1304 non-null   int64  \n",
      " 9   mean_speed    1293 non-null   float64\n",
      " 10  mean_trip     1216 non-null   float64\n",
      "dtypes: float64(4), int64(2), object(5)\n",
      "memory usage: 122.2+ KB\n"
     ]
    }
   ],
   "source": [
    "pub_station.info()"
   ]
  },
  {
   "cell_type": "markdown",
   "metadata": {},
   "source": [
    "### 2) 도로종류별 길이"
   ]
  },
  {
   "cell_type": "code",
   "execution_count": 79,
   "metadata": {},
   "outputs": [],
   "source": [
    "length = pd.read_csv('../data/qgis/stationbuffer_x_linklength.csv', usecols=['sid', 'length_highway', 'length_national', 'length_local', 'length_city'])"
   ]
  },
  {
   "cell_type": "code",
   "execution_count": 80,
   "metadata": {},
   "outputs": [
    {
     "data": {
      "text/html": [
       "<div>\n",
       "<style scoped>\n",
       "    .dataframe tbody tr th:only-of-type {\n",
       "        vertical-align: middle;\n",
       "    }\n",
       "\n",
       "    .dataframe tbody tr th {\n",
       "        vertical-align: top;\n",
       "    }\n",
       "\n",
       "    .dataframe thead th {\n",
       "        text-align: right;\n",
       "    }\n",
       "</style>\n",
       "<table border=\"1\" class=\"dataframe\">\n",
       "  <thead>\n",
       "    <tr style=\"text-align: right;\">\n",
       "      <th></th>\n",
       "      <th>sid</th>\n",
       "      <th>length_highway</th>\n",
       "      <th>length_national</th>\n",
       "      <th>length_local</th>\n",
       "      <th>length_city</th>\n",
       "    </tr>\n",
       "  </thead>\n",
       "  <tbody>\n",
       "    <tr>\n",
       "      <th>0</th>\n",
       "      <td>강원_홍천_화양강휴게소</td>\n",
       "      <td>0.00</td>\n",
       "      <td>2065.53</td>\n",
       "      <td>0.00</td>\n",
       "      <td>2590.38</td>\n",
       "    </tr>\n",
       "    <tr>\n",
       "      <th>1</th>\n",
       "      <td>서울_마포용산_상암월드컵경기장</td>\n",
       "      <td>499.55</td>\n",
       "      <td>4236.51</td>\n",
       "      <td>0.00</td>\n",
       "      <td>2929.40</td>\n",
       "    </tr>\n",
       "    <tr>\n",
       "      <th>2</th>\n",
       "      <td>제주_서귀포_대정읍사무소</td>\n",
       "      <td>0.00</td>\n",
       "      <td>0.00</td>\n",
       "      <td>1816.24</td>\n",
       "      <td>7394.46</td>\n",
       "    </tr>\n",
       "    <tr>\n",
       "      <th>3</th>\n",
       "      <td>제주_제주직할_애월119센터</td>\n",
       "      <td>0.00</td>\n",
       "      <td>0.00</td>\n",
       "      <td>1963.83</td>\n",
       "      <td>405.02</td>\n",
       "    </tr>\n",
       "    <tr>\n",
       "      <th>4</th>\n",
       "      <td>대구_동대구_수성구민운동장</td>\n",
       "      <td>0.00</td>\n",
       "      <td>0.00</td>\n",
       "      <td>0.00</td>\n",
       "      <td>5064.36</td>\n",
       "    </tr>\n",
       "  </tbody>\n",
       "</table>\n",
       "</div>"
      ],
      "text/plain": [
       "                sid  length_highway  length_national  length_local  \\\n",
       "0      강원_홍천_화양강휴게소            0.00          2065.53          0.00   \n",
       "1  서울_마포용산_상암월드컵경기장          499.55          4236.51          0.00   \n",
       "2     제주_서귀포_대정읍사무소            0.00             0.00       1816.24   \n",
       "3   제주_제주직할_애월119센터            0.00             0.00       1963.83   \n",
       "4    대구_동대구_수성구민운동장            0.00             0.00          0.00   \n",
       "\n",
       "   length_city  \n",
       "0      2590.38  \n",
       "1      2929.40  \n",
       "2      7394.46  \n",
       "3       405.02  \n",
       "4      5064.36  "
      ]
     },
     "execution_count": 80,
     "metadata": {},
     "output_type": "execute_result"
    }
   ],
   "source": [
    "length.head()"
   ]
  },
  {
   "cell_type": "code",
   "execution_count": 81,
   "metadata": {},
   "outputs": [
    {
     "data": {
      "text/html": [
       "<div>\n",
       "<style scoped>\n",
       "    .dataframe tbody tr th:only-of-type {\n",
       "        vertical-align: middle;\n",
       "    }\n",
       "\n",
       "    .dataframe tbody tr th {\n",
       "        vertical-align: top;\n",
       "    }\n",
       "\n",
       "    .dataframe thead th {\n",
       "        text-align: right;\n",
       "    }\n",
       "</style>\n",
       "<table border=\"1\" class=\"dataframe\">\n",
       "  <thead>\n",
       "    <tr style=\"text-align: right;\">\n",
       "      <th></th>\n",
       "      <th>station_name</th>\n",
       "      <th>sid</th>\n",
       "      <th>address</th>\n",
       "      <th>lat</th>\n",
       "      <th>long</th>\n",
       "      <th>district_lv2</th>\n",
       "      <th>district_lv3</th>\n",
       "      <th>fast_cnt</th>\n",
       "      <th>slow_cnt</th>\n",
       "      <th>mean_speed</th>\n",
       "      <th>mean_trip</th>\n",
       "      <th>length_highway</th>\n",
       "      <th>length_national</th>\n",
       "      <th>length_local</th>\n",
       "      <th>length_city</th>\n",
       "    </tr>\n",
       "  </thead>\n",
       "  <tbody>\n",
       "    <tr>\n",
       "      <th>0</th>\n",
       "      <td>화양강휴게소</td>\n",
       "      <td>강원_홍천_화양강휴게소</td>\n",
       "      <td>강원도 홍천군 두촌면 철정리 978-6</td>\n",
       "      <td>37.80</td>\n",
       "      <td>127.99</td>\n",
       "      <td>강원도_홍천군</td>\n",
       "      <td>강원도_홍천군_두촌면</td>\n",
       "      <td>1</td>\n",
       "      <td>0</td>\n",
       "      <td>50.00</td>\n",
       "      <td>16.25</td>\n",
       "      <td>0.00</td>\n",
       "      <td>2065.53</td>\n",
       "      <td>0.00</td>\n",
       "      <td>2590.38</td>\n",
       "    </tr>\n",
       "    <tr>\n",
       "      <th>1</th>\n",
       "      <td>상암월드컵경기장</td>\n",
       "      <td>서울_마포용산_상암월드컵경기장</td>\n",
       "      <td>서울특별시 마포구 성산동 531</td>\n",
       "      <td>37.57</td>\n",
       "      <td>126.89</td>\n",
       "      <td>서울특별시_마포구</td>\n",
       "      <td>서울특별시_마포구_성산동</td>\n",
       "      <td>7</td>\n",
       "      <td>3</td>\n",
       "      <td>50.00</td>\n",
       "      <td>128.35</td>\n",
       "      <td>499.55</td>\n",
       "      <td>4236.51</td>\n",
       "      <td>0.00</td>\n",
       "      <td>2929.40</td>\n",
       "    </tr>\n",
       "    <tr>\n",
       "      <th>2</th>\n",
       "      <td>대정읍사무소</td>\n",
       "      <td>제주_서귀포_대정읍사무소</td>\n",
       "      <td>제주특별자치도 서귀포시 대정읍 하모리 1413</td>\n",
       "      <td>33.23</td>\n",
       "      <td>126.25</td>\n",
       "      <td>제주특별자치도_서귀포시</td>\n",
       "      <td>제주특별자치도_서귀포시_대정읍</td>\n",
       "      <td>4</td>\n",
       "      <td>0</td>\n",
       "      <td>50.00</td>\n",
       "      <td>31.89</td>\n",
       "      <td>0.00</td>\n",
       "      <td>0.00</td>\n",
       "      <td>1816.24</td>\n",
       "      <td>7394.46</td>\n",
       "    </tr>\n",
       "    <tr>\n",
       "      <th>3</th>\n",
       "      <td>애월119센터</td>\n",
       "      <td>제주_제주직할_애월119센터</td>\n",
       "      <td>제주특별자치도 제주시 애월읍 일주서로 6513</td>\n",
       "      <td>33.47</td>\n",
       "      <td>126.35</td>\n",
       "      <td>제주특별자치도_제주시</td>\n",
       "      <td>제주특별자치도_제주시_애월읍</td>\n",
       "      <td>2</td>\n",
       "      <td>0</td>\n",
       "      <td>50.00</td>\n",
       "      <td>101.35</td>\n",
       "      <td>0.00</td>\n",
       "      <td>0.00</td>\n",
       "      <td>1963.83</td>\n",
       "      <td>405.02</td>\n",
       "    </tr>\n",
       "    <tr>\n",
       "      <th>4</th>\n",
       "      <td>수성구민운동장</td>\n",
       "      <td>대구_동대구_수성구민운동장</td>\n",
       "      <td>대구광역시 수성구 범어동 630-1</td>\n",
       "      <td>35.85</td>\n",
       "      <td>128.63</td>\n",
       "      <td>대구광역시_수성구</td>\n",
       "      <td>대구광역시_수성구_범어동</td>\n",
       "      <td>1</td>\n",
       "      <td>2</td>\n",
       "      <td>50.00</td>\n",
       "      <td>351.55</td>\n",
       "      <td>0.00</td>\n",
       "      <td>0.00</td>\n",
       "      <td>0.00</td>\n",
       "      <td>5064.36</td>\n",
       "    </tr>\n",
       "  </tbody>\n",
       "</table>\n",
       "</div>"
      ],
      "text/plain": [
       "  station_name               sid                    address    lat    long  \\\n",
       "0       화양강휴게소      강원_홍천_화양강휴게소      강원도 홍천군 두촌면 철정리 978-6  37.80  127.99   \n",
       "1     상암월드컵경기장  서울_마포용산_상암월드컵경기장          서울특별시 마포구 성산동 531  37.57  126.89   \n",
       "2       대정읍사무소     제주_서귀포_대정읍사무소  제주특별자치도 서귀포시 대정읍 하모리 1413  33.23  126.25   \n",
       "3      애월119센터   제주_제주직할_애월119센터  제주특별자치도 제주시 애월읍 일주서로 6513  33.47  126.35   \n",
       "4      수성구민운동장    대구_동대구_수성구민운동장        대구광역시 수성구 범어동 630-1  35.85  128.63   \n",
       "\n",
       "   district_lv2      district_lv3  fast_cnt  slow_cnt  mean_speed  mean_trip  \\\n",
       "0       강원도_홍천군       강원도_홍천군_두촌면         1         0       50.00      16.25   \n",
       "1     서울특별시_마포구     서울특별시_마포구_성산동         7         3       50.00     128.35   \n",
       "2  제주특별자치도_서귀포시  제주특별자치도_서귀포시_대정읍         4         0       50.00      31.89   \n",
       "3   제주특별자치도_제주시   제주특별자치도_제주시_애월읍         2         0       50.00     101.35   \n",
       "4     대구광역시_수성구     대구광역시_수성구_범어동         1         2       50.00     351.55   \n",
       "\n",
       "   length_highway  length_national  length_local  length_city  \n",
       "0            0.00          2065.53          0.00      2590.38  \n",
       "1          499.55          4236.51          0.00      2929.40  \n",
       "2            0.00             0.00       1816.24      7394.46  \n",
       "3            0.00             0.00       1963.83       405.02  \n",
       "4            0.00             0.00          0.00      5064.36  "
      ]
     },
     "execution_count": 81,
     "metadata": {},
     "output_type": "execute_result"
    }
   ],
   "source": [
    "pub_station = pub_station.merge(length, how='left', on='sid')\n",
    "pub_station.head()"
   ]
  },
  {
   "cell_type": "code",
   "execution_count": 82,
   "metadata": {},
   "outputs": [
    {
     "name": "stdout",
     "output_type": "stream",
     "text": [
      "<class 'pandas.core.frame.DataFrame'>\n",
      "Int64Index: 1304 entries, 0 to 1303\n",
      "Data columns (total 15 columns):\n",
      " #   Column           Non-Null Count  Dtype  \n",
      "---  ------           --------------  -----  \n",
      " 0   station_name     1304 non-null   object \n",
      " 1   sid              1304 non-null   object \n",
      " 2   address          1304 non-null   object \n",
      " 3   lat              1304 non-null   float64\n",
      " 4   long             1304 non-null   float64\n",
      " 5   district_lv2     1304 non-null   object \n",
      " 6   district_lv3     1304 non-null   object \n",
      " 7   fast_cnt         1304 non-null   int64  \n",
      " 8   slow_cnt         1304 non-null   int64  \n",
      " 9   mean_speed       1293 non-null   float64\n",
      " 10  mean_trip        1216 non-null   float64\n",
      " 11  length_highway   1304 non-null   float64\n",
      " 12  length_national  1304 non-null   float64\n",
      " 13  length_local     1304 non-null   float64\n",
      " 14  length_city      1304 non-null   float64\n",
      "dtypes: float64(8), int64(2), object(5)\n",
      "memory usage: 163.0+ KB\n"
     ]
    }
   ],
   "source": [
    "pub_station.info()"
   ]
  },
  {
   "cell_type": "code",
   "execution_count": null,
   "metadata": {},
   "outputs": [],
   "source": []
  },
  {
   "cell_type": "markdown",
   "metadata": {},
   "source": [
    "### 3) 반경 내 용도지역\n",
    "- 용도지역 코드 전처리\n",
    "    - 슬라이싱 및 인코딩 필요\n",
    "- 용도지역 데이터가 '도시지역'에 제한되어있어 매핑된 sid도 도시지역만 남음"
   ]
  },
  {
   "cell_type": "code",
   "execution_count": 83,
   "metadata": {},
   "outputs": [
    {
     "data": {
      "text/html": [
       "<div>\n",
       "<style scoped>\n",
       "    .dataframe tbody tr th:only-of-type {\n",
       "        vertical-align: middle;\n",
       "    }\n",
       "\n",
       "    .dataframe tbody tr th {\n",
       "        vertical-align: top;\n",
       "    }\n",
       "\n",
       "    .dataframe thead th {\n",
       "        text-align: right;\n",
       "    }\n",
       "</style>\n",
       "<table border=\"1\" class=\"dataframe\">\n",
       "  <thead>\n",
       "    <tr style=\"text-align: right;\">\n",
       "      <th></th>\n",
       "      <th>sid</th>\n",
       "      <th>A1</th>\n",
       "      <th>area</th>\n",
       "    </tr>\n",
       "  </thead>\n",
       "  <tbody>\n",
       "    <tr>\n",
       "      <th>0</th>\n",
       "      <td>서울_마포용산_상암월드컵경기장</td>\n",
       "      <td>61100001144020140145UQA4300417003</td>\n",
       "      <td>80670.19</td>\n",
       "    </tr>\n",
       "    <tr>\n",
       "      <th>1</th>\n",
       "      <td>서울_마포용산_상암월드컵경기장</td>\n",
       "      <td>15000001144020039117UQA1230001001</td>\n",
       "      <td>1695.40</td>\n",
       "    </tr>\n",
       "    <tr>\n",
       "      <th>2</th>\n",
       "      <td>서울_마포용산_상암월드컵경기장</td>\n",
       "      <td>15000001144020020001UQA4300001001</td>\n",
       "      <td>159593.97</td>\n",
       "    </tr>\n",
       "    <tr>\n",
       "      <th>3</th>\n",
       "      <td>서울_마포용산_상암월드컵경기장</td>\n",
       "      <td>61100001144020130103UQA1220426011</td>\n",
       "      <td>35212.77</td>\n",
       "    </tr>\n",
       "    <tr>\n",
       "      <th>4</th>\n",
       "      <td>서울_마포용산_상암월드컵경기장</td>\n",
       "      <td>61100001144020130103UQA1300426012</td>\n",
       "      <td>193026.33</td>\n",
       "    </tr>\n",
       "  </tbody>\n",
       "</table>\n",
       "</div>"
      ],
      "text/plain": [
       "                sid                                 A1       area\n",
       "0  서울_마포용산_상암월드컵경기장  61100001144020140145UQA4300417003   80670.19\n",
       "1  서울_마포용산_상암월드컵경기장  15000001144020039117UQA1230001001    1695.40\n",
       "2  서울_마포용산_상암월드컵경기장  15000001144020020001UQA4300001001  159593.97\n",
       "3  서울_마포용산_상암월드컵경기장  61100001144020130103UQA1220426011   35212.77\n",
       "4  서울_마포용산_상암월드컵경기장  61100001144020130103UQA1300426012  193026.33"
      ]
     },
     "execution_count": 83,
     "metadata": {},
     "output_type": "execute_result"
    }
   ],
   "source": [
    "district = pd.read_csv('../data/qgis/stationbuffer_x_district.csv', usecols=['sid', 'A1', 'area'])\n",
    "district.head()"
   ]
  },
  {
   "cell_type": "code",
   "execution_count": 84,
   "metadata": {},
   "outputs": [],
   "source": [
    "import numpy as np\n",
    "\n",
    "district['dcode'] = district['A1'].map(lambda x: x[20:26] if x is not np.nan else x) \\\n",
    "                                  .map(lambda x: 'UQA500' if x ==  'UAQ500'  else x)"
   ]
  },
  {
   "cell_type": "code",
   "execution_count": 85,
   "metadata": {},
   "outputs": [],
   "source": [
    "dgm = pd.read_csv('../data/dgm_code.csv', encoding='cp949')"
   ]
  },
  {
   "cell_type": "code",
   "execution_count": 86,
   "metadata": {},
   "outputs": [
    {
     "data": {
      "text/html": [
       "<div>\n",
       "<style scoped>\n",
       "    .dataframe tbody tr th:only-of-type {\n",
       "        vertical-align: middle;\n",
       "    }\n",
       "\n",
       "    .dataframe tbody tr th {\n",
       "        vertical-align: top;\n",
       "    }\n",
       "\n",
       "    .dataframe thead th {\n",
       "        text-align: right;\n",
       "    }\n",
       "</style>\n",
       "<table border=\"1\" class=\"dataframe\">\n",
       "  <thead>\n",
       "    <tr style=\"text-align: right;\">\n",
       "      <th></th>\n",
       "      <th>UCODE</th>\n",
       "      <th>UNAME</th>\n",
       "      <th>DIV</th>\n",
       "      <th>LAW_NM</th>\n",
       "      <th>AR_GBN</th>\n",
       "      <th>LAW_CD</th>\n",
       "      <th>BYUL_YN</th>\n",
       "      <th>EXEC_DT</th>\n",
       "      <th>JO_NO</th>\n",
       "      <th>JO_SUB_NO</th>\n",
       "      <th>REC_SEQNO</th>\n",
       "      <th>PARENT_UCODE</th>\n",
       "      <th>DEL_DT</th>\n",
       "      <th>DEL_TXT</th>\n",
       "      <th>TERMS_NO</th>\n",
       "      <th>FRST_REGIST_DT</th>\n",
       "      <th>LAST_UPDT_DT</th>\n",
       "    </tr>\n",
       "  </thead>\n",
       "  <tbody>\n",
       "    <tr>\n",
       "      <th>0</th>\n",
       "      <td>UNIM04</td>\n",
       "      <td>비행안전 제4구역</td>\n",
       "      <td>군사</td>\n",
       "      <td>군사기지 및 군사시설 보호법</td>\n",
       "      <td>NaN</td>\n",
       "      <td>10375.00</td>\n",
       "      <td>0.00</td>\n",
       "      <td>20080922.00</td>\n",
       "      <td>400.00</td>\n",
       "      <td>0.00</td>\n",
       "      <td>530.00</td>\n",
       "      <td>UNE400</td>\n",
       "      <td>NaN</td>\n",
       "      <td>NaN</td>\n",
       "      <td>NaN</td>\n",
       "      <td>20220908</td>\n",
       "      <td>20220908</td>\n",
       "    </tr>\n",
       "    <tr>\n",
       "      <th>1</th>\n",
       "      <td>UHK100</td>\n",
       "      <td>일반물류단지</td>\n",
       "      <td>공업</td>\n",
       "      <td>물류시설의 개발 및 운영에 관한 법률 제22조</td>\n",
       "      <td>NaN</td>\n",
       "      <td>10387.00</td>\n",
       "      <td>0.00</td>\n",
       "      <td>20080906.00</td>\n",
       "      <td>2200.00</td>\n",
       "      <td>0.00</td>\n",
       "      <td>1020.00</td>\n",
       "      <td>000000</td>\n",
       "      <td>NaN</td>\n",
       "      <td>NaN</td>\n",
       "      <td>205.00</td>\n",
       "      <td>20220908</td>\n",
       "      <td>20220908</td>\n",
       "    </tr>\n",
       "    <tr>\n",
       "      <th>2</th>\n",
       "      <td>UMK400</td>\n",
       "      <td>(한강)건축 등 허가제한지역</td>\n",
       "      <td>환경</td>\n",
       "      <td>한강수계 상수원수질개선 및 주민지원 등에 관한 법률</td>\n",
       "      <td>NaN</td>\n",
       "      <td>9136.00</td>\n",
       "      <td>0.00</td>\n",
       "      <td>20140131.00</td>\n",
       "      <td>500.00</td>\n",
       "      <td>0.00</td>\n",
       "      <td>2132.00</td>\n",
       "      <td>000000</td>\n",
       "      <td>NaN</td>\n",
       "      <td>NaN</td>\n",
       "      <td>NaN</td>\n",
       "      <td>20220908</td>\n",
       "      <td>20220908</td>\n",
       "    </tr>\n",
       "    <tr>\n",
       "      <th>3</th>\n",
       "      <td>UNE114</td>\n",
       "      <td>통제보호구역(해군기지)</td>\n",
       "      <td>국방</td>\n",
       "      <td>군사기지 및 군사시설 보호법</td>\n",
       "      <td>NaN</td>\n",
       "      <td>10375.00</td>\n",
       "      <td>0.00</td>\n",
       "      <td>20090910.00</td>\n",
       "      <td>400.00</td>\n",
       "      <td>0.00</td>\n",
       "      <td>NaN</td>\n",
       "      <td>UNE110</td>\n",
       "      <td>NaN</td>\n",
       "      <td>NaN</td>\n",
       "      <td>NaN</td>\n",
       "      <td>20220908</td>\n",
       "      <td>20220908</td>\n",
       "    </tr>\n",
       "    <tr>\n",
       "      <th>4</th>\n",
       "      <td>UQS700</td>\n",
       "      <td>항만</td>\n",
       "      <td>국토종합</td>\n",
       "      <td>국토의 계획 및 이용에 관한 법률 시행령</td>\n",
       "      <td>NaN</td>\n",
       "      <td>9419.00</td>\n",
       "      <td>0.00</td>\n",
       "      <td>20170101.00</td>\n",
       "      <td>8300.00</td>\n",
       "      <td>1000000000.00</td>\n",
       "      <td>NaN</td>\n",
       "      <td>NaN</td>\n",
       "      <td>NaN</td>\n",
       "      <td>NaN</td>\n",
       "      <td>NaN</td>\n",
       "      <td>20220908</td>\n",
       "      <td>20220908</td>\n",
       "    </tr>\n",
       "  </tbody>\n",
       "</table>\n",
       "</div>"
      ],
      "text/plain": [
       "    UCODE            UNAME   DIV                        LAW_NM AR_GBN  \\\n",
       "0  UNIM04        비행안전 제4구역    군사               군사기지 및 군사시설 보호법    NaN   \n",
       "1  UHK100           일반물류단지    공업     물류시설의 개발 및 운영에 관한 법률 제22조    NaN   \n",
       "2  UMK400  (한강)건축 등 허가제한지역    환경  한강수계 상수원수질개선 및 주민지원 등에 관한 법률    NaN   \n",
       "3  UNE114     통제보호구역(해군기지)    국방               군사기지 및 군사시설 보호법    NaN   \n",
       "4  UQS700               항만  국토종합        국토의 계획 및 이용에 관한 법률 시행령    NaN   \n",
       "\n",
       "     LAW_CD  BYUL_YN      EXEC_DT    JO_NO      JO_SUB_NO  REC_SEQNO  \\\n",
       "0  10375.00     0.00  20080922.00   400.00           0.00     530.00   \n",
       "1  10387.00     0.00  20080906.00  2200.00           0.00    1020.00   \n",
       "2   9136.00     0.00  20140131.00   500.00           0.00    2132.00   \n",
       "3  10375.00     0.00  20090910.00   400.00           0.00        NaN   \n",
       "4   9419.00     0.00  20170101.00  8300.00  1000000000.00        NaN   \n",
       "\n",
       "  PARENT_UCODE  DEL_DT DEL_TXT  TERMS_NO  FRST_REGIST_DT  LAST_UPDT_DT  \n",
       "0       UNE400     NaN     NaN       NaN        20220908      20220908  \n",
       "1       000000     NaN     NaN    205.00        20220908      20220908  \n",
       "2       000000     NaN     NaN       NaN        20220908      20220908  \n",
       "3       UNE110     NaN     NaN       NaN        20220908      20220908  \n",
       "4          NaN     NaN     NaN       NaN        20220908      20220908  "
      ]
     },
     "execution_count": 86,
     "metadata": {},
     "output_type": "execute_result"
    }
   ],
   "source": [
    "dgm.head()"
   ]
  },
  {
   "cell_type": "code",
   "execution_count": 87,
   "metadata": {},
   "outputs": [
    {
     "data": {
      "text/html": [
       "<div>\n",
       "<style scoped>\n",
       "    .dataframe tbody tr th:only-of-type {\n",
       "        vertical-align: middle;\n",
       "    }\n",
       "\n",
       "    .dataframe tbody tr th {\n",
       "        vertical-align: top;\n",
       "    }\n",
       "\n",
       "    .dataframe thead th {\n",
       "        text-align: right;\n",
       "    }\n",
       "</style>\n",
       "<table border=\"1\" class=\"dataframe\">\n",
       "  <thead>\n",
       "    <tr style=\"text-align: right;\">\n",
       "      <th></th>\n",
       "      <th>dcode</th>\n",
       "      <th>dname</th>\n",
       "      <th>counts</th>\n",
       "    </tr>\n",
       "  </thead>\n",
       "  <tbody>\n",
       "    <tr>\n",
       "      <th>12</th>\n",
       "      <td>UQA01X</td>\n",
       "      <td>error</td>\n",
       "      <td>258</td>\n",
       "    </tr>\n",
       "    <tr>\n",
       "      <th>21</th>\n",
       "      <td>UQA100</td>\n",
       "      <td>주거지역</td>\n",
       "      <td>2</td>\n",
       "    </tr>\n",
       "    <tr>\n",
       "      <th>8</th>\n",
       "      <td>UQA111</td>\n",
       "      <td>제1종전용주거지역</td>\n",
       "      <td>46</td>\n",
       "    </tr>\n",
       "    <tr>\n",
       "      <th>17</th>\n",
       "      <td>UQA112</td>\n",
       "      <td>제2종전용주거지역</td>\n",
       "      <td>25</td>\n",
       "    </tr>\n",
       "    <tr>\n",
       "      <th>11</th>\n",
       "      <td>UQA120</td>\n",
       "      <td>일반주거지역</td>\n",
       "      <td>9</td>\n",
       "    </tr>\n",
       "    <tr>\n",
       "      <th>4</th>\n",
       "      <td>UQA121</td>\n",
       "      <td>제1종일반주거지역</td>\n",
       "      <td>684</td>\n",
       "    </tr>\n",
       "    <tr>\n",
       "      <th>2</th>\n",
       "      <td>UQA122</td>\n",
       "      <td>제2종일반주거지역</td>\n",
       "      <td>889</td>\n",
       "    </tr>\n",
       "    <tr>\n",
       "      <th>1</th>\n",
       "      <td>UQA123</td>\n",
       "      <td>제3종일반주거지역</td>\n",
       "      <td>514</td>\n",
       "    </tr>\n",
       "    <tr>\n",
       "      <th>3</th>\n",
       "      <td>UQA130</td>\n",
       "      <td>준주거지역</td>\n",
       "      <td>564</td>\n",
       "    </tr>\n",
       "    <tr>\n",
       "      <th>20</th>\n",
       "      <td>UQA200</td>\n",
       "      <td>상업지역</td>\n",
       "      <td>2</td>\n",
       "    </tr>\n",
       "    <tr>\n",
       "      <th>15</th>\n",
       "      <td>UQA210</td>\n",
       "      <td>중심상업지역</td>\n",
       "      <td>53</td>\n",
       "    </tr>\n",
       "    <tr>\n",
       "      <th>6</th>\n",
       "      <td>UQA220</td>\n",
       "      <td>일반상업지역</td>\n",
       "      <td>601</td>\n",
       "    </tr>\n",
       "    <tr>\n",
       "      <th>7</th>\n",
       "      <td>UQA230</td>\n",
       "      <td>근린상업지역</td>\n",
       "      <td>77</td>\n",
       "    </tr>\n",
       "    <tr>\n",
       "      <th>14</th>\n",
       "      <td>UQA240</td>\n",
       "      <td>유통상업지역</td>\n",
       "      <td>27</td>\n",
       "    </tr>\n",
       "    <tr>\n",
       "      <th>18</th>\n",
       "      <td>UQA310</td>\n",
       "      <td>전용공업지역</td>\n",
       "      <td>5</td>\n",
       "    </tr>\n",
       "    <tr>\n",
       "      <th>9</th>\n",
       "      <td>UQA320</td>\n",
       "      <td>일반공업지역</td>\n",
       "      <td>125</td>\n",
       "    </tr>\n",
       "    <tr>\n",
       "      <th>10</th>\n",
       "      <td>UQA330</td>\n",
       "      <td>준공업지역</td>\n",
       "      <td>153</td>\n",
       "    </tr>\n",
       "    <tr>\n",
       "      <th>22</th>\n",
       "      <td>UQA400</td>\n",
       "      <td>녹지지역</td>\n",
       "      <td>2</td>\n",
       "    </tr>\n",
       "    <tr>\n",
       "      <th>5</th>\n",
       "      <td>UQA410</td>\n",
       "      <td>보전녹지지역</td>\n",
       "      <td>237</td>\n",
       "    </tr>\n",
       "    <tr>\n",
       "      <th>13</th>\n",
       "      <td>UQA420</td>\n",
       "      <td>생산녹지지역</td>\n",
       "      <td>207</td>\n",
       "    </tr>\n",
       "    <tr>\n",
       "      <th>0</th>\n",
       "      <td>UQA430</td>\n",
       "      <td>자연녹지지역</td>\n",
       "      <td>1001</td>\n",
       "    </tr>\n",
       "    <tr>\n",
       "      <th>16</th>\n",
       "      <td>UQA500</td>\n",
       "      <td>도시지역미지정</td>\n",
       "      <td>20</td>\n",
       "    </tr>\n",
       "    <tr>\n",
       "      <th>19</th>\n",
       "      <td>UQA999</td>\n",
       "      <td>도시지역기타</td>\n",
       "      <td>2</td>\n",
       "    </tr>\n",
       "  </tbody>\n",
       "</table>\n",
       "</div>"
      ],
      "text/plain": [
       "     dcode      dname  counts\n",
       "12  UQA01X      error     258\n",
       "21  UQA100       주거지역       2\n",
       "8   UQA111  제1종전용주거지역      46\n",
       "17  UQA112  제2종전용주거지역      25\n",
       "11  UQA120     일반주거지역       9\n",
       "4   UQA121  제1종일반주거지역     684\n",
       "2   UQA122  제2종일반주거지역     889\n",
       "1   UQA123  제3종일반주거지역     514\n",
       "3   UQA130      준주거지역     564\n",
       "20  UQA200       상업지역       2\n",
       "15  UQA210     중심상업지역      53\n",
       "6   UQA220     일반상업지역     601\n",
       "7   UQA230     근린상업지역      77\n",
       "14  UQA240     유통상업지역      27\n",
       "18  UQA310     전용공업지역       5\n",
       "9   UQA320     일반공업지역     125\n",
       "10  UQA330      준공업지역     153\n",
       "22  UQA400       녹지지역       2\n",
       "5   UQA410     보전녹지지역     237\n",
       "13  UQA420     생산녹지지역     207\n",
       "0   UQA430     자연녹지지역    1001\n",
       "16  UQA500    도시지역미지정      20\n",
       "19  UQA999     도시지역기타       2"
      ]
     },
     "execution_count": 87,
     "metadata": {},
     "output_type": "execute_result"
    }
   ],
   "source": [
    "# 참고: https://alpmint.tistory.com/1922\n",
    "# 코드 변환 데이터에 존재하지 않는 코드는 검색으로 찾아 수동으로 부여\n",
    "dcode_table = pd.DataFrame(district.dcode.unique(), columns=['dcode'])\n",
    "dcode_table = dcode_table.merge(dgm[['UCODE', 'UNAME']], how='left', left_on='dcode', right_on='UCODE').drop(columns=['UCODE'])\n",
    "dcode_table = dcode_table.sort_values('dcode').rename(columns={'UNAME':'dname'})\n",
    "dcode_table['counts'] = district.drop_duplicates(['sid', 'dcode']).dcode.value_counts().sort_index().values\n",
    "dcode_table.loc[dcode_table.dcode == 'UQA500', 'dname'] = '도시지역미지정'\n",
    "dcode_table.loc[dcode_table.dcode == 'UQA999', 'dname'] = '도시지역기타'\n",
    "dcode_table.loc[dcode_table.dcode == 'UQA01X', 'dname'] = 'error'\n",
    "dcode_table"
   ]
  },
  {
   "cell_type": "code",
   "execution_count": 88,
   "metadata": {},
   "outputs": [],
   "source": [
    "# 세부 분류를 그룹화\n",
    "def decode_grouper(name):\n",
    "    if '주거' in name:\n",
    "        return '주거지역'\n",
    "    if '상업' in name:\n",
    "        return '상업지역'\n",
    "    if '녹지' in name:\n",
    "        return '녹지지역'\n",
    "    if '공업' in name:\n",
    "        return '공업지역'\n",
    "    return '기타'"
   ]
  },
  {
   "cell_type": "code",
   "execution_count": 89,
   "metadata": {},
   "outputs": [
    {
     "data": {
      "text/html": [
       "<div>\n",
       "<style scoped>\n",
       "    .dataframe tbody tr th:only-of-type {\n",
       "        vertical-align: middle;\n",
       "    }\n",
       "\n",
       "    .dataframe tbody tr th {\n",
       "        vertical-align: top;\n",
       "    }\n",
       "\n",
       "    .dataframe thead th {\n",
       "        text-align: right;\n",
       "    }\n",
       "</style>\n",
       "<table border=\"1\" class=\"dataframe\">\n",
       "  <thead>\n",
       "    <tr style=\"text-align: right;\">\n",
       "      <th></th>\n",
       "      <th>dcode</th>\n",
       "      <th>dname</th>\n",
       "      <th>counts</th>\n",
       "    </tr>\n",
       "  </thead>\n",
       "  <tbody>\n",
       "    <tr>\n",
       "      <th>12</th>\n",
       "      <td>UQA01X</td>\n",
       "      <td>기타</td>\n",
       "      <td>258</td>\n",
       "    </tr>\n",
       "    <tr>\n",
       "      <th>21</th>\n",
       "      <td>UQA100</td>\n",
       "      <td>주거지역</td>\n",
       "      <td>2</td>\n",
       "    </tr>\n",
       "    <tr>\n",
       "      <th>8</th>\n",
       "      <td>UQA111</td>\n",
       "      <td>주거지역</td>\n",
       "      <td>46</td>\n",
       "    </tr>\n",
       "    <tr>\n",
       "      <th>17</th>\n",
       "      <td>UQA112</td>\n",
       "      <td>주거지역</td>\n",
       "      <td>25</td>\n",
       "    </tr>\n",
       "    <tr>\n",
       "      <th>11</th>\n",
       "      <td>UQA120</td>\n",
       "      <td>주거지역</td>\n",
       "      <td>9</td>\n",
       "    </tr>\n",
       "    <tr>\n",
       "      <th>4</th>\n",
       "      <td>UQA121</td>\n",
       "      <td>주거지역</td>\n",
       "      <td>684</td>\n",
       "    </tr>\n",
       "    <tr>\n",
       "      <th>2</th>\n",
       "      <td>UQA122</td>\n",
       "      <td>주거지역</td>\n",
       "      <td>889</td>\n",
       "    </tr>\n",
       "    <tr>\n",
       "      <th>1</th>\n",
       "      <td>UQA123</td>\n",
       "      <td>주거지역</td>\n",
       "      <td>514</td>\n",
       "    </tr>\n",
       "    <tr>\n",
       "      <th>3</th>\n",
       "      <td>UQA130</td>\n",
       "      <td>주거지역</td>\n",
       "      <td>564</td>\n",
       "    </tr>\n",
       "    <tr>\n",
       "      <th>20</th>\n",
       "      <td>UQA200</td>\n",
       "      <td>상업지역</td>\n",
       "      <td>2</td>\n",
       "    </tr>\n",
       "    <tr>\n",
       "      <th>15</th>\n",
       "      <td>UQA210</td>\n",
       "      <td>상업지역</td>\n",
       "      <td>53</td>\n",
       "    </tr>\n",
       "    <tr>\n",
       "      <th>6</th>\n",
       "      <td>UQA220</td>\n",
       "      <td>상업지역</td>\n",
       "      <td>601</td>\n",
       "    </tr>\n",
       "    <tr>\n",
       "      <th>7</th>\n",
       "      <td>UQA230</td>\n",
       "      <td>상업지역</td>\n",
       "      <td>77</td>\n",
       "    </tr>\n",
       "    <tr>\n",
       "      <th>14</th>\n",
       "      <td>UQA240</td>\n",
       "      <td>상업지역</td>\n",
       "      <td>27</td>\n",
       "    </tr>\n",
       "    <tr>\n",
       "      <th>18</th>\n",
       "      <td>UQA310</td>\n",
       "      <td>공업지역</td>\n",
       "      <td>5</td>\n",
       "    </tr>\n",
       "    <tr>\n",
       "      <th>9</th>\n",
       "      <td>UQA320</td>\n",
       "      <td>공업지역</td>\n",
       "      <td>125</td>\n",
       "    </tr>\n",
       "    <tr>\n",
       "      <th>10</th>\n",
       "      <td>UQA330</td>\n",
       "      <td>공업지역</td>\n",
       "      <td>153</td>\n",
       "    </tr>\n",
       "    <tr>\n",
       "      <th>22</th>\n",
       "      <td>UQA400</td>\n",
       "      <td>녹지지역</td>\n",
       "      <td>2</td>\n",
       "    </tr>\n",
       "    <tr>\n",
       "      <th>5</th>\n",
       "      <td>UQA410</td>\n",
       "      <td>녹지지역</td>\n",
       "      <td>237</td>\n",
       "    </tr>\n",
       "    <tr>\n",
       "      <th>13</th>\n",
       "      <td>UQA420</td>\n",
       "      <td>녹지지역</td>\n",
       "      <td>207</td>\n",
       "    </tr>\n",
       "    <tr>\n",
       "      <th>0</th>\n",
       "      <td>UQA430</td>\n",
       "      <td>녹지지역</td>\n",
       "      <td>1001</td>\n",
       "    </tr>\n",
       "    <tr>\n",
       "      <th>16</th>\n",
       "      <td>UQA500</td>\n",
       "      <td>기타</td>\n",
       "      <td>20</td>\n",
       "    </tr>\n",
       "    <tr>\n",
       "      <th>19</th>\n",
       "      <td>UQA999</td>\n",
       "      <td>기타</td>\n",
       "      <td>2</td>\n",
       "    </tr>\n",
       "  </tbody>\n",
       "</table>\n",
       "</div>"
      ],
      "text/plain": [
       "     dcode dname  counts\n",
       "12  UQA01X    기타     258\n",
       "21  UQA100  주거지역       2\n",
       "8   UQA111  주거지역      46\n",
       "17  UQA112  주거지역      25\n",
       "11  UQA120  주거지역       9\n",
       "4   UQA121  주거지역     684\n",
       "2   UQA122  주거지역     889\n",
       "1   UQA123  주거지역     514\n",
       "3   UQA130  주거지역     564\n",
       "20  UQA200  상업지역       2\n",
       "15  UQA210  상업지역      53\n",
       "6   UQA220  상업지역     601\n",
       "7   UQA230  상업지역      77\n",
       "14  UQA240  상업지역      27\n",
       "18  UQA310  공업지역       5\n",
       "9   UQA320  공업지역     125\n",
       "10  UQA330  공업지역     153\n",
       "22  UQA400  녹지지역       2\n",
       "5   UQA410  녹지지역     237\n",
       "13  UQA420  녹지지역     207\n",
       "0   UQA430  녹지지역    1001\n",
       "16  UQA500    기타      20\n",
       "19  UQA999    기타       2"
      ]
     },
     "execution_count": 89,
     "metadata": {},
     "output_type": "execute_result"
    }
   ],
   "source": [
    "dcode_table.dname = dcode_table.dname.map(decode_grouper)\n",
    "dcode_table"
   ]
  },
  {
   "cell_type": "code",
   "execution_count": 90,
   "metadata": {},
   "outputs": [],
   "source": [
    "district = district.merge(dcode_table[['dcode', 'dname']], how='left', on='dcode').drop(columns=['A1', 'dcode'])"
   ]
  },
  {
   "cell_type": "code",
   "execution_count": 91,
   "metadata": {},
   "outputs": [
    {
     "data": {
      "text/html": [
       "<div>\n",
       "<style scoped>\n",
       "    .dataframe tbody tr th:only-of-type {\n",
       "        vertical-align: middle;\n",
       "    }\n",
       "\n",
       "    .dataframe tbody tr th {\n",
       "        vertical-align: top;\n",
       "    }\n",
       "\n",
       "    .dataframe thead th {\n",
       "        text-align: right;\n",
       "    }\n",
       "</style>\n",
       "<table border=\"1\" class=\"dataframe\">\n",
       "  <thead>\n",
       "    <tr style=\"text-align: right;\">\n",
       "      <th></th>\n",
       "      <th>sid</th>\n",
       "      <th>area</th>\n",
       "      <th>dname</th>\n",
       "    </tr>\n",
       "  </thead>\n",
       "  <tbody>\n",
       "    <tr>\n",
       "      <th>0</th>\n",
       "      <td>서울_마포용산_상암월드컵경기장</td>\n",
       "      <td>80670.19</td>\n",
       "      <td>녹지지역</td>\n",
       "    </tr>\n",
       "    <tr>\n",
       "      <th>1</th>\n",
       "      <td>서울_마포용산_상암월드컵경기장</td>\n",
       "      <td>1695.40</td>\n",
       "      <td>주거지역</td>\n",
       "    </tr>\n",
       "    <tr>\n",
       "      <th>2</th>\n",
       "      <td>서울_마포용산_상암월드컵경기장</td>\n",
       "      <td>159593.97</td>\n",
       "      <td>녹지지역</td>\n",
       "    </tr>\n",
       "    <tr>\n",
       "      <th>3</th>\n",
       "      <td>서울_마포용산_상암월드컵경기장</td>\n",
       "      <td>35212.77</td>\n",
       "      <td>주거지역</td>\n",
       "    </tr>\n",
       "    <tr>\n",
       "      <th>4</th>\n",
       "      <td>서울_마포용산_상암월드컵경기장</td>\n",
       "      <td>193026.33</td>\n",
       "      <td>주거지역</td>\n",
       "    </tr>\n",
       "  </tbody>\n",
       "</table>\n",
       "</div>"
      ],
      "text/plain": [
       "                sid       area dname\n",
       "0  서울_마포용산_상암월드컵경기장   80670.19  녹지지역\n",
       "1  서울_마포용산_상암월드컵경기장    1695.40  주거지역\n",
       "2  서울_마포용산_상암월드컵경기장  159593.97  녹지지역\n",
       "3  서울_마포용산_상암월드컵경기장   35212.77  주거지역\n",
       "4  서울_마포용산_상암월드컵경기장  193026.33  주거지역"
      ]
     },
     "execution_count": 91,
     "metadata": {},
     "output_type": "execute_result"
    }
   ],
   "source": [
    "district.head()"
   ]
  },
  {
   "cell_type": "code",
   "execution_count": 92,
   "metadata": {},
   "outputs": [
    {
     "data": {
      "text/plain": [
       "<AxesSubplot: ylabel='Frequency'>"
      ]
     },
     "execution_count": 92,
     "metadata": {},
     "output_type": "execute_result"
    },
    {
     "data": {
      "image/png": "[encoded data removed]",
      "text/plain": [
       "<Figure size 640x480 with 1 Axes>"
      ]
     },
     "metadata": {},
     "output_type": "display_data"
    }
   ],
   "source": [
    "district.area.plot(kind='hist')"
   ]
  },
  {
   "cell_type": "code",
   "execution_count": 93,
   "metadata": {},
   "outputs": [],
   "source": [
    "district = district.groupby(['sid', 'dname']).area.sum().to_frame().reset_index()"
   ]
  },
  {
   "cell_type": "code",
   "execution_count": 94,
   "metadata": {},
   "outputs": [
    {
     "data": {
      "text/html": [
       "<div>\n",
       "<style scoped>\n",
       "    .dataframe tbody tr th:only-of-type {\n",
       "        vertical-align: middle;\n",
       "    }\n",
       "\n",
       "    .dataframe tbody tr th {\n",
       "        vertical-align: top;\n",
       "    }\n",
       "\n",
       "    .dataframe thead th {\n",
       "        text-align: right;\n",
       "    }\n",
       "</style>\n",
       "<table border=\"1\" class=\"dataframe\">\n",
       "  <thead>\n",
       "    <tr style=\"text-align: right;\">\n",
       "      <th></th>\n",
       "      <th>sid</th>\n",
       "      <th>dname</th>\n",
       "      <th>area</th>\n",
       "    </tr>\n",
       "  </thead>\n",
       "  <tbody>\n",
       "    <tr>\n",
       "      <th>0</th>\n",
       "      <td>강원_강릉_강남동주민센터</td>\n",
       "      <td>녹지지역</td>\n",
       "      <td>423671.88</td>\n",
       "    </tr>\n",
       "    <tr>\n",
       "      <th>1</th>\n",
       "      <td>강원_강릉_강남동주민센터</td>\n",
       "      <td>주거지역</td>\n",
       "      <td>360979.87</td>\n",
       "    </tr>\n",
       "    <tr>\n",
       "      <th>2</th>\n",
       "      <td>강원_강릉_강릉농협 하나로마트</td>\n",
       "      <td>녹지지역</td>\n",
       "      <td>205504.87</td>\n",
       "    </tr>\n",
       "    <tr>\n",
       "      <th>3</th>\n",
       "      <td>강원_강릉_강릉농협 하나로마트</td>\n",
       "      <td>상업지역</td>\n",
       "      <td>255227.75</td>\n",
       "    </tr>\n",
       "    <tr>\n",
       "      <th>4</th>\n",
       "      <td>강원_강릉_강릉농협 하나로마트</td>\n",
       "      <td>주거지역</td>\n",
       "      <td>323921.02</td>\n",
       "    </tr>\n",
       "  </tbody>\n",
       "</table>\n",
       "</div>"
      ],
      "text/plain": [
       "                sid dname       area\n",
       "0     강원_강릉_강남동주민센터  녹지지역  423671.88\n",
       "1     강원_강릉_강남동주민센터  주거지역  360979.87\n",
       "2  강원_강릉_강릉농협 하나로마트  녹지지역  205504.87\n",
       "3  강원_강릉_강릉농협 하나로마트  상업지역  255227.75\n",
       "4  강원_강릉_강릉농협 하나로마트  주거지역  323921.02"
      ]
     },
     "execution_count": 94,
     "metadata": {},
     "output_type": "execute_result"
    }
   ],
   "source": [
    "district.head()"
   ]
  },
  {
   "cell_type": "code",
   "execution_count": 95,
   "metadata": {},
   "outputs": [],
   "source": [
    "# 각 용도지역 너비의 합을 1로 처리\n",
    "\n",
    "def normalize_area(sid_df):\n",
    "        sid_df.area = sid_df.area / sid_df.area.sum()\n",
    "        return sid_df\n",
    "\n",
    "district = district.groupby('sid', group_keys=False).apply(normalize_area)        "
   ]
  },
  {
   "cell_type": "code",
   "execution_count": 96,
   "metadata": {},
   "outputs": [
    {
     "data": {
      "text/plain": [
       "<AxesSubplot: ylabel='Frequency'>"
      ]
     },
     "execution_count": 96,
     "metadata": {},
     "output_type": "execute_result"
    },
    {
     "data": {
      "image/png": "[encoded data removed]",
      "text/plain": [
       "<Figure size 640x480 with 1 Axes>"
      ]
     },
     "metadata": {},
     "output_type": "display_data"
    }
   ],
   "source": [
    "district.area.plot(kind='hist')"
   ]
  },
  {
   "cell_type": "code",
   "execution_count": 97,
   "metadata": {},
   "outputs": [
    {
     "data": {
      "text/plain": [
       "sid\n",
       "강원_강릉_강남동주민센터       녹지지역\n",
       "강원_강릉_강릉농협 하나로마트    주거지역\n",
       "강원_강릉_강릉축협 하나로마트    주거지역\n",
       "Name: dname, dtype: object"
      ]
     },
     "execution_count": 97,
     "metadata": {},
     "output_type": "execute_result"
    }
   ],
   "source": [
    "# 각 sid별 최다 지역\n",
    "major_dcode = district.sort_values('area', ascending=False).groupby('sid').dname.first()\n",
    "major_dcode.head(3)"
   ]
  },
  {
   "cell_type": "code",
   "execution_count": 98,
   "metadata": {},
   "outputs": [
    {
     "data": {
      "text/html": [
       "<div>\n",
       "<style scoped>\n",
       "    .dataframe tbody tr th:only-of-type {\n",
       "        vertical-align: middle;\n",
       "    }\n",
       "\n",
       "    .dataframe tbody tr th {\n",
       "        vertical-align: top;\n",
       "    }\n",
       "\n",
       "    .dataframe thead th {\n",
       "        text-align: right;\n",
       "    }\n",
       "</style>\n",
       "<table border=\"1\" class=\"dataframe\">\n",
       "  <thead>\n",
       "    <tr style=\"text-align: right;\">\n",
       "      <th>dname</th>\n",
       "      <th>sid</th>\n",
       "      <th>indust_ratio</th>\n",
       "      <th>etc_ratio</th>\n",
       "      <th>green_ratio</th>\n",
       "      <th>commerce_ratio</th>\n",
       "      <th>reside_ratio</th>\n",
       "    </tr>\n",
       "  </thead>\n",
       "  <tbody>\n",
       "    <tr>\n",
       "      <th>0</th>\n",
       "      <td>강원_강릉_강남동주민센터</td>\n",
       "      <td>0.00</td>\n",
       "      <td>0.00</td>\n",
       "      <td>0.54</td>\n",
       "      <td>0.00</td>\n",
       "      <td>0.46</td>\n",
       "    </tr>\n",
       "    <tr>\n",
       "      <th>1</th>\n",
       "      <td>강원_강릉_강릉농협 하나로마트</td>\n",
       "      <td>0.00</td>\n",
       "      <td>0.00</td>\n",
       "      <td>0.26</td>\n",
       "      <td>0.33</td>\n",
       "      <td>0.41</td>\n",
       "    </tr>\n",
       "    <tr>\n",
       "      <th>2</th>\n",
       "      <td>강원_강릉_강릉축협 하나로마트</td>\n",
       "      <td>0.00</td>\n",
       "      <td>0.00</td>\n",
       "      <td>0.42</td>\n",
       "      <td>0.00</td>\n",
       "      <td>0.58</td>\n",
       "    </tr>\n",
       "  </tbody>\n",
       "</table>\n",
       "</div>"
      ],
      "text/plain": [
       "dname               sid  indust_ratio  etc_ratio  green_ratio  commerce_ratio  \\\n",
       "0         강원_강릉_강남동주민센터          0.00       0.00         0.54            0.00   \n",
       "1      강원_강릉_강릉농협 하나로마트          0.00       0.00         0.26            0.33   \n",
       "2      강원_강릉_강릉축협 하나로마트          0.00       0.00         0.42            0.00   \n",
       "\n",
       "dname  reside_ratio  \n",
       "0              0.46  \n",
       "1              0.41  \n",
       "2              0.58  "
      ]
     },
     "execution_count": 98,
     "metadata": {},
     "output_type": "execute_result"
    }
   ],
   "source": [
    "# 각 sid별 용도지역 차지비율\n",
    "district_ratio = district.pivot(index='sid', columns='dname', values='area').reset_index().fillna(0) \\\n",
    "                         .rename(columns={'공업지역':'indust_ratio', '기타':'etc_ratio', '녹지지역':'green_ratio', '상업지역':'commerce_ratio', '주거지역':'reside_ratio'})\n",
    "district_ratio.head(3)"
   ]
  },
  {
   "cell_type": "code",
   "execution_count": 99,
   "metadata": {},
   "outputs": [
    {
     "data": {
      "text/html": [
       "<div>\n",
       "<style scoped>\n",
       "    .dataframe tbody tr th:only-of-type {\n",
       "        vertical-align: middle;\n",
       "    }\n",
       "\n",
       "    .dataframe tbody tr th {\n",
       "        vertical-align: top;\n",
       "    }\n",
       "\n",
       "    .dataframe thead th {\n",
       "        text-align: right;\n",
       "    }\n",
       "</style>\n",
       "<table border=\"1\" class=\"dataframe\">\n",
       "  <thead>\n",
       "    <tr style=\"text-align: right;\">\n",
       "      <th></th>\n",
       "      <th>station_name</th>\n",
       "      <th>sid</th>\n",
       "      <th>address</th>\n",
       "      <th>lat</th>\n",
       "      <th>long</th>\n",
       "      <th>district_lv2</th>\n",
       "      <th>district_lv3</th>\n",
       "      <th>fast_cnt</th>\n",
       "      <th>slow_cnt</th>\n",
       "      <th>mean_speed</th>\n",
       "      <th>...</th>\n",
       "      <th>length_highway</th>\n",
       "      <th>length_national</th>\n",
       "      <th>length_local</th>\n",
       "      <th>length_city</th>\n",
       "      <th>indust_ratio</th>\n",
       "      <th>etc_ratio</th>\n",
       "      <th>green_ratio</th>\n",
       "      <th>commerce_ratio</th>\n",
       "      <th>reside_ratio</th>\n",
       "      <th>dname</th>\n",
       "    </tr>\n",
       "  </thead>\n",
       "  <tbody>\n",
       "    <tr>\n",
       "      <th>0</th>\n",
       "      <td>화양강휴게소</td>\n",
       "      <td>강원_홍천_화양강휴게소</td>\n",
       "      <td>강원도 홍천군 두촌면 철정리 978-6</td>\n",
       "      <td>37.80</td>\n",
       "      <td>127.99</td>\n",
       "      <td>강원도_홍천군</td>\n",
       "      <td>강원도_홍천군_두촌면</td>\n",
       "      <td>1</td>\n",
       "      <td>0</td>\n",
       "      <td>50.00</td>\n",
       "      <td>...</td>\n",
       "      <td>0.00</td>\n",
       "      <td>2065.53</td>\n",
       "      <td>0.00</td>\n",
       "      <td>2590.38</td>\n",
       "      <td>NaN</td>\n",
       "      <td>NaN</td>\n",
       "      <td>NaN</td>\n",
       "      <td>NaN</td>\n",
       "      <td>NaN</td>\n",
       "      <td>NaN</td>\n",
       "    </tr>\n",
       "    <tr>\n",
       "      <th>1</th>\n",
       "      <td>상암월드컵경기장</td>\n",
       "      <td>서울_마포용산_상암월드컵경기장</td>\n",
       "      <td>서울특별시 마포구 성산동 531</td>\n",
       "      <td>37.57</td>\n",
       "      <td>126.89</td>\n",
       "      <td>서울특별시_마포구</td>\n",
       "      <td>서울특별시_마포구_성산동</td>\n",
       "      <td>7</td>\n",
       "      <td>3</td>\n",
       "      <td>50.00</td>\n",
       "      <td>...</td>\n",
       "      <td>499.55</td>\n",
       "      <td>4236.51</td>\n",
       "      <td>0.00</td>\n",
       "      <td>2929.40</td>\n",
       "      <td>0.00</td>\n",
       "      <td>0.00</td>\n",
       "      <td>0.68</td>\n",
       "      <td>0.00</td>\n",
       "      <td>0.32</td>\n",
       "      <td>녹지지역</td>\n",
       "    </tr>\n",
       "    <tr>\n",
       "      <th>2</th>\n",
       "      <td>대정읍사무소</td>\n",
       "      <td>제주_서귀포_대정읍사무소</td>\n",
       "      <td>제주특별자치도 서귀포시 대정읍 하모리 1413</td>\n",
       "      <td>33.23</td>\n",
       "      <td>126.25</td>\n",
       "      <td>제주특별자치도_서귀포시</td>\n",
       "      <td>제주특별자치도_서귀포시_대정읍</td>\n",
       "      <td>4</td>\n",
       "      <td>0</td>\n",
       "      <td>50.00</td>\n",
       "      <td>...</td>\n",
       "      <td>0.00</td>\n",
       "      <td>0.00</td>\n",
       "      <td>1816.24</td>\n",
       "      <td>7394.46</td>\n",
       "      <td>0.00</td>\n",
       "      <td>0.00</td>\n",
       "      <td>0.30</td>\n",
       "      <td>0.12</td>\n",
       "      <td>0.58</td>\n",
       "      <td>주거지역</td>\n",
       "    </tr>\n",
       "  </tbody>\n",
       "</table>\n",
       "<p>3 rows × 21 columns</p>\n",
       "</div>"
      ],
      "text/plain": [
       "  station_name               sid                    address    lat    long  \\\n",
       "0       화양강휴게소      강원_홍천_화양강휴게소      강원도 홍천군 두촌면 철정리 978-6  37.80  127.99   \n",
       "1     상암월드컵경기장  서울_마포용산_상암월드컵경기장          서울특별시 마포구 성산동 531  37.57  126.89   \n",
       "2       대정읍사무소     제주_서귀포_대정읍사무소  제주특별자치도 서귀포시 대정읍 하모리 1413  33.23  126.25   \n",
       "\n",
       "   district_lv2      district_lv3  fast_cnt  slow_cnt  mean_speed  ...  \\\n",
       "0       강원도_홍천군       강원도_홍천군_두촌면         1         0       50.00  ...   \n",
       "1     서울특별시_마포구     서울특별시_마포구_성산동         7         3       50.00  ...   \n",
       "2  제주특별자치도_서귀포시  제주특별자치도_서귀포시_대정읍         4         0       50.00  ...   \n",
       "\n",
       "   length_highway  length_national  length_local  length_city  indust_ratio  \\\n",
       "0            0.00          2065.53          0.00      2590.38           NaN   \n",
       "1          499.55          4236.51          0.00      2929.40          0.00   \n",
       "2            0.00             0.00       1816.24      7394.46          0.00   \n",
       "\n",
       "   etc_ratio  green_ratio  commerce_ratio  reside_ratio  dname  \n",
       "0        NaN          NaN             NaN           NaN    NaN  \n",
       "1       0.00         0.68            0.00          0.32   녹지지역  \n",
       "2       0.00         0.30            0.12          0.58   주거지역  \n",
       "\n",
       "[3 rows x 21 columns]"
      ]
     },
     "execution_count": 99,
     "metadata": {},
     "output_type": "execute_result"
    }
   ],
   "source": [
    "pub_station = pub_station.merge(district_ratio, how='left', on='sid').merge(major_dcode, how='left', on='sid')\n",
    "pub_station.head(3)"
   ]
  },
  {
   "cell_type": "code",
   "execution_count": 100,
   "metadata": {},
   "outputs": [
    {
     "name": "stdout",
     "output_type": "stream",
     "text": [
      "<class 'pandas.core.frame.DataFrame'>\n",
      "Int64Index: 1304 entries, 0 to 1303\n",
      "Data columns (total 21 columns):\n",
      " #   Column           Non-Null Count  Dtype  \n",
      "---  ------           --------------  -----  \n",
      " 0   station_name     1304 non-null   object \n",
      " 1   sid              1304 non-null   object \n",
      " 2   address          1304 non-null   object \n",
      " 3   lat              1304 non-null   float64\n",
      " 4   long             1304 non-null   float64\n",
      " 5   district_lv2     1304 non-null   object \n",
      " 6   district_lv3     1304 non-null   object \n",
      " 7   fast_cnt         1304 non-null   int64  \n",
      " 8   slow_cnt         1304 non-null   int64  \n",
      " 9   mean_speed       1293 non-null   float64\n",
      " 10  mean_trip        1216 non-null   float64\n",
      " 11  length_highway   1304 non-null   float64\n",
      " 12  length_national  1304 non-null   float64\n",
      " 13  length_local     1304 non-null   float64\n",
      " 14  length_city      1304 non-null   float64\n",
      " 15  indust_ratio     1122 non-null   float64\n",
      " 16  etc_ratio        1122 non-null   float64\n",
      " 17  green_ratio      1122 non-null   float64\n",
      " 18  commerce_ratio   1122 non-null   float64\n",
      " 19  reside_ratio     1122 non-null   float64\n",
      " 20  dname            1122 non-null   object \n",
      "dtypes: float64(13), int64(2), object(6)\n",
      "memory usage: 224.1+ KB\n"
     ]
    }
   ],
   "source": [
    "pub_station.info()"
   ]
  },
  {
   "cell_type": "markdown",
   "metadata": {},
   "source": [
    "## 모델링 sid로 제한"
   ]
  },
  {
   "cell_type": "code",
   "execution_count": 101,
   "metadata": {},
   "outputs": [],
   "source": [
    "sequences = pd.read_csv('../data/input_table/fast_history_by_station_pub_cls.csv', parse_dates=['time'])"
   ]
  },
  {
   "cell_type": "code",
   "execution_count": 102,
   "metadata": {},
   "outputs": [
    {
     "data": {
      "text/plain": [
       "Index(['강원_강릉_HAPPY700 평창시네마', '강원_강릉_강남동주민센터', '강원_강릉_강릉축협 하나로마트',\n",
       "       '강원_강릉_강원도교육연수원', '강원_강릉_강원양돈농협 하나로마트', '강원_강릉_경포해수욕장', '강원_강릉_교2동주민센터',\n",
       "       '강원_강릉_녹색도시체험센터', '강원_강릉_대관령면 관광안내소', '강원_강릉_보헤미안박이추 커피공장',\n",
       "       ...\n",
       "       '충북_충주_금릉주차장', '충북_충주_노은면 행정복지센터', '충북_충주_대소원면 주민자치센터',\n",
       "       '충북_충주_성서동 공영주차장', '충북_충주_이마트 충주점', '충북_충주_중앙탑면 행정복지센터',\n",
       "       '충북_충주_충주시청 민원주차장', '충북_충주_충주실내체육관', '충북_충주_충주종합스포츠타운', '충북_충주_평생학습관'],\n",
       "      dtype='object', length=828)"
      ]
     },
     "execution_count": 102,
     "metadata": {},
     "output_type": "execute_result"
    }
   ],
   "source": [
    "sequences.set_index('time').columns"
   ]
  },
  {
   "cell_type": "code",
   "execution_count": 103,
   "metadata": {},
   "outputs": [],
   "source": [
    "pub_station = pub_station[pub_station.sid.isin(sequences.columns)].dropna()"
   ]
  },
  {
   "cell_type": "code",
   "execution_count": 104,
   "metadata": {},
   "outputs": [
    {
     "name": "stdout",
     "output_type": "stream",
     "text": [
      "<class 'pandas.core.frame.DataFrame'>\n",
      "Int64Index: 690 entries, 1 to 1135\n",
      "Data columns (total 21 columns):\n",
      " #   Column           Non-Null Count  Dtype  \n",
      "---  ------           --------------  -----  \n",
      " 0   station_name     690 non-null    object \n",
      " 1   sid              690 non-null    object \n",
      " 2   address          690 non-null    object \n",
      " 3   lat              690 non-null    float64\n",
      " 4   long             690 non-null    float64\n",
      " 5   district_lv2     690 non-null    object \n",
      " 6   district_lv3     690 non-null    object \n",
      " 7   fast_cnt         690 non-null    int64  \n",
      " 8   slow_cnt         690 non-null    int64  \n",
      " 9   mean_speed       690 non-null    float64\n",
      " 10  mean_trip        690 non-null    float64\n",
      " 11  length_highway   690 non-null    float64\n",
      " 12  length_national  690 non-null    float64\n",
      " 13  length_local     690 non-null    float64\n",
      " 14  length_city      690 non-null    float64\n",
      " 15  indust_ratio     690 non-null    float64\n",
      " 16  etc_ratio        690 non-null    float64\n",
      " 17  green_ratio      690 non-null    float64\n",
      " 18  commerce_ratio   690 non-null    float64\n",
      " 19  reside_ratio     690 non-null    float64\n",
      " 20  dname            690 non-null    object \n",
      "dtypes: float64(13), int64(2), object(6)\n",
      "memory usage: 118.6+ KB\n"
     ]
    }
   ],
   "source": [
    "pub_station.info()"
   ]
  },
  {
   "cell_type": "code",
   "execution_count": 105,
   "metadata": {},
   "outputs": [],
   "source": [
    "seq = sequences.set_index('time').T.reset_index().rename(columns={'index':'sid'})\n",
    "seq = seq[seq.sid.isin(pub_station.sid)].set_index('sid')  # 690개 스테이션 제한"
   ]
  },
  {
   "cell_type": "code",
   "execution_count": 107,
   "metadata": {},
   "outputs": [
    {
     "data": {
      "text/plain": [
       "<AxesSubplot: ylabel='Frequency'>"
      ]
     },
     "execution_count": 107,
     "metadata": {},
     "output_type": "execute_result"
    },
    {
     "data": {
      "image/png": "[encoded data removed]",
      "text/plain": [
       "<Figure size 640x480 with 1 Axes>"
      ]
     },
     "metadata": {},
     "output_type": "display_data"
    }
   ],
   "source": [
    "seq.mean(axis=1).plot(kind='hist')"
   ]
  },
  {
   "cell_type": "code",
   "execution_count": 108,
   "metadata": {},
   "outputs": [
    {
     "data": {
      "text/plain": [
       "125"
      ]
     },
     "execution_count": 108,
     "metadata": {},
     "output_type": "execute_result"
    }
   ],
   "source": [
    "seq.mean(axis=1).le(0.9).sum()"
   ]
  },
  {
   "cell_type": "code",
   "execution_count": 109,
   "metadata": {},
   "outputs": [],
   "source": [
    "# 그루핑 \n",
    "# <0.05 modeling group 0 (neq)\n",
    "# >= 0.05 modeling group (pos)\n",
    "\n",
    "group_encoder = {station_id:1 for station_id in seq[seq.mean(axis=1).le(0.90)].index}\n",
    "for station_id in seq[seq.mean(axis=1).gt(0.90)].index:\n",
    "    group_encoder[station_id] = 0"
   ]
  },
  {
   "cell_type": "code",
   "execution_count": 110,
   "metadata": {},
   "outputs": [],
   "source": [
    "pub_station['modeling_group'] = pub_station.sid.map(group_encoder)"
   ]
  },
  {
   "cell_type": "code",
   "execution_count": 111,
   "metadata": {},
   "outputs": [],
   "source": [
    "train_station = pub_station.groupby('modeling_group', group_keys=False).apply(lambda df: df.sample(frac=0.8, random_state=42)).copy()\n",
    "test_station = pub_station[~pub_station.sid.isin(train_station.sid)].copy()"
   ]
  },
  {
   "cell_type": "markdown",
   "metadata": {},
   "source": [
    "## Dimensionality Reduction"
   ]
  },
  {
   "cell_type": "code",
   "execution_count": 114,
   "metadata": {},
   "outputs": [
    {
     "data": {
      "text/plain": [
       "Index(['station_name', 'sid', 'address', 'lat', 'long', 'district_lv2',\n",
       "       'district_lv3', 'fast_cnt', 'slow_cnt', 'mean_speed', 'mean_trip',\n",
       "       'length_highway', 'length_national', 'length_local', 'length_city',\n",
       "       'indust_ratio', 'etc_ratio', 'green_ratio', 'commerce_ratio',\n",
       "       'reside_ratio', 'dname', 'modeling_group'],\n",
       "      dtype='object')"
      ]
     },
     "execution_count": 114,
     "metadata": {},
     "output_type": "execute_result"
    }
   ],
   "source": [
    "pub_station.columns"
   ]
  },
  {
   "cell_type": "code",
   "execution_count": 115,
   "metadata": {},
   "outputs": [
    {
     "name": "stdout",
     "output_type": "stream",
     "text": [
      "number of stations:  690\n"
     ]
    }
   ],
   "source": [
    "# 총 690개의 station\n",
    "n_station = pub_station.shape[0]\n",
    "print('number of stations: ', n_station)"
   ]
  },
  {
   "cell_type": "markdown",
   "metadata": {},
   "source": [
    "### Train-Test Split"
   ]
  },
  {
   "cell_type": "code",
   "execution_count": 116,
   "metadata": {},
   "outputs": [],
   "source": [
    "# # 단순 무작위 분할\n",
    "\n",
    "# pub_station = pub_station.sample(frac=1, random_state=42)  # shuffling"
   ]
  },
  {
   "cell_type": "code",
   "execution_count": 117,
   "metadata": {},
   "outputs": [],
   "source": [
    "# TEST_FRAC = 0.1\n",
    "# n_train = round(n_station * (1-TEST_FRAC))\n",
    "\n",
    "# print('number of train: ', n_train)\n",
    "# train_station = pub_station.iloc[:n_train].copy()\n",
    "# test_station = pub_station.iloc[n_train:].copy()"
   ]
  },
  {
   "cell_type": "markdown",
   "metadata": {},
   "source": [
    "### sid label encoding"
   ]
  },
  {
   "cell_type": "code",
   "execution_count": 118,
   "metadata": {},
   "outputs": [],
   "source": [
    "station_features = ['lat', 'long', 'fast_cnt', 'slow_cnt', 'mean_trip', 'mean_speed',\n",
    "                    'length_highway', 'length_national', 'length_local', 'length_city', \n",
    "                    'indust_ratio', 'etc_ratio', 'green_ratio', 'commerce_ratio', 'reside_ratio']"
   ]
  },
  {
   "cell_type": "code",
   "execution_count": 119,
   "metadata": {},
   "outputs": [],
   "source": [
    "X_train = train_station[station_features].values\n",
    "X_test = test_station[station_features].values"
   ]
  },
  {
   "cell_type": "code",
   "execution_count": 120,
   "metadata": {},
   "outputs": [
    {
     "data": {
      "text/plain": [
       "((552, 15), (138, 15))"
      ]
     },
     "execution_count": 120,
     "metadata": {},
     "output_type": "execute_result"
    }
   ],
   "source": [
    "X_train.shape, X_test.shape"
   ]
  },
  {
   "cell_type": "markdown",
   "metadata": {},
   "source": [
    "### Scaling"
   ]
  },
  {
   "cell_type": "code",
   "execution_count": 121,
   "metadata": {},
   "outputs": [],
   "source": [
    "from sklearn.preprocessing import RobustScaler\n",
    "\n",
    "scaler = RobustScaler()\n",
    "scaler.fit(X_train)\n",
    "X_train = scaler.transform(X_train)\n",
    "X_test = scaler.transform(X_test)"
   ]
  },
  {
   "cell_type": "markdown",
   "metadata": {},
   "source": [
    "#### checkpoint: feature set before dim. reduction"
   ]
  },
  {
   "cell_type": "code",
   "execution_count": 122,
   "metadata": {},
   "outputs": [],
   "source": [
    "# pub_station_scaled = pd.DataFrame(data=X_train, columns=station_features)\n",
    "# pub_station_scaled['sid'] = pub_station.sid.values\n",
    "# pub_station_scaled.head()"
   ]
  },
  {
   "cell_type": "code",
   "execution_count": 123,
   "metadata": {},
   "outputs": [],
   "source": [
    "import umap\n",
    "\n",
    "trans = umap.UMAP(n_neighbors=5, n_components=2, metric='cosine', random_state=42).fit(X_train)\n",
    "test_embedding = trans.transform(X_test)"
   ]
  },
  {
   "cell_type": "code",
   "execution_count": 124,
   "metadata": {},
   "outputs": [
    {
     "name": "stderr",
     "output_type": "stream",
     "text": [
      "/tmp/ipykernel_38896/2154582215.py:3: UserWarning: No data for colormapping provided via 'c'. Parameters 'cmap' will be ignored\n",
      "  plt.scatter(trans.embedding_[:, 0], trans.embedding_[:, 1], s= 5, cmap='Spectral')\n"
     ]
    },
    {
     "data": {
      "image/png": "[encoded data removed]",
      "text/plain": [
       "<Figure size 640x480 with 1 Axes>"
      ]
     },
     "metadata": {},
     "output_type": "display_data"
    }
   ],
   "source": [
    "import matplotlib.pyplot as plt\n",
    "\n",
    "plt.scatter(trans.embedding_[:, 0], trans.embedding_[:, 1], s= 5, cmap='Spectral')\n",
    "plt.title('Embedding of the training set by UMAP', fontsize=24);"
   ]
  },
  {
   "cell_type": "code",
   "execution_count": 125,
   "metadata": {},
   "outputs": [
    {
     "name": "stderr",
     "output_type": "stream",
     "text": [
      "/tmp/ipykernel_38896/3333902868.py:3: UserWarning: No data for colormapping provided via 'c'. Parameters 'cmap' will be ignored\n",
      "  plt.scatter(test_embedding[:, 0], test_embedding[:, 1], s= 5, cmap='Spectral')\n"
     ]
    },
    {
     "data": {
      "image/png": "[encoded data removed]",
      "text/plain": [
       "<Figure size 640x480 with 1 Axes>"
      ]
     },
     "metadata": {},
     "output_type": "display_data"
    }
   ],
   "source": [
    "import matplotlib.pyplot as plt\n",
    "\n",
    "plt.scatter(test_embedding[:, 0], test_embedding[:, 1], s= 5, cmap='Spectral')\n",
    "plt.title('Embedding of the training set by UMAP', fontsize=24);"
   ]
  },
  {
   "cell_type": "code",
   "execution_count": 60,
   "metadata": {},
   "outputs": [],
   "source": [
    "trans = umap.UMAP(n_neighbors=5, n_components=8, metric='cosine', random_state=42).fit(X_train)\n",
    "test_embedding = trans.transform(X_test)"
   ]
  },
  {
   "cell_type": "code",
   "execution_count": 49,
   "metadata": {},
   "outputs": [],
   "source": [
    "pub_station_embedding = pd.concat([pd.DataFrame(data=trans.embedding_, index=train_station.sid, columns=[ 'dim_' + str(i) for i in range(8)]).reset_index(),\n",
    "                                   pd.DataFrame(data=test_embedding, index=test_station.sid, columns=[ 'dim_' + str(i) for i in range(8)]).reset_index()])"
   ]
  },
  {
   "cell_type": "code",
   "execution_count": null,
   "metadata": {},
   "outputs": [],
   "source": [
    "pub_station_attributes = pd.concat([pd.DataFrame(data=X_train, index=train_station.sid, columns=station_features).reset_index(),\n",
    "                                    pd.DataFrame(data=X_test, index=test_station.sid, columns=station_features).reset_index()])\n",
    "pub_station_attributes"
   ]
  },
  {
   "cell_type": "code",
   "execution_count": null,
   "metadata": {},
   "outputs": [],
   "source": []
  },
  {
   "cell_type": "markdown",
   "metadata": {},
   "source": [
    "### Iterate\n"
   ]
  },
  {
   "cell_type": "code",
   "execution_count": 126,
   "metadata": {},
   "outputs": [
    {
     "name": "stderr",
     "output_type": "stream",
     "text": [
      "  0%|          | 0/9 [00:00<?, ?it/s]"
     ]
    },
    {
     "name": "stdout",
     "output_type": "stream",
     "text": [
      "number of train:  622 number of test:  68\n"
     ]
    },
    {
     "name": "stderr",
     "output_type": "stream",
     "text": [
      " 11%|█         | 1/9 [00:11<01:32, 11.58s/it]"
     ]
    },
    {
     "name": "stdout",
     "output_type": "stream",
     "text": [
      "number of train:  552 number of test:  138\n"
     ]
    },
    {
     "name": "stderr",
     "output_type": "stream",
     "text": [
      " 22%|██▏       | 2/9 [00:22<01:18, 11.21s/it]"
     ]
    },
    {
     "name": "stdout",
     "output_type": "stream",
     "text": [
      "number of train:  482 number of test:  208\n"
     ]
    },
    {
     "name": "stderr",
     "output_type": "stream",
     "text": [
      " 33%|███▎      | 3/9 [00:31<01:01, 10.30s/it]"
     ]
    },
    {
     "name": "stdout",
     "output_type": "stream",
     "text": [
      "number of train:  414 number of test:  276\n"
     ]
    },
    {
     "name": "stderr",
     "output_type": "stream",
     "text": [
      " 44%|████▍     | 4/9 [00:40<00:47,  9.60s/it]"
     ]
    },
    {
     "name": "stdout",
     "output_type": "stream",
     "text": [
      "number of train:  346 number of test:  344\n"
     ]
    },
    {
     "name": "stderr",
     "output_type": "stream",
     "text": [
      " 56%|█████▌    | 5/9 [00:47<00:35,  8.90s/it]"
     ]
    },
    {
     "name": "stdout",
     "output_type": "stream",
     "text": [
      "number of train:  276 number of test:  414\n"
     ]
    },
    {
     "name": "stderr",
     "output_type": "stream",
     "text": [
      " 67%|██████▋   | 6/9 [00:54<00:24,  8.07s/it]"
     ]
    },
    {
     "name": "stdout",
     "output_type": "stream",
     "text": [
      "number of train:  206 number of test:  484\n"
     ]
    },
    {
     "name": "stderr",
     "output_type": "stream",
     "text": [
      " 78%|███████▊  | 7/9 [01:01<00:15,  7.62s/it]"
     ]
    },
    {
     "name": "stdout",
     "output_type": "stream",
     "text": [
      "number of train:  138 number of test:  552\n"
     ]
    },
    {
     "name": "stderr",
     "output_type": "stream",
     "text": [
      " 89%|████████▉ | 8/9 [01:06<00:06,  6.97s/it]"
     ]
    },
    {
     "name": "stdout",
     "output_type": "stream",
     "text": [
      "number of train:  70 number of test:  620\n"
     ]
    },
    {
     "name": "stderr",
     "output_type": "stream",
     "text": [
      "100%|██████████| 9/9 [01:12<00:00,  8.09s/it]\n"
     ]
    }
   ],
   "source": [
    "import os\n",
    "import numpy as np\n",
    "from tqdm import tqdm\n",
    "\n",
    "\n",
    "ROOT_DIR = '../data/input_table/by_test_frac'\n",
    "\n",
    "for test_frac in tqdm(np.arange(0.1, 1, 0.1)):\n",
    "    save_dir = os.path.join(ROOT_DIR, str(round(test_frac,1)))\n",
    "    if not os.path.exists(save_dir):\n",
    "        os.makedirs(save_dir)\n",
    "\n",
    "    # n_train = round(n_station * (1-test_frac))\n",
    "    # print('number of train: ', n_train)\n",
    "    # train_station = pub_station.iloc[:n_train].copy()\n",
    "    # test_station = pub_station.iloc[n_train:].copy()\n",
    "\n",
    "    test_station = pub_station.groupby('modeling_group', group_keys=False).apply(lambda df: df.sample(frac=test_frac, random_state=42)).copy()\n",
    "    train_station = pub_station[~pub_station.sid.isin(test_station.sid)].copy()\n",
    "    print('number of train: ', train_station.shape[0], 'number of test: ', test_station.shape[0])\n",
    "\n",
    "    station_features = ['lat', 'long', 'fast_cnt', 'slow_cnt', 'mean_trip', 'mean_speed',\n",
    "                        'length_highway', 'length_national', 'length_local', 'length_city', \n",
    "                        'indust_ratio', 'etc_ratio', 'green_ratio', 'commerce_ratio', 'reside_ratio']\n",
    "\n",
    "    X_train = train_station[station_features].values\n",
    "    X_test = test_station[station_features].values\n",
    "\n",
    "\n",
    "    from sklearn.preprocessing import RobustScaler\n",
    "\n",
    "    scaler = RobustScaler()\n",
    "    scaler.fit(X_train)\n",
    "    X_train = scaler.transform(X_train)\n",
    "    X_test = scaler.transform(X_test)\n",
    "\n",
    "    trans = umap.UMAP(n_neighbors=5, n_components=8, metric='cosine', random_state=42).fit(X_train)\n",
    "    test_embedding = trans.transform(X_test)\n",
    "\n",
    "    pub_station_embedding = pd.concat([pd.DataFrame(data=trans.embedding_, index=train_station.sid, columns=[ 'dim_' + str(i) for i in range(8)]).reset_index(),\n",
    "                                    pd.DataFrame(data=test_embedding, index=test_station.sid, columns=[ 'dim_' + str(i) for i in range(8)]).reset_index()])\n",
    "\n",
    "    pub_station_attributes = pd.concat([pd.DataFrame(data=X_train, index=train_station.sid, columns=station_features).reset_index(),\n",
    "                                        pd.DataFrame(data=X_test, index=test_station.sid, columns=station_features).reset_index()])\n",
    "\n",
    "    pub_station_embedding.to_csv(os.path.join(save_dir, 'station_embedding.csv'), index=False)\n",
    "    pub_station_attributes.to_csv(os.path.join(save_dir,'station_attributes.csv'), index=False)\n",
    "\n",
    "    # mopdel input selection - save sequences\n",
    "    modeling_seq = seq[seq.mean(axis=1).le(0.90)].copy()\n",
    "    modeling_seq[modeling_seq.index.isin(train_station.sid)].T.reset_index().to_csv(os.path.join(save_dir, 'train_sequences_cls.csv'), index=False)\n",
    "    modeling_seq[modeling_seq.index.isin(test_station.sid)].T.reset_index().to_csv(os.path.join(save_dir, 'test_sequences_cls.csv'), index=False)"
   ]
  },
  {
   "cell_type": "code",
   "execution_count": null,
   "metadata": {},
   "outputs": [],
   "source": []
  },
  {
   "cell_type": "markdown",
   "metadata": {},
   "source": [
    "## 저장 결과 확인"
   ]
  },
  {
   "cell_type": "code",
   "execution_count": 1,
   "metadata": {},
   "outputs": [],
   "source": [
    "import os.path as osp\n",
    "import pandas as pd\n",
    "\n",
    "TEST_FRAC = 0.5\n",
    "ROOT_DIR = '../data/input_table/by_test_frac'\n",
    "\n",
    "train_seq = pd.read_csv(osp.join(ROOT_DIR, str(TEST_FRAC), 'train_sequences_cls.csv'))\n",
    "test_seq = pd.read_csv(osp.join(ROOT_DIR, str(TEST_FRAC), 'test_sequences_cls.csv'))\n",
    "\n",
    "station_attributes = pd.read_csv(osp.join(ROOT_DIR, str(TEST_FRAC), 'station_attributes.csv'))\n",
    "station_embeddings = pd.read_csv(osp.join(ROOT_DIR, str(TEST_FRAC), 'station_embedding.csv'))"
   ]
  },
  {
   "cell_type": "code",
   "execution_count": 2,
   "metadata": {},
   "outputs": [
    {
     "data": {
      "text/plain": [
       "(13248, 64)"
      ]
     },
     "execution_count": 2,
     "metadata": {},
     "output_type": "execute_result"
    }
   ],
   "source": [
    "train_seq.shape"
   ]
  },
  {
   "cell_type": "code",
   "execution_count": 5,
   "metadata": {},
   "outputs": [
    {
     "name": "stderr",
     "output_type": "stream",
     "text": [
      "/tmp/ipykernel_38451/978582919.py:1: FutureWarning: The default value of numeric_only in DataFrame.mean is deprecated. In a future version, it will default to False. In addition, specifying 'numeric_only=None' is deprecated. Select only valid columns or specify the value of numeric_only to silence this warning.\n",
      "  test_seq.mean().mean()\n"
     ]
    },
    {
     "data": {
      "text/plain": [
       "0.8564226371357332"
      ]
     },
     "execution_count": 5,
     "metadata": {},
     "output_type": "execute_result"
    }
   ],
   "source": [
    "test_seq.mean().mean()"
   ]
  },
  {
   "cell_type": "code",
   "execution_count": null,
   "metadata": {},
   "outputs": [],
   "source": []
  },
  {
   "cell_type": "code",
   "execution_count": null,
   "metadata": {},
   "outputs": [],
   "source": []
  },
  {
   "cell_type": "code",
   "execution_count": 13,
   "metadata": {},
   "outputs": [
    {
     "data": {
      "text/html": [
       "<div>\n",
       "<style scoped>\n",
       "    .dataframe tbody tr th:only-of-type {\n",
       "        vertical-align: middle;\n",
       "    }\n",
       "\n",
       "    .dataframe tbody tr th {\n",
       "        vertical-align: top;\n",
       "    }\n",
       "\n",
       "    .dataframe thead th {\n",
       "        text-align: right;\n",
       "    }\n",
       "</style>\n",
       "<table border=\"1\" class=\"dataframe\">\n",
       "  <thead>\n",
       "    <tr style=\"text-align: right;\">\n",
       "      <th></th>\n",
       "      <th>강원_강릉_강남동주민센터</th>\n",
       "      <th>강원_강릉_성덕동주민센터</th>\n",
       "      <th>강원_강릉_주문진해수욕장</th>\n",
       "      <th>강원_강릉_홍제동 공영주차장</th>\n",
       "      <th>강원_강원직할_김유정문학마을</th>\n",
       "      <th>강원_강원직할_동내면사무소</th>\n",
       "      <th>강원_강원직할_홈플러스 춘천점</th>\n",
       "      <th>강원_동해_동해지사(공용)</th>\n",
       "      <th>강원_동해_이마트 동해점</th>\n",
       "      <th>강원_삼척_홈플러스 삼척점</th>\n",
       "      <th>...</th>\n",
       "      <th>제주_제주직할_한림체육관</th>\n",
       "      <th>제주_제주직할_화북2동 공영주차장</th>\n",
       "      <th>충북_보은_보은군보건소</th>\n",
       "      <th>충북_음성_음성체육관</th>\n",
       "      <th>충북_제천_이마트 제천점</th>\n",
       "      <th>충북_증평괴산_증평문화회관</th>\n",
       "      <th>충북_진천_대소면 행정복지센터</th>\n",
       "      <th>충북_진천_음성군 근로자종합복지관</th>\n",
       "      <th>충북_충주_금릉주차장</th>\n",
       "      <th>충북_충주_성서동 공영주차장</th>\n",
       "    </tr>\n",
       "    <tr>\n",
       "      <th>time</th>\n",
       "      <th></th>\n",
       "      <th></th>\n",
       "      <th></th>\n",
       "      <th></th>\n",
       "      <th></th>\n",
       "      <th></th>\n",
       "      <th></th>\n",
       "      <th></th>\n",
       "      <th></th>\n",
       "      <th></th>\n",
       "      <th></th>\n",
       "      <th></th>\n",
       "      <th></th>\n",
       "      <th></th>\n",
       "      <th></th>\n",
       "      <th></th>\n",
       "      <th></th>\n",
       "      <th></th>\n",
       "      <th></th>\n",
       "      <th></th>\n",
       "      <th></th>\n",
       "    </tr>\n",
       "  </thead>\n",
       "  <tbody>\n",
       "    <tr>\n",
       "      <th>2021-07-01 00:00:00</th>\n",
       "      <td>1.0</td>\n",
       "      <td>1.0</td>\n",
       "      <td>1.0</td>\n",
       "      <td>1.0</td>\n",
       "      <td>1.0</td>\n",
       "      <td>1.0</td>\n",
       "      <td>1.0</td>\n",
       "      <td>1.0</td>\n",
       "      <td>1.0</td>\n",
       "      <td>1.0</td>\n",
       "      <td>...</td>\n",
       "      <td>1.0</td>\n",
       "      <td>1.0</td>\n",
       "      <td>1.0</td>\n",
       "      <td>1.0</td>\n",
       "      <td>1.0</td>\n",
       "      <td>1.0</td>\n",
       "      <td>1.0</td>\n",
       "      <td>1.0</td>\n",
       "      <td>1.0</td>\n",
       "      <td>1.0</td>\n",
       "    </tr>\n",
       "    <tr>\n",
       "      <th>2021-07-01 00:20:00</th>\n",
       "      <td>1.0</td>\n",
       "      <td>1.0</td>\n",
       "      <td>1.0</td>\n",
       "      <td>1.0</td>\n",
       "      <td>1.0</td>\n",
       "      <td>1.0</td>\n",
       "      <td>1.0</td>\n",
       "      <td>0.0</td>\n",
       "      <td>1.0</td>\n",
       "      <td>1.0</td>\n",
       "      <td>...</td>\n",
       "      <td>1.0</td>\n",
       "      <td>1.0</td>\n",
       "      <td>1.0</td>\n",
       "      <td>1.0</td>\n",
       "      <td>1.0</td>\n",
       "      <td>1.0</td>\n",
       "      <td>1.0</td>\n",
       "      <td>1.0</td>\n",
       "      <td>1.0</td>\n",
       "      <td>1.0</td>\n",
       "    </tr>\n",
       "    <tr>\n",
       "      <th>2021-07-01 00:40:00</th>\n",
       "      <td>1.0</td>\n",
       "      <td>1.0</td>\n",
       "      <td>1.0</td>\n",
       "      <td>1.0</td>\n",
       "      <td>1.0</td>\n",
       "      <td>1.0</td>\n",
       "      <td>1.0</td>\n",
       "      <td>1.0</td>\n",
       "      <td>1.0</td>\n",
       "      <td>1.0</td>\n",
       "      <td>...</td>\n",
       "      <td>1.0</td>\n",
       "      <td>1.0</td>\n",
       "      <td>1.0</td>\n",
       "      <td>1.0</td>\n",
       "      <td>1.0</td>\n",
       "      <td>0.0</td>\n",
       "      <td>1.0</td>\n",
       "      <td>1.0</td>\n",
       "      <td>1.0</td>\n",
       "      <td>1.0</td>\n",
       "    </tr>\n",
       "    <tr>\n",
       "      <th>2021-07-01 01:00:00</th>\n",
       "      <td>1.0</td>\n",
       "      <td>1.0</td>\n",
       "      <td>1.0</td>\n",
       "      <td>1.0</td>\n",
       "      <td>1.0</td>\n",
       "      <td>1.0</td>\n",
       "      <td>1.0</td>\n",
       "      <td>1.0</td>\n",
       "      <td>1.0</td>\n",
       "      <td>1.0</td>\n",
       "      <td>...</td>\n",
       "      <td>1.0</td>\n",
       "      <td>1.0</td>\n",
       "      <td>1.0</td>\n",
       "      <td>1.0</td>\n",
       "      <td>1.0</td>\n",
       "      <td>1.0</td>\n",
       "      <td>1.0</td>\n",
       "      <td>1.0</td>\n",
       "      <td>1.0</td>\n",
       "      <td>1.0</td>\n",
       "    </tr>\n",
       "    <tr>\n",
       "      <th>2021-07-01 01:20:00</th>\n",
       "      <td>1.0</td>\n",
       "      <td>1.0</td>\n",
       "      <td>1.0</td>\n",
       "      <td>1.0</td>\n",
       "      <td>1.0</td>\n",
       "      <td>1.0</td>\n",
       "      <td>1.0</td>\n",
       "      <td>1.0</td>\n",
       "      <td>1.0</td>\n",
       "      <td>1.0</td>\n",
       "      <td>...</td>\n",
       "      <td>1.0</td>\n",
       "      <td>1.0</td>\n",
       "      <td>1.0</td>\n",
       "      <td>1.0</td>\n",
       "      <td>1.0</td>\n",
       "      <td>1.0</td>\n",
       "      <td>1.0</td>\n",
       "      <td>1.0</td>\n",
       "      <td>1.0</td>\n",
       "      <td>1.0</td>\n",
       "    </tr>\n",
       "    <tr>\n",
       "      <th>...</th>\n",
       "      <td>...</td>\n",
       "      <td>...</td>\n",
       "      <td>...</td>\n",
       "      <td>...</td>\n",
       "      <td>...</td>\n",
       "      <td>...</td>\n",
       "      <td>...</td>\n",
       "      <td>...</td>\n",
       "      <td>...</td>\n",
       "      <td>...</td>\n",
       "      <td>...</td>\n",
       "      <td>...</td>\n",
       "      <td>...</td>\n",
       "      <td>...</td>\n",
       "      <td>...</td>\n",
       "      <td>...</td>\n",
       "      <td>...</td>\n",
       "      <td>...</td>\n",
       "      <td>...</td>\n",
       "      <td>...</td>\n",
       "      <td>...</td>\n",
       "    </tr>\n",
       "    <tr>\n",
       "      <th>2021-09-30 22:20:00</th>\n",
       "      <td>1.0</td>\n",
       "      <td>1.0</td>\n",
       "      <td>1.0</td>\n",
       "      <td>1.0</td>\n",
       "      <td>1.0</td>\n",
       "      <td>1.0</td>\n",
       "      <td>1.0</td>\n",
       "      <td>1.0</td>\n",
       "      <td>1.0</td>\n",
       "      <td>1.0</td>\n",
       "      <td>...</td>\n",
       "      <td>1.0</td>\n",
       "      <td>1.0</td>\n",
       "      <td>1.0</td>\n",
       "      <td>0.0</td>\n",
       "      <td>1.0</td>\n",
       "      <td>1.0</td>\n",
       "      <td>1.0</td>\n",
       "      <td>1.0</td>\n",
       "      <td>1.0</td>\n",
       "      <td>1.0</td>\n",
       "    </tr>\n",
       "    <tr>\n",
       "      <th>2021-09-30 22:40:00</th>\n",
       "      <td>1.0</td>\n",
       "      <td>1.0</td>\n",
       "      <td>1.0</td>\n",
       "      <td>1.0</td>\n",
       "      <td>1.0</td>\n",
       "      <td>1.0</td>\n",
       "      <td>1.0</td>\n",
       "      <td>1.0</td>\n",
       "      <td>1.0</td>\n",
       "      <td>1.0</td>\n",
       "      <td>...</td>\n",
       "      <td>0.0</td>\n",
       "      <td>1.0</td>\n",
       "      <td>1.0</td>\n",
       "      <td>1.0</td>\n",
       "      <td>1.0</td>\n",
       "      <td>1.0</td>\n",
       "      <td>1.0</td>\n",
       "      <td>1.0</td>\n",
       "      <td>1.0</td>\n",
       "      <td>1.0</td>\n",
       "    </tr>\n",
       "    <tr>\n",
       "      <th>2021-09-30 23:00:00</th>\n",
       "      <td>1.0</td>\n",
       "      <td>1.0</td>\n",
       "      <td>1.0</td>\n",
       "      <td>0.0</td>\n",
       "      <td>1.0</td>\n",
       "      <td>1.0</td>\n",
       "      <td>1.0</td>\n",
       "      <td>1.0</td>\n",
       "      <td>1.0</td>\n",
       "      <td>1.0</td>\n",
       "      <td>...</td>\n",
       "      <td>1.0</td>\n",
       "      <td>1.0</td>\n",
       "      <td>1.0</td>\n",
       "      <td>1.0</td>\n",
       "      <td>1.0</td>\n",
       "      <td>1.0</td>\n",
       "      <td>1.0</td>\n",
       "      <td>1.0</td>\n",
       "      <td>1.0</td>\n",
       "      <td>1.0</td>\n",
       "    </tr>\n",
       "    <tr>\n",
       "      <th>2021-09-30 23:20:00</th>\n",
       "      <td>1.0</td>\n",
       "      <td>1.0</td>\n",
       "      <td>1.0</td>\n",
       "      <td>1.0</td>\n",
       "      <td>1.0</td>\n",
       "      <td>1.0</td>\n",
       "      <td>1.0</td>\n",
       "      <td>1.0</td>\n",
       "      <td>1.0</td>\n",
       "      <td>1.0</td>\n",
       "      <td>...</td>\n",
       "      <td>1.0</td>\n",
       "      <td>1.0</td>\n",
       "      <td>1.0</td>\n",
       "      <td>1.0</td>\n",
       "      <td>1.0</td>\n",
       "      <td>1.0</td>\n",
       "      <td>1.0</td>\n",
       "      <td>1.0</td>\n",
       "      <td>1.0</td>\n",
       "      <td>1.0</td>\n",
       "    </tr>\n",
       "    <tr>\n",
       "      <th>2021-09-30 23:40:00</th>\n",
       "      <td>1.0</td>\n",
       "      <td>1.0</td>\n",
       "      <td>1.0</td>\n",
       "      <td>1.0</td>\n",
       "      <td>1.0</td>\n",
       "      <td>1.0</td>\n",
       "      <td>1.0</td>\n",
       "      <td>1.0</td>\n",
       "      <td>1.0</td>\n",
       "      <td>1.0</td>\n",
       "      <td>...</td>\n",
       "      <td>1.0</td>\n",
       "      <td>1.0</td>\n",
       "      <td>1.0</td>\n",
       "      <td>1.0</td>\n",
       "      <td>1.0</td>\n",
       "      <td>1.0</td>\n",
       "      <td>1.0</td>\n",
       "      <td>1.0</td>\n",
       "      <td>1.0</td>\n",
       "      <td>1.0</td>\n",
       "    </tr>\n",
       "  </tbody>\n",
       "</table>\n",
       "<p>6624 rows × 183 columns</p>\n",
       "</div>"
      ],
      "text/plain": [
       "                     강원_강릉_강남동주민센터  강원_강릉_성덕동주민센터  강원_강릉_주문진해수욕장  \\\n",
       "time                                                               \n",
       "2021-07-01 00:00:00            1.0            1.0            1.0   \n",
       "2021-07-01 00:20:00            1.0            1.0            1.0   \n",
       "2021-07-01 00:40:00            1.0            1.0            1.0   \n",
       "2021-07-01 01:00:00            1.0            1.0            1.0   \n",
       "2021-07-01 01:20:00            1.0            1.0            1.0   \n",
       "...                            ...            ...            ...   \n",
       "2021-09-30 22:20:00            1.0            1.0            1.0   \n",
       "2021-09-30 22:40:00            1.0            1.0            1.0   \n",
       "2021-09-30 23:00:00            1.0            1.0            1.0   \n",
       "2021-09-30 23:20:00            1.0            1.0            1.0   \n",
       "2021-09-30 23:40:00            1.0            1.0            1.0   \n",
       "\n",
       "                     강원_강릉_홍제동 공영주차장  강원_강원직할_김유정문학마을  강원_강원직할_동내면사무소  \\\n",
       "time                                                                    \n",
       "2021-07-01 00:00:00              1.0              1.0             1.0   \n",
       "2021-07-01 00:20:00              1.0              1.0             1.0   \n",
       "2021-07-01 00:40:00              1.0              1.0             1.0   \n",
       "2021-07-01 01:00:00              1.0              1.0             1.0   \n",
       "2021-07-01 01:20:00              1.0              1.0             1.0   \n",
       "...                              ...              ...             ...   \n",
       "2021-09-30 22:20:00              1.0              1.0             1.0   \n",
       "2021-09-30 22:40:00              1.0              1.0             1.0   \n",
       "2021-09-30 23:00:00              0.0              1.0             1.0   \n",
       "2021-09-30 23:20:00              1.0              1.0             1.0   \n",
       "2021-09-30 23:40:00              1.0              1.0             1.0   \n",
       "\n",
       "                     강원_강원직할_홈플러스 춘천점  강원_동해_동해지사(공용)  강원_동해_이마트 동해점  \\\n",
       "time                                                                   \n",
       "2021-07-01 00:00:00               1.0             1.0            1.0   \n",
       "2021-07-01 00:20:00               1.0             0.0            1.0   \n",
       "2021-07-01 00:40:00               1.0             1.0            1.0   \n",
       "2021-07-01 01:00:00               1.0             1.0            1.0   \n",
       "2021-07-01 01:20:00               1.0             1.0            1.0   \n",
       "...                               ...             ...            ...   \n",
       "2021-09-30 22:20:00               1.0             1.0            1.0   \n",
       "2021-09-30 22:40:00               1.0             1.0            1.0   \n",
       "2021-09-30 23:00:00               1.0             1.0            1.0   \n",
       "2021-09-30 23:20:00               1.0             1.0            1.0   \n",
       "2021-09-30 23:40:00               1.0             1.0            1.0   \n",
       "\n",
       "                     강원_삼척_홈플러스 삼척점  ...  제주_제주직할_한림체육관  제주_제주직할_화북2동 공영주차장  \\\n",
       "time                                 ...                                      \n",
       "2021-07-01 00:00:00             1.0  ...            1.0                 1.0   \n",
       "2021-07-01 00:20:00             1.0  ...            1.0                 1.0   \n",
       "2021-07-01 00:40:00             1.0  ...            1.0                 1.0   \n",
       "2021-07-01 01:00:00             1.0  ...            1.0                 1.0   \n",
       "2021-07-01 01:20:00             1.0  ...            1.0                 1.0   \n",
       "...                             ...  ...            ...                 ...   \n",
       "2021-09-30 22:20:00             1.0  ...            1.0                 1.0   \n",
       "2021-09-30 22:40:00             1.0  ...            0.0                 1.0   \n",
       "2021-09-30 23:00:00             1.0  ...            1.0                 1.0   \n",
       "2021-09-30 23:20:00             1.0  ...            1.0                 1.0   \n",
       "2021-09-30 23:40:00             1.0  ...            1.0                 1.0   \n",
       "\n",
       "                     충북_보은_보은군보건소  충북_음성_음성체육관  충북_제천_이마트 제천점  충북_증평괴산_증평문화회관  \\\n",
       "time                                                                            \n",
       "2021-07-01 00:00:00           1.0          1.0            1.0             1.0   \n",
       "2021-07-01 00:20:00           1.0          1.0            1.0             1.0   \n",
       "2021-07-01 00:40:00           1.0          1.0            1.0             0.0   \n",
       "2021-07-01 01:00:00           1.0          1.0            1.0             1.0   \n",
       "2021-07-01 01:20:00           1.0          1.0            1.0             1.0   \n",
       "...                           ...          ...            ...             ...   \n",
       "2021-09-30 22:20:00           1.0          0.0            1.0             1.0   \n",
       "2021-09-30 22:40:00           1.0          1.0            1.0             1.0   \n",
       "2021-09-30 23:00:00           1.0          1.0            1.0             1.0   \n",
       "2021-09-30 23:20:00           1.0          1.0            1.0             1.0   \n",
       "2021-09-30 23:40:00           1.0          1.0            1.0             1.0   \n",
       "\n",
       "                     충북_진천_대소면 행정복지센터  충북_진천_음성군 근로자종합복지관  충북_충주_금릉주차장  \\\n",
       "time                                                                     \n",
       "2021-07-01 00:00:00               1.0                 1.0          1.0   \n",
       "2021-07-01 00:20:00               1.0                 1.0          1.0   \n",
       "2021-07-01 00:40:00               1.0                 1.0          1.0   \n",
       "2021-07-01 01:00:00               1.0                 1.0          1.0   \n",
       "2021-07-01 01:20:00               1.0                 1.0          1.0   \n",
       "...                               ...                 ...          ...   \n",
       "2021-09-30 22:20:00               1.0                 1.0          1.0   \n",
       "2021-09-30 22:40:00               1.0                 1.0          1.0   \n",
       "2021-09-30 23:00:00               1.0                 1.0          1.0   \n",
       "2021-09-30 23:20:00               1.0                 1.0          1.0   \n",
       "2021-09-30 23:40:00               1.0                 1.0          1.0   \n",
       "\n",
       "                     충북_충주_성서동 공영주차장  \n",
       "time                                  \n",
       "2021-07-01 00:00:00              1.0  \n",
       "2021-07-01 00:20:00              1.0  \n",
       "2021-07-01 00:40:00              1.0  \n",
       "2021-07-01 01:00:00              1.0  \n",
       "2021-07-01 01:20:00              1.0  \n",
       "...                              ...  \n",
       "2021-09-30 22:20:00              1.0  \n",
       "2021-09-30 22:40:00              1.0  \n",
       "2021-09-30 23:00:00              1.0  \n",
       "2021-09-30 23:20:00              1.0  \n",
       "2021-09-30 23:40:00              1.0  \n",
       "\n",
       "[6624 rows x 183 columns]"
      ]
     },
     "execution_count": 13,
     "metadata": {},
     "output_type": "execute_result"
    }
   ],
   "source": [
    "train_seq.set_index('time').mask(lambda x: x < 0.5,  1).mask(lambda x: x != 1, 0)"
   ]
  },
  {
   "cell_type": "code",
   "execution_count": null,
   "metadata": {},
   "outputs": [],
   "source": []
  },
  {
   "cell_type": "code",
   "execution_count": null,
   "metadata": {},
   "outputs": [],
   "source": []
  },
  {
   "cell_type": "code",
   "execution_count": 33,
   "metadata": {},
   "outputs": [],
   "source": [
    "sid_encoder = {name:idx for idx, name in enumerate(station_embeddings.sid.values)}"
   ]
  },
  {
   "cell_type": "code",
   "execution_count": 34,
   "metadata": {},
   "outputs": [
    {
     "data": {
      "text/plain": [
       "0           대구_동대구_수성구민운동장\n",
       "1        제주_제주직할_제주 삼양 유적지\n",
       "2           경기_성남_성남지사(공용)\n",
       "3           경남_진주_홈플러스 진주점\n",
       "4      남서울_강동송파_천호1동 공영주차장\n",
       "              ...         \n",
       "685         부산울산_김해_문화의 전당\n",
       "686       제주_서귀포_수산1리 복지회관\n",
       "687           대구_경주_불국사주차장\n",
       "688       전북_전북직할_전북직할(공용)\n",
       "689        대구_경주_경주화백컨벤션센터\n",
       "Name: sid, Length: 690, dtype: object"
      ]
     },
     "execution_count": 34,
     "metadata": {},
     "output_type": "execute_result"
    }
   ],
   "source": [
    "station_embeddings.sid"
   ]
  },
  {
   "cell_type": "code",
   "execution_count": null,
   "metadata": {},
   "outputs": [],
   "source": []
  }
 ],
 "metadata": {
  "kernelspec": {
   "display_name": "Python 3.8.8 ('.venv': venv)",
   "language": "python",
   "name": "python3"
  },
  "language_info": {
   "codemirror_mode": {
    "name": "ipython",
    "version": 3
   },
   "file_extension": ".py",
   "mimetype": "text/x-python",
   "name": "python",
   "nbconvert_exporter": "python",
   "pygments_lexer": "ipython3",
   "version": "3.8.8"
  },
  "orig_nbformat": 4,
  "vscode": {
   "interpreter": {
    "hash": "1a2394ed48906b449187dfe720e0119b9163ad54f60a6b36bd8129b90c9e9c22"
   }
  }
 },
 "nbformat": 4,
 "nbformat_minor": 2
}
