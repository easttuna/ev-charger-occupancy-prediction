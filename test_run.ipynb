{
 "cells": [
  {
   "cell_type": "code",
   "execution_count": 2,
   "metadata": {},
   "outputs": [],
   "source": [
    "import numpy as np\n",
    "import pandas as pd\n",
    "import torch\n",
    "import torch.nn as nn\n",
    "from torch.utils.data import DataLoader\n",
    "from sklearn.metrics import r2_score\n",
    "import matplotlib.pyplot as plt\n",
    "\n",
    "from utils import split_sequences, station_features, time_features\n",
    "from dataset import EvcDataset\n",
    "from models import BaseHybrid, GatingHybrid\n",
    "from basemodels import HistoricBase, RealtimeBase, MultiSeqBase, GatingSeqBase, GatingSeqEmbedding"
   ]
  },
  {
   "cell_type": "code",
   "execution_count": 3,
   "metadata": {},
   "outputs": [],
   "source": [
    "def train(model, train_dataloader, optim, epoch, verbose=0):\n",
    "    model.train()\n",
    "    criterion = nn.MSELoss()\n",
    "    for b_i, (R, H, T, S, y) in enumerate(train_dataloader):\n",
    "        optim.zero_grad()\n",
    "        pred = model(R, H, T, S)\n",
    "        loss = criterion(pred, y)\n",
    "        loss.backward()\n",
    "        optim.step()\n",
    "        \n",
    "        if verbose:\n",
    "            if b_i % 3000 == 0:\n",
    "                print('epoch: {} [{}/{} ({:.0f}%)]\\t training loss: {:.6f}'.format(\n",
    "                    epoch, b_i * len(R), len(train_dataloader.dataset),\n",
    "                    100 * b_i / len(train_dataloader), loss.item()\n",
    "                ))\n",
    "\n",
    "def test(model, test_dataloader):\n",
    "    model.eval()\n",
    "    criterion = nn.MSELoss(reduction='sum')\n",
    "    loss = 0\n",
    "\n",
    "    with torch.no_grad():\n",
    "        pred_total = torch.Tensor()\n",
    "        y_total = torch.Tensor()\n",
    "\n",
    "        for R, H, T, S, y in test_dataloader:\n",
    "            pred = model(R, H, T, S)\n",
    "            loss += criterion(pred, y).item()\n",
    "            pred_total = torch.cat((pred_total, pred.flatten()), dim=0)\n",
    "            y_total = torch.cat((y_total, y.flatten()), dim=0)\n",
    "\n",
    "    loss /= len(test_dataloader.dataset)\n",
    "    error = y_total - pred_total\n",
    "    accuracy = 1- (torch.norm(error) / torch.norm(y_total))\n",
    "    r2 = r2_score(y_total, pred_total)\n",
    "\n",
    "    print('Test dataset:  Loss: {:.4f}, Accuracy: {:.4f}, R2: {:.4f}'.format(loss, accuracy, r2))"
   ]
  },
  {
   "cell_type": "code",
   "execution_count": 6,
   "metadata": {},
   "outputs": [
    {
     "name": "stdout",
     "output_type": "stream",
     "text": [
      "generating inputs...\n",
      "done!\n",
      "Trainset Size: 82782, Validset Size: 9198\n"
     ]
    }
   ],
   "source": [
    "history = pd.read_csv('./data/input_table/history_by_station.csv', parse_dates=['time'])\n",
    "station = pd.read_csv('./data/input_table/station_info.csv')\n",
    "data = history.set_index('time').T.reset_index().rename(columns={'index':'station_name'})\n",
    "data = data[data.station_name.isin(station.station_name)].set_index('station_name')\n",
    "data = data[data.mean(axis=1).le(0.9)]\n",
    "data = data[:30]\n",
    "\n",
    "print('generating inputs...')\n",
    "N_STEPS_IN = 12\n",
    "N_STEPS_OUT = 6\n",
    "N_HISTORY = 4\n",
    "\n",
    "n_stations = data.shape[0]\n",
    "n_windows = data.shape[1] - (N_STEPS_OUT + 336*N_HISTORY)\n",
    "R, H, Y = split_sequences(data.values, N_STEPS_IN, N_STEPS_OUT, N_HISTORY)\n",
    "T = time_features(data.columns, N_STEPS_IN, N_STEPS_OUT, N_HISTORY, n_stations)\n",
    "S = station_features(station_array=data.index, station_df=station, n_windows=n_windows) \n",
    "print('done!')\n",
    "\n",
    "R = R[:, :, np.newaxis]\n",
    "\n",
    "OUTPUT_IDX = 1\n",
    "H = H[:, OUTPUT_IDX, :, np.newaxis]\n",
    "T = T[:,OUTPUT_IDX,:]\n",
    "Y = Y[:,OUTPUT_IDX, np.newaxis]\n",
    "\n",
    "VALID_FRAC = 0.1\n",
    "num_valid = int(data.shape[0] * VALID_FRAC * n_windows)\n",
    "\n",
    "trainset = EvcDataset(R[:-num_valid,], H[:-num_valid], T[:-num_valid,], S[:-num_valid,], Y[:-num_valid,])\n",
    "validset = EvcDataset(R[-num_valid:,], H[-num_valid:,], T[-num_valid:,], S[-num_valid:,], Y[-num_valid:,])\n",
    "print(f'Trainset Size: {len(trainset)}, Validset Size: {len(validset)}')"
   ]
  },
  {
   "cell_type": "code",
   "execution_count": 11,
   "metadata": {},
   "outputs": [
    {
     "data": {
      "text/plain": [
       "(tensor([[1.0000],\n",
       "         [1.0000],\n",
       "         [0.5556],\n",
       "         [0.7556],\n",
       "         [1.0000],\n",
       "         [1.0000],\n",
       "         [1.0000],\n",
       "         [1.0000],\n",
       "         [1.0000],\n",
       "         [1.0000],\n",
       "         [1.0000],\n",
       "         [1.0000]]),\n",
       " tensor([[1.],\n",
       "         [1.],\n",
       "         [1.],\n",
       "         [1.]]),\n",
       " tensor([1, 3, 0], dtype=torch.int32),\n",
       " tensor([0, 0], dtype=torch.int32),\n",
       " tensor([1.]))"
      ]
     },
     "execution_count": 11,
     "metadata": {},
     "output_type": "execute_result"
    }
   ],
   "source": [
    "trainset[0]"
   ]
  },
  {
   "cell_type": "code",
   "execution_count": 72,
   "metadata": {},
   "outputs": [],
   "source": [
    "weights = np.where(trainset[:][-1].flatten() == 0., 1, 0.1)\n",
    "num_samples = len(trainset)\n",
    "\n",
    "sampler = torch.utils.data.WeightedRandomSampler(weights, num_samples, replacement=True, generator=None)\n"
   ]
  },
  {
   "cell_type": "code",
   "execution_count": 98,
   "metadata": {},
   "outputs": [],
   "source": [
    "train_loader = DataLoader(trainset, batch_size=32, sampler=sampler)"
   ]
  },
  {
   "cell_type": "code",
   "execution_count": 87,
   "metadata": {},
   "outputs": [],
   "source": [
    "train_loader = DataLoader(trainset, batch_size=32, shuffle=True)"
   ]
  },
  {
   "cell_type": "code",
   "execution_count": null,
   "metadata": {},
   "outputs": [],
   "source": []
  }
 ],
 "metadata": {
  "kernelspec": {
   "display_name": "Python 3.8.8 ('.venv': venv)",
   "language": "python",
   "name": "python3"
  },
  "language_info": {
   "codemirror_mode": {
    "name": "ipython",
    "version": 3
   },
   "file_extension": ".py",
   "mimetype": "text/x-python",
   "name": "python",
   "nbconvert_exporter": "python",
   "pygments_lexer": "ipython3",
   "version": "3.8.8"
  },
  "orig_nbformat": 4,
  "vscode": {
   "interpreter": {
    "hash": "1a2394ed48906b449187dfe720e0119b9163ad54f60a6b36bd8129b90c9e9c22"
   }
  }
 },
 "nbformat": 4,
 "nbformat_minor": 2
}
